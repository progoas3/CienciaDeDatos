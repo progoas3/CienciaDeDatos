{
  "nbformat": 4,
  "nbformat_minor": 0,
  "metadata": {
    "colab": {
      "provenance": [],
      "include_colab_link": true
    },
    "kernelspec": {
      "name": "python3",
      "display_name": "Python 3"
    },
    "language_info": {
      "name": "python"
    }
  },
  "cells": [
    {
      "cell_type": "markdown",
      "metadata": {
        "id": "view-in-github",
        "colab_type": "text"
      },
      "source": [
        "<a href=\"https://colab.research.google.com/github/PythonJulianPrieto/CienciaDeDatos/blob/main/EjerciciosNumpy_Numpy.ipynb\" target=\"_parent\"><img src=\"https://colab.research.google.com/assets/colab-badge.svg\" alt=\"Open In Colab\"/></a>"
      ]
    },
    {
      "cell_type": "markdown",
      "metadata": {
        "id": "MuYB4pE_viZG"
      },
      "source": [
        "# Práctica de la librería Numpy\n",
        "\n",
        "En este notebook, se desarrollarán una serie de tareas utilizando la librería Numpy (Numerical Python).\n",
        "\n",
        "Se proponen y documentan posibles formas de resolver los ejercicios, pero las mismas no son únicas.\n",
        "\n",
        "Siempre es una buena idea verificar la [Documentación Oficial de Numpy](https://numpy.org/devdocs/user/index.html), donde es posible encontrar todo tipo de información referida a esta librería. Y si te quedas trabado, busca en Google \"como hacer [algo] con Numpy\". Hay enormes probabilidades de que esa pregunta ya haya sido respondida!"
      ]
    },
    {
      "cell_type": "code",
      "metadata": {
        "id": "Hrz__kvsviZL"
      },
      "source": [
        "# Importamos Numpy con su abreviación \"np\"\n",
        "import numpy as np"
      ],
      "execution_count": 9,
      "outputs": []
    },
    {
      "cell_type": "code",
      "metadata": {
        "id": "9fwuO-3_viZM"
      },
      "source": [
        "# Podemos crear arrays de una dimensión con la función np.array()\n",
        "array_unidim = np.array([1,2,3,4,5])\n",
        "# O un array de dos dimensiones (bidimensional)\n",
        "array_dosdimensiones = np.array([[1,2,3,4,5],[1,2,3,4,5]])\n",
        "# O un array de tres dimensiones (tridimensional)\n",
        "array_tresdimensiones = np.array([[[1,2,3,4,5],[1,2,3,4,5],[1,2,3,4,5]]])"
      ],
      "execution_count": 77,
      "outputs": []
    },
    {
      "cell_type": "markdown",
      "metadata": {
        "id": "qp2_ZpJXviZN"
      },
      "source": [
        "Para cada uno de estos arrays, podemos obtener sus propiedades, tales como su \"forma\", número de dimensiones, tipos de datos y tamaño."
      ]
    },
    {
      "cell_type": "code",
      "metadata": {
        "id": "m2HD8334viZN",
        "colab": {
          "base_uri": "https://localhost:8080/"
        },
        "outputId": "df86c9ec-c704-4d18-daca-42194077cb63"
      },
      "source": [
        "# Atributos del array unidimensional (forma, número de dimensiones, tipos de datos, tamaño, y tipo)\n",
        "array_unidim.shape, array_unidim.ndim, array_unidim.dtype, array_unidim.size, type(array_unidim)"
      ],
      "execution_count": 16,
      "outputs": [
        {
          "output_type": "execute_result",
          "data": {
            "text/plain": [
              "((5,), 1, dtype('int64'), 5, numpy.ndarray)"
            ]
          },
          "metadata": {},
          "execution_count": 16
        }
      ]
    },
    {
      "cell_type": "code",
      "metadata": {
        "id": "CW6dU4z6viZO",
        "colab": {
          "base_uri": "https://localhost:8080/"
        },
        "outputId": "b63a0dd8-bb3a-4b24-f0b3-26cc939e4373"
      },
      "source": [
        "# Atributos del array bidimensional\n",
        "array_dosdimensiones.shape, array_dosdimensiones.ndim, array_dosdimensiones.dtype, array_dosdimensiones.size, type(array_dosdimensiones)"
      ],
      "execution_count": 17,
      "outputs": [
        {
          "output_type": "execute_result",
          "data": {
            "text/plain": [
              "((2, 5), 2, dtype('int64'), 10, numpy.ndarray)"
            ]
          },
          "metadata": {},
          "execution_count": 17
        }
      ]
    },
    {
      "cell_type": "code",
      "metadata": {
        "id": "2dQw-98tviZP",
        "colab": {
          "base_uri": "https://localhost:8080/"
        },
        "outputId": "5e249842-a51d-44b6-f7a1-f0204b7c8ae0"
      },
      "source": [
        "# Atributos del array tridimensional\n",
        "array_tresdimensiones.shape, array_tresdimensiones.ndim, array_tresdimensiones.dtype, array_tresdimensiones.size, type(array_tresdimensiones)"
      ],
      "execution_count": 18,
      "outputs": [
        {
          "output_type": "execute_result",
          "data": {
            "text/plain": [
              "((1, 3, 5), 3, dtype('int64'), 15, numpy.ndarray)"
            ]
          },
          "metadata": {},
          "execution_count": 18
        }
      ]
    },
    {
      "cell_type": "code",
      "metadata": {
        "id": "bqWXuSpEviZQ"
      },
      "source": [
        "# Importamos pandas como pd, y creamos un DataFrame a partir del array bidimensional\n",
        "import pandas as pd"
      ],
      "execution_count": 20,
      "outputs": []
    },
    {
      "cell_type": "code",
      "metadata": {
        "id": "uxuBbWJlviZQ",
        "colab": {
          "base_uri": "https://localhost:8080/"
        },
        "outputId": "bd0dd7be-d227-4895-98f5-a91273948414"
      },
      "source": [
        "# Creamos un array de tamaño 4x3, formado únicamente por unos (1)\n",
        "unos = np.ones((4,3))\n",
        "unos"
      ],
      "execution_count": 25,
      "outputs": [
        {
          "output_type": "execute_result",
          "data": {
            "text/plain": [
              "array([[1., 1., 1.],\n",
              "       [1., 1., 1.],\n",
              "       [1., 1., 1.],\n",
              "       [1., 1., 1.]])"
            ]
          },
          "metadata": {},
          "execution_count": 25
        }
      ]
    },
    {
      "cell_type": "code",
      "metadata": {
        "id": "lf4ntwB-viZR",
        "colab": {
          "base_uri": "https://localhost:8080/"
        },
        "outputId": "3253d57e-73ba-4635-e57d-9985c80c0f89"
      },
      "source": [
        "# Creamos un array de tamaño 2x4x3, formado únicamente por ceros (0)\n",
        "cero = np.zeros((2,4,3))\n",
        "cero"
      ],
      "execution_count": 27,
      "outputs": [
        {
          "output_type": "execute_result",
          "data": {
            "text/plain": [
              "array([[[0., 0., 0.],\n",
              "        [0., 0., 0.],\n",
              "        [0., 0., 0.],\n",
              "        [0., 0., 0.]],\n",
              "\n",
              "       [[0., 0., 0.],\n",
              "        [0., 0., 0.],\n",
              "        [0., 0., 0.],\n",
              "        [0., 0., 0.]]])"
            ]
          },
          "metadata": {},
          "execution_count": 27
        }
      ]
    },
    {
      "cell_type": "code",
      "metadata": {
        "id": "HSJS5vPvviZS",
        "colab": {
          "base_uri": "https://localhost:8080/"
        },
        "outputId": "e1a29699-c874-418c-c001-90dddf71090b"
      },
      "source": [
        "# Creamos un array de números en el rango de 0 a 100, con un paso de 5\n",
        "numeros = np.arange(0,101,5)\n",
        "numeros"
      ],
      "execution_count": 29,
      "outputs": [
        {
          "output_type": "execute_result",
          "data": {
            "text/plain": [
              "array([  0,   5,  10,  15,  20,  25,  30,  35,  40,  45,  50,  55,  60,\n",
              "        65,  70,  75,  80,  85,  90,  95, 100])"
            ]
          },
          "metadata": {},
          "execution_count": 29
        }
      ]
    },
    {
      "cell_type": "code",
      "metadata": {
        "id": "IuSvyty3viZT",
        "colab": {
          "base_uri": "https://localhost:8080/"
        },
        "outputId": "d7eb857f-cf7b-4b3f-f7ab-ec15b4523442"
      },
      "source": [
        "# Creamos un array de números aleatorios enteros comprendidos en entre 0 y 10, de tamaño (2, 5)\n",
        "random = np.random.randint(0,10,(2,5))\n",
        "random"
      ],
      "execution_count": 32,
      "outputs": [
        {
          "output_type": "execute_result",
          "data": {
            "text/plain": [
              "array([[5, 4, 0, 3, 7],\n",
              "       [0, 4, 2, 1, 3]])"
            ]
          },
          "metadata": {},
          "execution_count": 32
        }
      ]
    },
    {
      "cell_type": "code",
      "metadata": {
        "id": "grncP2mwviZT",
        "colab": {
          "base_uri": "https://localhost:8080/"
        },
        "outputId": "778235be-73a2-49c5-c98e-ac9926158802"
      },
      "source": [
        "# Creamos un array de números aleatorios decimales comprendidos en entre 0 y 1, de tamaño (3, 5)\n",
        "random2 = np.random.random((3,5))\n",
        "random2"
      ],
      "execution_count": 34,
      "outputs": [
        {
          "output_type": "execute_result",
          "data": {
            "text/plain": [
              "array([[0.51485845, 0.93231381, 0.15583373, 0.53114071, 0.15649823],\n",
              "       [0.68134443, 0.65820888, 0.70642895, 0.58800081, 0.06297546],\n",
              "       [0.60736897, 0.34270648, 0.00937575, 0.00614988, 0.87107193]])"
            ]
          },
          "metadata": {},
          "execution_count": 34
        }
      ]
    },
    {
      "cell_type": "code",
      "metadata": {
        "id": "8pCexJ6zviZT",
        "colab": {
          "base_uri": "https://localhost:8080/"
        },
        "outputId": "63181a23-3ad2-424f-d947-46ceebfd3d2d"
      },
      "source": [
        "# Establecemos la \"semilla\" de números aleatorios en 27\n",
        "np.random.seed(27)\n",
        "# Creamos un array de números aleatorios enteros comprendidos en entre 0 y 10, de tamaño (3, 5)\n",
        "random = np.random.randint(0,10,(3,5))\n",
        "random"
      ],
      "execution_count": 36,
      "outputs": [
        {
          "output_type": "execute_result",
          "data": {
            "text/plain": [
              "array([[3, 8, 8, 8, 0],\n",
              "       [5, 8, 9, 1, 2],\n",
              "       [1, 1, 4, 6, 3]])"
            ]
          },
          "metadata": {},
          "execution_count": 36
        }
      ]
    },
    {
      "cell_type": "markdown",
      "metadata": {
        "id": "N41yqfNDviZU"
      },
      "source": [
        "¿Qué ocurre al correr la última celda nuevamente, a diferencia de las anteriores?"
      ]
    },
    {
      "cell_type": "code",
      "metadata": {
        "id": "acrAc-j4viZY",
        "colab": {
          "base_uri": "https://localhost:8080/"
        },
        "outputId": "b22a45d2-93e6-4cdb-a93c-9fce1aab8161"
      },
      "source": [
        "# Encontramos los valores únicos del array_4\n",
        "np.unique(random)"
      ],
      "execution_count": 37,
      "outputs": [
        {
          "output_type": "execute_result",
          "data": {
            "text/plain": [
              "array([0, 1, 2, 3, 4, 5, 6, 8, 9])"
            ]
          },
          "metadata": {},
          "execution_count": 37
        }
      ]
    },
    {
      "cell_type": "code",
      "metadata": {
        "id": "d-pXWguvviZZ",
        "colab": {
          "base_uri": "https://localhost:8080/"
        },
        "outputId": "6e0f0545-6f1c-427c-9f23-3d9bb1c33c93"
      },
      "source": [
        "# Extraemos el elemento de índice 1 del array_4\n",
        "random[1]"
      ],
      "execution_count": 38,
      "outputs": [
        {
          "output_type": "execute_result",
          "data": {
            "text/plain": [
              "array([5, 8, 9, 1, 2])"
            ]
          },
          "metadata": {},
          "execution_count": 38
        }
      ]
    },
    {
      "cell_type": "code",
      "metadata": {
        "id": "cVx_UouPviZa",
        "colab": {
          "base_uri": "https://localhost:8080/"
        },
        "outputId": "aa499b60-57f9-43a8-8c4f-dea793b972b9"
      },
      "source": [
        "# Extraemos las primeras dos filas del array_4\n",
        "random[0:2]"
      ],
      "execution_count": 40,
      "outputs": [
        {
          "output_type": "execute_result",
          "data": {
            "text/plain": [
              "array([[3, 8, 8, 8, 0],\n",
              "       [5, 8, 9, 1, 2]])"
            ]
          },
          "metadata": {},
          "execution_count": 40
        }
      ]
    },
    {
      "cell_type": "code",
      "metadata": {
        "id": "rIsVaI-JviZa",
        "colab": {
          "base_uri": "https://localhost:8080/"
        },
        "outputId": "e4df2d52-fb20-456b-aac0-a44f5b72af66"
      },
      "source": [
        "# Extraemos los dos primeros datos de las primeras dos filas del array_4\n",
        "random[:2,:2]"
      ],
      "execution_count": 41,
      "outputs": [
        {
          "output_type": "execute_result",
          "data": {
            "text/plain": [
              "array([[3, 8],\n",
              "       [5, 8]])"
            ]
          },
          "metadata": {},
          "execution_count": 41
        }
      ]
    },
    {
      "cell_type": "code",
      "metadata": {
        "id": "3sw4JCF6viZb"
      },
      "source": [
        "# Creamos dos arrays de tamaño 3x4: uno relleno de números aleatorios entre 0 y 10, y otro relleno de unos\n",
        "array_5 = np.random.randint(0,10,(3,4))\n",
        "array_6 = np.ones((3,4))"
      ],
      "execution_count": 44,
      "outputs": []
    },
    {
      "cell_type": "code",
      "metadata": {
        "id": "kVas2wqdviZb",
        "colab": {
          "base_uri": "https://localhost:8080/"
        },
        "outputId": "38fb5081-fb0f-4276-8243-9fd8b4317470"
      },
      "source": [
        "# invocamos el array_5\n",
        "array_5"
      ],
      "execution_count": 45,
      "outputs": [
        {
          "output_type": "execute_result",
          "data": {
            "text/plain": [
              "array([[1, 1, 7, 0],\n",
              "       [7, 8, 4, 9],\n",
              "       [0, 4, 7, 0]])"
            ]
          },
          "metadata": {},
          "execution_count": 45
        }
      ]
    },
    {
      "cell_type": "code",
      "metadata": {
        "id": "ZnZoUjRIviZb",
        "colab": {
          "base_uri": "https://localhost:8080/"
        },
        "outputId": "7d947d13-9a33-40be-8739-b15378535abb"
      },
      "source": [
        "# invocamos el array_6\n",
        "array_6"
      ],
      "execution_count": 46,
      "outputs": [
        {
          "output_type": "execute_result",
          "data": {
            "text/plain": [
              "array([[1., 1., 1., 1.],\n",
              "       [1., 1., 1., 1.],\n",
              "       [1., 1., 1., 1.]])"
            ]
          },
          "metadata": {},
          "execution_count": 46
        }
      ]
    },
    {
      "cell_type": "code",
      "metadata": {
        "id": "EoBkbsHqviZb",
        "colab": {
          "base_uri": "https://localhost:8080/"
        },
        "outputId": "3d595763-7c16-4bb6-a67f-398960a7b950"
      },
      "source": [
        "# Sumamos los dos arrays\n",
        "array_7 = array_6 + array_5\n",
        "array_7"
      ],
      "execution_count": 47,
      "outputs": [
        {
          "output_type": "execute_result",
          "data": {
            "text/plain": [
              "array([[ 2.,  2.,  8.,  1.],\n",
              "       [ 8.,  9.,  5., 10.],\n",
              "       [ 1.,  5.,  8.,  1.]])"
            ]
          },
          "metadata": {},
          "execution_count": 47
        }
      ]
    },
    {
      "cell_type": "code",
      "metadata": {
        "id": "493z2XKFviZc"
      },
      "source": [
        "# Creamos ahora un array de tamaño (4,3) lleno de unos\n",
        "array_8 = np.ones((4,3))"
      ],
      "execution_count": 48,
      "outputs": []
    },
    {
      "cell_type": "code",
      "metadata": {
        "id": "f19RtdoYviZc",
        "colab": {
          "base_uri": "https://localhost:8080/",
          "height": 183
        },
        "outputId": "a3741df3-e811-4f8b-8dcf-09e67fd9ef5f"
      },
      "source": [
        "# Intentaremos sumar los arrays 6 y 7\n",
        "array_9 = array_8 + array_7"
      ],
      "execution_count": 49,
      "outputs": [
        {
          "output_type": "error",
          "ename": "ValueError",
          "evalue": "ignored",
          "traceback": [
            "\u001b[0;31m---------------------------------------------------------------------------\u001b[0m",
            "\u001b[0;31mValueError\u001b[0m                                Traceback (most recent call last)",
            "\u001b[0;32m<ipython-input-49-03bdcef49f8c>\u001b[0m in \u001b[0;36m<cell line: 2>\u001b[0;34m()\u001b[0m\n\u001b[1;32m      1\u001b[0m \u001b[0;31m# Intentaremos sumar los arrays 6 y 7\u001b[0m\u001b[0;34m\u001b[0m\u001b[0;34m\u001b[0m\u001b[0m\n\u001b[0;32m----> 2\u001b[0;31m \u001b[0marray_9\u001b[0m \u001b[0;34m=\u001b[0m \u001b[0marray_8\u001b[0m \u001b[0;34m+\u001b[0m \u001b[0marray_7\u001b[0m\u001b[0;34m\u001b[0m\u001b[0;34m\u001b[0m\u001b[0m\n\u001b[0m",
            "\u001b[0;31mValueError\u001b[0m: operands could not be broadcast together with shapes (4,3) (3,4) "
          ]
        }
      ]
    },
    {
      "cell_type": "markdown",
      "metadata": {
        "id": "wZKsfqU4viZc"
      },
      "source": [
        "¿A qué se debe el error anterior? ¿Qué deberíamos tener en cuenta para que no suceda?"
      ]
    },
    {
      "cell_type": "code",
      "metadata": {
        "id": "obwyxLmWviZc"
      },
      "source": [
        "# Entonces crearemos otro array de tamaño (4,3) lleno de unos\n",
        "array_10 = np.ones((4,3))"
      ],
      "execution_count": 50,
      "outputs": []
    },
    {
      "cell_type": "code",
      "metadata": {
        "id": "JyBEsQ5NviZd",
        "colab": {
          "base_uri": "https://localhost:8080/"
        },
        "outputId": "e348a71b-732b-4731-96e8-ef8e01b599b7"
      },
      "source": [
        "# Restamos el array_8 al array_7\n",
        "array_11 = array_10 - array_8\n",
        "array_11"
      ],
      "execution_count": 59,
      "outputs": [
        {
          "output_type": "execute_result",
          "data": {
            "text/plain": [
              "array([[0., 0., 0.],\n",
              "       [0., 0., 0.],\n",
              "       [0., 0., 0.],\n",
              "       [0., 0., 0.]])"
            ]
          },
          "metadata": {},
          "execution_count": 59
        }
      ]
    },
    {
      "cell_type": "code",
      "metadata": {
        "id": "utZb5NTzviZd"
      },
      "source": [
        "# Creamos otros dos arrays de tamaño 3x3 con números aleatorios del 1 al 5\n",
        "array_12 = np.random.randint(1,5,(3,3))\n",
        "array_13 = np.random.randint(1,5,(3,3))"
      ],
      "execution_count": 52,
      "outputs": []
    },
    {
      "cell_type": "code",
      "metadata": {
        "id": "u1vV-B5C2vSk",
        "colab": {
          "base_uri": "https://localhost:8080/"
        },
        "outputId": "5d930c57-bca7-49dc-aa02-5ea476bd0da1"
      },
      "source": [
        "# invocamos el array_9\n",
        "array_12"
      ],
      "execution_count": 53,
      "outputs": [
        {
          "output_type": "execute_result",
          "data": {
            "text/plain": [
              "array([[2, 4, 2],\n",
              "       [3, 3, 1],\n",
              "       [4, 4, 1]])"
            ]
          },
          "metadata": {},
          "execution_count": 53
        }
      ]
    },
    {
      "cell_type": "code",
      "metadata": {
        "id": "79rO6fGL2wvE",
        "colab": {
          "base_uri": "https://localhost:8080/"
        },
        "outputId": "864dfda2-bb07-4f23-bd19-cf7132c70900"
      },
      "source": [
        "# invocamos el array_10\n",
        "array_13"
      ],
      "execution_count": 54,
      "outputs": [
        {
          "output_type": "execute_result",
          "data": {
            "text/plain": [
              "array([[4, 2, 2],\n",
              "       [2, 1, 2],\n",
              "       [2, 2, 3]])"
            ]
          },
          "metadata": {},
          "execution_count": 54
        }
      ]
    },
    {
      "cell_type": "code",
      "metadata": {
        "id": "ZhBCrrbKviZd",
        "colab": {
          "base_uri": "https://localhost:8080/"
        },
        "outputId": "3a1dc4c6-316b-49ca-8ea8-b79369871dc0"
      },
      "source": [
        "# Multiplicamos los últimos dos arrays entre sí\n",
        "array_14 = array_13 * array_12\n",
        "array_14"
      ],
      "execution_count": 55,
      "outputs": [
        {
          "output_type": "execute_result",
          "data": {
            "text/plain": [
              "array([[8, 8, 4],\n",
              "       [6, 3, 2],\n",
              "       [8, 8, 3]])"
            ]
          },
          "metadata": {},
          "execution_count": 55
        }
      ]
    },
    {
      "cell_type": "code",
      "metadata": {
        "id": "-u-zydBZviZd",
        "colab": {
          "base_uri": "https://localhost:8080/"
        },
        "outputId": "35fcb82e-4e56-4ec1-fc9e-335101529746"
      },
      "source": [
        "# Elevamos el array_9 al cuadrado\n",
        "array_15 = array_12 ** 2\n",
        "array_15"
      ],
      "execution_count": 61,
      "outputs": [
        {
          "output_type": "execute_result",
          "data": {
            "text/plain": [
              "array([[ 4, 16,  4],\n",
              "       [ 9,  9,  1],\n",
              "       [16, 16,  1]])"
            ]
          },
          "metadata": {},
          "execution_count": 61
        }
      ]
    },
    {
      "cell_type": "code",
      "metadata": {
        "id": "dMEqsjSD3D6F",
        "colab": {
          "base_uri": "https://localhost:8080/"
        },
        "outputId": "3212fd53-a6e0-4fe8-d155-2e80652334b5"
      },
      "source": [
        "# Buscamos la raíz cuadrada del array_10\n",
        "np.sqrt(array_13)"
      ],
      "execution_count": 60,
      "outputs": [
        {
          "output_type": "execute_result",
          "data": {
            "text/plain": [
              "array([[2.        , 1.41421356, 1.41421356],\n",
              "       [1.41421356, 1.        , 1.41421356],\n",
              "       [1.41421356, 1.41421356, 1.73205081]])"
            ]
          },
          "metadata": {},
          "execution_count": 60
        }
      ]
    },
    {
      "cell_type": "code",
      "metadata": {
        "id": "4TlMFRRFviZd",
        "colab": {
          "base_uri": "https://localhost:8080/"
        },
        "outputId": "2ce8cef1-9de6-4a39-dd72-0db479f9bf1a"
      },
      "source": [
        "# Hallamos el promedio de los valores del array_9\n",
        "array_12.mean()"
      ],
      "execution_count": 64,
      "outputs": [
        {
          "output_type": "execute_result",
          "data": {
            "text/plain": [
              "2.6666666666666665"
            ]
          },
          "metadata": {},
          "execution_count": 64
        }
      ]
    },
    {
      "cell_type": "code",
      "metadata": {
        "id": "mu1-ASw7viZd",
        "colab": {
          "base_uri": "https://localhost:8080/"
        },
        "outputId": "8edb72f8-1b56-4f1a-fd33-ca82e6e4eaf7"
      },
      "source": [
        "# Hallamos el valor máximo de los valores del array_9\n",
        "array_18 = np.max(array_12)\n",
        "array_18"
      ],
      "execution_count": 62,
      "outputs": [
        {
          "output_type": "execute_result",
          "data": {
            "text/plain": [
              "4"
            ]
          },
          "metadata": {},
          "execution_count": 62
        }
      ]
    },
    {
      "cell_type": "code",
      "metadata": {
        "id": "iKAPHmnVviZe",
        "colab": {
          "base_uri": "https://localhost:8080/"
        },
        "outputId": "c90d8319-cfe3-49e3-d310-6ae9cd1a46d2"
      },
      "source": [
        "# Hallamos el valor mínimo de los valores del array_9\n",
        "array_19 = np.min(array_12)\n",
        "array_19"
      ],
      "execution_count": 63,
      "outputs": [
        {
          "output_type": "execute_result",
          "data": {
            "text/plain": [
              "1"
            ]
          },
          "metadata": {},
          "execution_count": 63
        }
      ]
    },
    {
      "cell_type": "code",
      "metadata": {
        "id": "K2N9WX6dviZe"
      },
      "source": [
        "# Cambiamos la forma del array_9 por una de 9x1, y lo almacenamos como array_11\n",
        "array_19 = array_12.reshape((9,1))"
      ],
      "execution_count": 66,
      "outputs": []
    },
    {
      "cell_type": "code",
      "metadata": {
        "id": "YM2wKMOk3vrJ",
        "colab": {
          "base_uri": "https://localhost:8080/"
        },
        "outputId": "46cc76de-1bac-4e5d-f4eb-e8008272022d"
      },
      "source": [
        "# invocamos el array_11\n",
        "array_19"
      ],
      "execution_count": 67,
      "outputs": [
        {
          "output_type": "execute_result",
          "data": {
            "text/plain": [
              "array([[2],\n",
              "       [4],\n",
              "       [2],\n",
              "       [3],\n",
              "       [3],\n",
              "       [1],\n",
              "       [4],\n",
              "       [4],\n",
              "       [1]])"
            ]
          },
          "metadata": {},
          "execution_count": 67
        }
      ]
    },
    {
      "cell_type": "code",
      "metadata": {
        "id": "hjv049niviZe",
        "colab": {
          "base_uri": "https://localhost:8080/"
        },
        "outputId": "dc8ed834-f529-4902-9d64-d1b3380495a6"
      },
      "source": [
        "# Transponemos el array_11\n",
        "array_19.T"
      ],
      "execution_count": 68,
      "outputs": [
        {
          "output_type": "execute_result",
          "data": {
            "text/plain": [
              "array([[2, 4, 2, 3, 3, 1, 4, 4, 1]])"
            ]
          },
          "metadata": {},
          "execution_count": 68
        }
      ]
    },
    {
      "cell_type": "code",
      "metadata": {
        "id": "ygIkkZcwviZg",
        "colab": {
          "base_uri": "https://localhost:8080/"
        },
        "outputId": "e3fa6ce7-94c2-4ba9-fadd-060a466c3965"
      },
      "source": [
        "# Comparamos el array_9 y el array_10, para saber cuáles elementos del array_9 son mayores a los del array_10\n",
        "array_20 = array_12 > array_13\n",
        "array_20"
      ],
      "execution_count": 69,
      "outputs": [
        {
          "output_type": "execute_result",
          "data": {
            "text/plain": [
              "array([[False,  True, False],\n",
              "       [ True,  True, False],\n",
              "       [ True,  True, False]])"
            ]
          },
          "metadata": {},
          "execution_count": 69
        }
      ]
    },
    {
      "cell_type": "markdown",
      "metadata": {
        "id": "-MNVhc50viZg"
      },
      "source": [
        "¿Qué tipos de datos forman parte del array de resultados?"
      ]
    },
    {
      "cell_type": "code",
      "metadata": {
        "id": "JRRyJjDdEUd4",
        "colab": {
          "base_uri": "https://localhost:8080/"
        },
        "outputId": "c5488c82-c89f-4bc2-f58a-018786f47ccf"
      },
      "source": [
        "# Veamos sus nuevos tipos de datos\n",
        "array_20.dtype"
      ],
      "execution_count": 71,
      "outputs": [
        {
          "output_type": "execute_result",
          "data": {
            "text/plain": [
              "dtype('bool')"
            ]
          },
          "metadata": {},
          "execution_count": 71
        }
      ]
    },
    {
      "cell_type": "code",
      "metadata": {
        "id": "toyvK5rYviZh",
        "colab": {
          "base_uri": "https://localhost:8080/"
        },
        "outputId": "991ced9b-e3b3-4716-dfc5-b395343b6985"
      },
      "source": [
        "# Alguno de los elementos del array_9 es igual su equivalente del array_10?\n",
        "array_12 == array_13"
      ],
      "execution_count": 72,
      "outputs": [
        {
          "output_type": "execute_result",
          "data": {
            "text/plain": [
              "array([[False, False,  True],\n",
              "       [False, False, False],\n",
              "       [False, False, False]])"
            ]
          },
          "metadata": {},
          "execution_count": 72
        }
      ]
    },
    {
      "cell_type": "code",
      "metadata": {
        "id": "FXguC1-UviZg",
        "colab": {
          "base_uri": "https://localhost:8080/"
        },
        "outputId": "4ee411be-64a6-49d9-bcb7-56621bf96359"
      },
      "source": [
        "# Comparamos nuevamente ambos arrays, en esta ocasión con >=\n",
        "array_12 >= array_13"
      ],
      "execution_count": 73,
      "outputs": [
        {
          "output_type": "execute_result",
          "data": {
            "text/plain": [
              "array([[False,  True,  True],\n",
              "       [ True,  True, False],\n",
              "       [ True,  True, False]])"
            ]
          },
          "metadata": {},
          "execution_count": 73
        }
      ]
    },
    {
      "cell_type": "code",
      "metadata": {
        "id": "Ws2bJ0ZEviZg",
        "colab": {
          "base_uri": "https://localhost:8080/"
        },
        "outputId": "4ed1bd28-64a8-4841-c165-8434cdf4e606"
      },
      "source": [
        "# Buscamos los elementos del array_9 que son mayores a 2\n",
        "array_12 > 2"
      ],
      "execution_count": 75,
      "outputs": [
        {
          "output_type": "execute_result",
          "data": {
            "text/plain": [
              "array([[False,  True, False],\n",
              "       [ True,  True, False],\n",
              "       [ True,  True, False]])"
            ]
          },
          "metadata": {},
          "execution_count": 75
        }
      ]
    },
    {
      "cell_type": "code",
      "metadata": {
        "id": "z4XeFVsoviZh",
        "colab": {
          "base_uri": "https://localhost:8080/"
        },
        "outputId": "c13da0d7-ab6a-4410-a841-93ce7406a6bd"
      },
      "source": [
        "# Ordenamos de menor a mayor los elementos dentro del array_9\n",
        "np.sort(array_12)"
      ],
      "execution_count": 76,
      "outputs": [
        {
          "output_type": "execute_result",
          "data": {
            "text/plain": [
              "array([[2, 2, 4],\n",
              "       [1, 3, 3],\n",
              "       [1, 4, 4]])"
            ]
          },
          "metadata": {},
          "execution_count": 76
        }
      ]
    }
  ]
}