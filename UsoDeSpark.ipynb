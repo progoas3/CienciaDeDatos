{
  "nbformat": 4,
  "nbformat_minor": 0,
  "metadata": {
    "colab": {
      "provenance": [],
      "authorship_tag": "ABX9TyNwcKCxYrsr2cAEalABN0YS",
      "include_colab_link": true
    },
    "kernelspec": {
      "name": "python3",
      "display_name": "Python 3"
    },
    "language_info": {
      "name": "python"
    }
  },
  "cells": [
    {
      "cell_type": "markdown",
      "metadata": {
        "id": "view-in-github",
        "colab_type": "text"
      },
      "source": [
        "<a href=\"https://colab.research.google.com/github/PythonJulianPrieto/CienciaDeDatos/blob/main/UsoDeSpark.ipynb\" target=\"_parent\"><img src=\"https://colab.research.google.com/assets/colab-badge.svg\" alt=\"Open In Colab\"/></a>"
      ]
    },
    {
      "cell_type": "code",
      "execution_count": null,
      "metadata": {
        "id": "GbOO7ZpeeYzX"
      },
      "outputs": [],
      "source": [
        "!wget https://downloads.apache.org/spark/spark-3.2.0/spark-3.2.0-bin-hadoop3.2.tgz\n",
        "!tar -xvf /content/spark-3.2.0-bin-hadoop3.2.tgz\n",
        "import os\n",
        "\n",
        "os.environ['SPARK_HOME'] = '/content/spark-3.2.0-bin-hadoop3.2'\n",
        "!pip install -q findspark\n",
        "\n",
        "import findspark\n",
        "\n",
        "findspark.init()\n",
        "\n"
      ]
    },
    {
      "cell_type": "markdown",
      "source": [
        "#***Acoplar Spark y configurar la sesion de SPARKSQL***"
      ],
      "metadata": {
        "id": "CKzZ4WxdiaIK"
      }
    },
    {
      "cell_type": "code",
      "source": [
        "#Configurar la sesión para Spark-SQ\n",
        "from pyspark.sql import SparkSession"
      ],
      "metadata": {
        "id": "-o4seHo8ih23"
      },
      "execution_count": null,
      "outputs": []
    },
    {
      "cell_type": "code",
      "source": [
        "spark = SparkSession.builder.master('local[*]').appName('Ejercicio').getOrCreate()"
      ],
      "metadata": {
        "id": "velz0LA3kdui"
      },
      "execution_count": null,
      "outputs": []
    },
    {
      "cell_type": "markdown",
      "source": [
        "#***USAR DATAFRAMES EN SPARK***#"
      ],
      "metadata": {
        "id": "Nt7hASvXkg_L"
      }
    },
    {
      "cell_type": "markdown",
      "source": [
        "***Pequeño ejemplo de dataframes y pandas.***\n",
        "\n",
        "este ejercicio solo aplica para el dataframe de pandas"
      ],
      "metadata": {
        "id": "pdUOJ20yk61h"
      }
    },
    {
      "cell_type": "code",
      "source": [
        "#Importar las librerias de pandas\n",
        "import pandas as pd"
      ],
      "metadata": {
        "id": "K1Nv_NTBlAva"
      },
      "execution_count": null,
      "outputs": []
    },
    {
      "cell_type": "code",
      "source": [
        "#serie = pd.Series(data,index = index)\n",
        "\n",
        "curso = pd.Series(['Julian', 'Alfredo', 'Maria', 'Danna', 'Carlos'],index = [1,2,3,4,5])\n"
      ],
      "metadata": {
        "id": "LtvrDv4LlN-b"
      },
      "execution_count": null,
      "outputs": []
    },
    {
      "cell_type": "code",
      "source": [
        "print(curso)\n",
        "type(curso)"
      ],
      "metadata": {
        "colab": {
          "base_uri": "https://localhost:8080/"
        },
        "id": "maoMqSbnmXvT",
        "outputId": "c89d1317-42e8-4b58-8c4f-e7017867378f"
      },
      "execution_count": null,
      "outputs": [
        {
          "output_type": "stream",
          "name": "stdout",
          "text": [
            "1     Julian\n",
            "2    Alfredo\n",
            "3      Maria\n",
            "4      Danna\n",
            "5     Carlos\n",
            "dtype: object\n"
          ]
        },
        {
          "output_type": "execute_result",
          "data": {
            "text/plain": [
              "pandas.core.series.Series"
            ]
          },
          "metadata": {},
          "execution_count": 34
        }
      ]
    },
    {
      "cell_type": "markdown",
      "source": [
        "#***DATAFRAMES DE SPARK***\n",
        "\n",
        "Mantiene el concepto de DataFrames de pandas, pero la esctructura es un ***RDD*** de spark\n",
        "\n",
        "podemos crear un dataframe de un archivo, una consulta, un dataworkhouse, Json, Generar almacenamiento.\n",
        "\n"
      ],
      "metadata": {
        "id": "-8qVzhKHmyyh"
      }
    },
    {
      "cell_type": "markdown",
      "source": [
        "##Creacicon del DataFrame desde listas o arreglos en el framework de trabajo"
      ],
      "metadata": {
        "id": "cMluwVQpn5ha"
      }
    },
    {
      "cell_type": "code",
      "source": [
        "calificaciones = [('Julian',4.6),('pepe', 5.0),('Alfredo',3.4),('Miguel', 4.7,),('martha',2.5)]\n",
        "print(calificaciones)\n",
        "type(calificaciones)"
      ],
      "metadata": {
        "colab": {
          "base_uri": "https://localhost:8080/"
        },
        "id": "5q3i6MVJn_0R",
        "outputId": "2024d845-c087-4d08-f83a-95eb7cea19f9"
      },
      "execution_count": null,
      "outputs": [
        {
          "output_type": "stream",
          "name": "stdout",
          "text": [
            "[('Julian', 4.6), ('pepe', 5.0), ('Alfredo', 3.4), ('Miguel', 4.7), ('martha', 2.5)]\n"
          ]
        },
        {
          "output_type": "execute_result",
          "data": {
            "text/plain": [
              "list"
            ]
          },
          "metadata": {},
          "execution_count": 45
        }
      ]
    },
    {
      "cell_type": "code",
      "source": [
        "#Convertimos la lista de pandas (Python) a un DataFrame\n",
        "df = spark.createDataFrame(calificaciones,[\"Nombre\", \"Notas\"])\n"
      ],
      "metadata": {
        "id": "sdpvOo4to7PB"
      },
      "execution_count": null,
      "outputs": []
    },
    {
      "cell_type": "code",
      "source": [
        "df.show()"
      ],
      "metadata": {
        "colab": {
          "base_uri": "https://localhost:8080/"
        },
        "id": "NIFmyI_jrHmy",
        "outputId": "3272b768-ca7d-474d-a045-bdd51c6ad7d4"
      },
      "execution_count": null,
      "outputs": [
        {
          "output_type": "stream",
          "name": "stdout",
          "text": [
            "+-------+-----+\n",
            "| Nombre|Notas|\n",
            "+-------+-----+\n",
            "| Julian|  4.6|\n",
            "|   pepe|  5.0|\n",
            "|Alfredo|  3.4|\n",
            "| Miguel|  4.7|\n",
            "| martha|  2.5|\n",
            "+-------+-----+\n",
            "\n"
          ]
        }
      ]
    },
    {
      "cell_type": "code",
      "source": [
        "df.printSchema()"
      ],
      "metadata": {
        "colab": {
          "base_uri": "https://localhost:8080/"
        },
        "id": "9G3bbgoLrLfS",
        "outputId": "959c7536-4aec-4898-925c-56b70f6459b8"
      },
      "execution_count": null,
      "outputs": [
        {
          "output_type": "stream",
          "name": "stdout",
          "text": [
            "root\n",
            " |-- Nombre: string (nullable = true)\n",
            " |-- Notas: double (nullable = true)\n",
            "\n"
          ]
        }
      ]
    },
    {
      "cell_type": "code",
      "source": [
        "calificaciones2 = [('Julian',4.6),('pepe', 5.0),('Alfredo',0.0),('Miguel', 4.7,),('martha',2.5)]"
      ],
      "metadata": {
        "id": "6vDcuhm-sAyi"
      },
      "execution_count": null,
      "outputs": []
    },
    {
      "cell_type": "code",
      "source": [
        "df2 = spark.createDataFrame(calificaciones2,[\"Nombre\", \"Notas\"])"
      ],
      "metadata": {
        "id": "eazZS6LcsO0Z"
      },
      "execution_count": null,
      "outputs": []
    },
    {
      "cell_type": "code",
      "source": [
        "df2.show()"
      ],
      "metadata": {
        "colab": {
          "base_uri": "https://localhost:8080/"
        },
        "id": "xIRUZYLnsWOS",
        "outputId": "4bb2c914-b1b2-45b4-fab1-776bc6bae3d7"
      },
      "execution_count": null,
      "outputs": [
        {
          "output_type": "stream",
          "name": "stdout",
          "text": [
            "+-------+-----+\n",
            "| Nombre|Notas|\n",
            "+-------+-----+\n",
            "| Julian|  4.6|\n",
            "|   pepe|  5.0|\n",
            "|Alfredo|  0.0|\n",
            "| Miguel|  4.7|\n",
            "| martha|  2.5|\n",
            "+-------+-----+\n",
            "\n"
          ]
        }
      ]
    },
    {
      "cell_type": "code",
      "source": [
        "type(df.schema)"
      ],
      "metadata": {
        "colab": {
          "base_uri": "https://localhost:8080/"
        },
        "id": "q4e8tr_qtJDL",
        "outputId": "b776d11d-c97a-4c5f-fb84-35b761df7f37"
      },
      "execution_count": null,
      "outputs": [
        {
          "output_type": "execute_result",
          "data": {
            "text/plain": [
              "pyspark.sql.types.StructType"
            ]
          },
          "metadata": {},
          "execution_count": 60
        }
      ]
    },
    {
      "cell_type": "code",
      "source": [
        "from pyspark.sql.types import *\n",
        "ejemploSchema = StructType([StructField('Estudiante',StringType(),True),StructField('Notas',FloatType(),True)])"
      ],
      "metadata": {
        "id": "zlyenGfDtZ37"
      },
      "execution_count": null,
      "outputs": []
    },
    {
      "cell_type": "code",
      "source": [
        "calificaciones3 = [('Julian',4.6),('pepe', 5.0),('Alfredo',0.0),('Miguel', 4.7,),('martha',2.5)]\n",
        "df3 = spark.createDataFrame(calificaciones3,ejemploSchema)"
      ],
      "metadata": {
        "id": "WtsdwU88w1ka"
      },
      "execution_count": null,
      "outputs": []
    },
    {
      "cell_type": "code",
      "source": [
        "df3.show()\n",
        "df3.printSchema()"
      ],
      "metadata": {
        "colab": {
          "base_uri": "https://localhost:8080/"
        },
        "id": "OBn8-5Oxw543",
        "outputId": "85569e71-ec46-497e-d53e-3c99e331dab6"
      },
      "execution_count": null,
      "outputs": [
        {
          "output_type": "stream",
          "name": "stdout",
          "text": [
            "+----------+-----+\n",
            "|Estudiante|Notas|\n",
            "+----------+-----+\n",
            "|    Julian|  4.6|\n",
            "|      pepe|  5.0|\n",
            "|   Alfredo|  0.0|\n",
            "|    Miguel|  4.7|\n",
            "|    martha|  2.5|\n",
            "+----------+-----+\n",
            "\n",
            "root\n",
            " |-- Estudiante: string (nullable = true)\n",
            " |-- Notas: float (nullable = true)\n",
            "\n"
          ]
        }
      ]
    },
    {
      "cell_type": "markdown",
      "source": [
        "#***CARGAR DATAFRAME SPARK DESDE ARCHIVOS***"
      ],
      "metadata": {
        "id": "3qWdtOSNxrvH"
      }
    },
    {
      "cell_type": "code",
      "source": [
        "!wget https://raw.githubusercontent.com/adiacla/bigdata/master/Churn_Modelling.csv"
      ],
      "metadata": {
        "colab": {
          "base_uri": "https://localhost:8080/"
        },
        "id": "-vILp16Jxp1x",
        "outputId": "57a2269a-adf0-4fb1-b34f-a37022ad2136"
      },
      "execution_count": null,
      "outputs": [
        {
          "output_type": "stream",
          "name": "stdout",
          "text": [
            "--2021-12-29 20:00:53--  https://raw.githubusercontent.com/adiacla/bigdata/master/Churn_Modelling.csv\n",
            "Resolving raw.githubusercontent.com (raw.githubusercontent.com)... 185.199.108.133, 185.199.109.133, 185.199.110.133, ...\n",
            "Connecting to raw.githubusercontent.com (raw.githubusercontent.com)|185.199.108.133|:443... connected.\n",
            "HTTP request sent, awaiting response... 200 OK\n",
            "Length: 684858 (669K) [text/plain]\n",
            "Saving to: ‘Churn_Modelling.csv’\n",
            "\n",
            "Churn_Modelling.csv 100%[===================>] 668.81K  --.-KB/s    in 0.05s   \n",
            "\n",
            "2021-12-29 20:00:54 (11.9 MB/s) - ‘Churn_Modelling.csv’ saved [684858/684858]\n",
            "\n"
          ]
        }
      ]
    },
    {
      "cell_type": "code",
      "source": [
        "churnDF = spark.read.csv('Churn_Modelling.csv',header=True,inferSchema=True)"
      ],
      "metadata": {
        "id": "QXw6bzfuyFcR"
      },
      "execution_count": null,
      "outputs": []
    },
    {
      "cell_type": "code",
      "source": [
        "churnDF.take(2)"
      ],
      "metadata": {
        "colab": {
          "base_uri": "https://localhost:8080/"
        },
        "id": "lG7NcTxMypyZ",
        "outputId": "05d9f1a0-81c9-420c-e8c7-237220c38e24"
      },
      "execution_count": null,
      "outputs": [
        {
          "output_type": "execute_result",
          "data": {
            "text/plain": [
              "[Row(RowNumber=1, CustomerId=15634602, Surname='Hargrave', CreditScore=619, Geography='France', Gender='Female', Age=42, Tenure=2, Balance=0.0, NumOfProducts=1, HasCrCard=1, IsActiveMember=1, EstimatedSalary=101348.88, Exited=1),\n",
              " Row(RowNumber=2, CustomerId=15647311, Surname='Hill', CreditScore=608, Geography='Spain', Gender='Female', Age=41, Tenure=1, Balance=83807.86, NumOfProducts=1, HasCrCard=0, IsActiveMember=1, EstimatedSalary=112542.58, Exited=0)]"
            ]
          },
          "metadata": {},
          "execution_count": 80
        }
      ]
    },
    {
      "cell_type": "code",
      "source": [
        "churnDF.show(n=3)"
      ],
      "metadata": {
        "colab": {
          "base_uri": "https://localhost:8080/"
        },
        "id": "qC9AYL-FyzB6",
        "outputId": "82c435e3-13c2-434c-eef7-23a7e60e9292"
      },
      "execution_count": null,
      "outputs": [
        {
          "output_type": "stream",
          "name": "stdout",
          "text": [
            "+---------+----------+--------+-----------+---------+------+---+------+--------+-------------+---------+--------------+---------------+------+\n",
            "|RowNumber|CustomerId| Surname|CreditScore|Geography|Gender|Age|Tenure| Balance|NumOfProducts|HasCrCard|IsActiveMember|EstimatedSalary|Exited|\n",
            "+---------+----------+--------+-----------+---------+------+---+------+--------+-------------+---------+--------------+---------------+------+\n",
            "|        1|  15634602|Hargrave|        619|   France|Female| 42|     2|     0.0|            1|        1|             1|      101348.88|     1|\n",
            "|        2|  15647311|    Hill|        608|    Spain|Female| 41|     1|83807.86|            1|        0|             1|      112542.58|     0|\n",
            "|        3|  15619304|    Onio|        502|   France|Female| 42|     8|159660.8|            3|        1|             0|      113931.57|     1|\n",
            "+---------+----------+--------+-----------+---------+------+---+------+--------+-------------+---------+--------------+---------------+------+\n",
            "only showing top 3 rows\n",
            "\n"
          ]
        }
      ]
    },
    {
      "cell_type": "code",
      "source": [
        "churnDF.show(2)"
      ],
      "metadata": {
        "colab": {
          "base_uri": "https://localhost:8080/"
        },
        "id": "-yGp125jzZpJ",
        "outputId": "e88edb88-0002-4dc3-df95-e8cc453f645a"
      },
      "execution_count": null,
      "outputs": [
        {
          "output_type": "stream",
          "name": "stdout",
          "text": [
            "+---------+----------+--------+-----------+---------+------+---+------+--------+-------------+---------+--------------+---------------+------+\n",
            "|RowNumber|CustomerId| Surname|CreditScore|Geography|Gender|Age|Tenure| Balance|NumOfProducts|HasCrCard|IsActiveMember|EstimatedSalary|Exited|\n",
            "+---------+----------+--------+-----------+---------+------+---+------+--------+-------------+---------+--------------+---------------+------+\n",
            "|        1|  15634602|Hargrave|        619|   France|Female| 42|     2|     0.0|            1|        1|             1|      101348.88|     1|\n",
            "|        2|  15647311|    Hill|        608|    Spain|Female| 41|     1|83807.86|            1|        0|             1|      112542.58|     0|\n",
            "+---------+----------+--------+-----------+---------+------+---+------+--------+-------------+---------+--------------+---------------+------+\n",
            "only showing top 2 rows\n",
            "\n"
          ]
        }
      ]
    },
    {
      "cell_type": "code",
      "source": [
        "churnDF.count()"
      ],
      "metadata": {
        "colab": {
          "base_uri": "https://localhost:8080/"
        },
        "id": "_zwYV3ZG0TKZ",
        "outputId": "fc2e41b1-0076-4421-d032-48c070ef4561"
      },
      "execution_count": null,
      "outputs": [
        {
          "output_type": "execute_result",
          "data": {
            "text/plain": [
              "10000"
            ]
          },
          "metadata": {},
          "execution_count": 84
        }
      ]
    },
    {
      "cell_type": "code",
      "source": [
        "churnDF.show(n=9995)"
      ],
      "metadata": {
        "id": "9DC5hztZ0b6B"
      },
      "execution_count": null,
      "outputs": []
    },
    {
      "cell_type": "code",
      "source": [
        "churnDF.show(vertical=True)"
      ],
      "metadata": {
        "id": "eWwKhE5i02FS"
      },
      "execution_count": null,
      "outputs": []
    },
    {
      "cell_type": "code",
      "source": [
        "churnDF.printSchema()"
      ],
      "metadata": {
        "colab": {
          "base_uri": "https://localhost:8080/"
        },
        "id": "XwjYN2M11EIK",
        "outputId": "ea70ea0d-599d-4154-b7f9-c93fe8e685e0"
      },
      "execution_count": null,
      "outputs": [
        {
          "output_type": "stream",
          "name": "stdout",
          "text": [
            "root\n",
            " |-- RowNumber: integer (nullable = true)\n",
            " |-- CustomerId: integer (nullable = true)\n",
            " |-- Surname: string (nullable = true)\n",
            " |-- CreditScore: integer (nullable = true)\n",
            " |-- Geography: string (nullable = true)\n",
            " |-- Gender: string (nullable = true)\n",
            " |-- Age: integer (nullable = true)\n",
            " |-- Tenure: integer (nullable = true)\n",
            " |-- Balance: double (nullable = true)\n",
            " |-- NumOfProducts: integer (nullable = true)\n",
            " |-- HasCrCard: integer (nullable = true)\n",
            " |-- IsActiveMember: integer (nullable = true)\n",
            " |-- EstimatedSalary: double (nullable = true)\n",
            " |-- Exited: integer (nullable = true)\n",
            "\n"
          ]
        }
      ]
    },
    {
      "cell_type": "code",
      "source": [
        "churnDF.filter(churnDF['CreditScore']>600).show()"
      ],
      "metadata": {
        "colab": {
          "base_uri": "https://localhost:8080/"
        },
        "id": "gVTntSgE14qR",
        "outputId": "9dbbe65e-1fc9-4473-e94c-6ddbeef33e05"
      },
      "execution_count": null,
      "outputs": [
        {
          "output_type": "stream",
          "name": "stdout",
          "text": [
            "+---------+----------+---------+-----------+---------+------+---+------+---------+-------------+---------+--------------+---------------+------+\n",
            "|RowNumber|CustomerId|  Surname|CreditScore|Geography|Gender|Age|Tenure|  Balance|NumOfProducts|HasCrCard|IsActiveMember|EstimatedSalary|Exited|\n",
            "+---------+----------+---------+-----------+---------+------+---+------+---------+-------------+---------+--------------+---------------+------+\n",
            "|        1|  15634602| Hargrave|        619|   France|Female| 42|     2|      0.0|            1|        1|             1|      101348.88|     1|\n",
            "|        2|  15647311|     Hill|        608|    Spain|Female| 41|     1| 83807.86|            1|        0|             1|      112542.58|     0|\n",
            "|        4|  15701354|     Boni|        699|   France|Female| 39|     1|      0.0|            2|        0|             0|       93826.63|     0|\n",
            "|        5|  15737888| Mitchell|        850|    Spain|Female| 43|     2|125510.82|            1|        1|             1|        79084.1|     0|\n",
            "|        6|  15574012|      Chu|        645|    Spain|  Male| 44|     8|113755.78|            2|        1|             0|      149756.71|     1|\n",
            "|        7|  15592531| Bartlett|        822|   France|  Male| 50|     7|      0.0|            2|        1|             1|        10062.8|     0|\n",
            "|       10|  15592389|       H?|        684|   France|  Male| 27|     2|134603.88|            1|        1|             1|       71725.73|     0|\n",
            "|       15|  15600882|    Scott|        635|    Spain|Female| 35|     7|      0.0|            2|        1|             1|       65951.65|     0|\n",
            "|       16|  15643966|  Goforth|        616|  Germany|  Male| 45|     3|143129.41|            2|        0|             1|       64327.26|     0|\n",
            "|       17|  15737452|    Romeo|        653|  Germany|  Male| 58|     1|132602.88|            1|        1|             0|        5097.67|     1|\n",
            "|       20|  15568982|      Hao|        726|   France|Female| 24|     6|      0.0|            2|        1|             1|       54724.03|     0|\n",
            "|       21|  15577657| McDonald|        732|   France|  Male| 41|     8|      0.0|            2|        1|             1|      170886.17|     0|\n",
            "|       22|  15597945| Dellucci|        636|    Spain|Female| 32|     8|      0.0|            2|        1|             0|      138555.46|     0|\n",
            "|       24|  15725737|   Mosman|        669|   France|  Male| 46|     3|      0.0|            2|        0|             1|        8487.75|     0|\n",
            "|       25|  15625047|      Yen|        846|   France|Female| 38|     5|      0.0|            1|        1|             1|      187616.16|     0|\n",
            "|       27|  15736816|    Young|        756|  Germany|  Male| 36|     2|136815.64|            1|        1|             1|      170041.95|     0|\n",
            "|       35|  15732963| Clements|        722|    Spain|Female| 29|     9|      0.0|            2|        1|             1|      142033.07|     0|\n",
            "|       38|  15729599|  Lorenzo|        804|    Spain|  Male| 33|     7|  76548.6|            1|        0|             1|       98453.45|     0|\n",
            "|       39|  15717426|Armstrong|        850|   France|  Male| 36|     7|      0.0|            1|        1|             1|        40812.9|     0|\n",
            "|       44|  15755196|   Lavine|        834|   France|Female| 49|     2|131394.56|            1|        0|             0|      194365.76|     1|\n",
            "+---------+----------+---------+-----------+---------+------+---+------+---------+-------------+---------+--------------+---------------+------+\n",
            "only showing top 20 rows\n",
            "\n"
          ]
        }
      ]
    },
    {
      "cell_type": "markdown",
      "source": [
        "#***CREAR UN DATAFRAME USANDO ARCHIVOS TIPO JSON***"
      ],
      "metadata": {
        "id": "QR4vNhDd3T75"
      }
    },
    {
      "cell_type": "code",
      "source": [
        "!wget https://raw.githubusercontent.com/adiacla/bigdata/master/CovidList.json\n"
      ],
      "metadata": {
        "colab": {
          "base_uri": "https://localhost:8080/"
        },
        "id": "AXmgbmWc3iHZ",
        "outputId": "cfd52d02-cc0a-40d8-fb90-470447486ef4"
      },
      "execution_count": null,
      "outputs": [
        {
          "output_type": "stream",
          "name": "stdout",
          "text": [
            "--2021-12-29 20:28:43--  https://raw.githubusercontent.com/adiacla/bigdata/master/CovidList.json\n",
            "Resolving raw.githubusercontent.com (raw.githubusercontent.com)... 185.199.111.133, 185.199.110.133, 185.199.108.133, ...\n",
            "Connecting to raw.githubusercontent.com (raw.githubusercontent.com)|185.199.111.133|:443... connected.\n",
            "HTTP request sent, awaiting response... 200 OK\n",
            "Length: 1845911 (1.8M) [text/plain]\n",
            "Saving to: ‘CovidList.json’\n",
            "\n",
            "\rCovidList.json        0%[                    ]       0  --.-KB/s               \rCovidList.json      100%[===================>]   1.76M  --.-KB/s    in 0.07s   \n",
            "\n",
            "2021-12-29 20:28:43 (25.1 MB/s) - ‘CovidList.json’ saved [1845911/1845911]\n",
            "\n"
          ]
        }
      ]
    },
    {
      "cell_type": "code",
      "source": [
        "!cat CovidList.json\n"
      ],
      "metadata": {
        "id": "iB7iD53N4MpZ"
      },
      "execution_count": null,
      "outputs": []
    },
    {
      "cell_type": "code",
      "source": [
        "covid = spark.read.json('CovidList.json')"
      ],
      "metadata": {
        "id": "pdaBfjfM4Wl7"
      },
      "execution_count": null,
      "outputs": []
    },
    {
      "cell_type": "code",
      "source": [
        "covid.printSchema()"
      ],
      "metadata": {
        "colab": {
          "base_uri": "https://localhost:8080/"
        },
        "id": "3YfdkLl-4sJ4",
        "outputId": "babc6502-6b52-4616-d95c-093a0b888056"
      },
      "execution_count": null,
      "outputs": [
        {
          "output_type": "stream",
          "name": "stdout",
          "text": [
            "root\n",
            " |-- cases: long (nullable = true)\n",
            " |-- continentExp: string (nullable = true)\n",
            " |-- countriesAndTerritories: string (nullable = true)\n",
            " |-- countryterritoryCode: string (nullable = true)\n",
            " |-- dateRep: string (nullable = true)\n",
            " |-- day: string (nullable = true)\n",
            " |-- deaths: long (nullable = true)\n",
            " |-- geoId: string (nullable = true)\n",
            " |-- month: string (nullable = true)\n",
            " |-- popData2020: string (nullable = true)\n",
            " |-- year: long (nullable = true)\n",
            "\n"
          ]
        }
      ]
    },
    {
      "cell_type": "code",
      "source": [
        "covid.show(10)"
      ],
      "metadata": {
        "colab": {
          "base_uri": "https://localhost:8080/"
        },
        "id": "ys9uhQux5DC5",
        "outputId": "e2ea1001-52a1-4178-f83c-5d7ce9aee8bb"
      },
      "execution_count": null,
      "outputs": [
        {
          "output_type": "stream",
          "name": "stdout",
          "text": [
            "+-----+------------+-----------------------+--------------------+----------+---+------+-----+-----+-----------+----+\n",
            "|cases|continentExp|countriesAndTerritories|countryterritoryCode|   dateRep|day|deaths|geoId|month|popData2020|year|\n",
            "+-----+------------+-----------------------+--------------------+----------+---+------+-----+-----+-----------+----+\n",
            "| 3314|        NULL|                Austria|                 AUT|15/12/2021| 15|    59|     |   12|    8901064|2021|\n",
            "| 2829|        NULL|                Austria|                 AUT|14/12/2021| 14|    28|     |   12|    8901064|2021|\n",
            "| 3591|      Europe|                Austria|                 AUT|13/12/2021| 13|    19|   AT|   12|    8901064|2021|\n",
            "| 4909|      Europe|                Austria|                 AUT|12/12/2021| 12|    53|   AT|   12|    8901064|2021|\n",
            "| 2512|      Europe|                Austria|                 AUT|11/12/2021| 11|   110|   AT|   12|    8901064|2021|\n",
            "| 4223|      Europe|                Austria|                 AUT|10/12/2021| 10|    17|   AT|   12|    8901064|2021|\n",
            "| 6208|      Europe|                Austria|                 AUT|09/12/2021| 09|    47|   AT|   12|    8901064|2021|\n",
            "| 3879|      Europe|                Austria|                 AUT|08/12/2021| 08|    67|   AT|   12|    8901064|2021|\n",
            "| 4645|      Europe|                Austria|                 AUT|07/12/2021| 07|    69|   AT|   12|    8901064|2021|\n",
            "| 5314|      Europe|                Austria|                 AUT|06/12/2021| 06|    59|   AT|   12|    8901064|2021|\n",
            "+-----+------------+-----------------------+--------------------+----------+---+------+-----+-----+-----------+----+\n",
            "only showing top 10 rows\n",
            "\n"
          ]
        }
      ]
    },
    {
      "cell_type": "code",
      "source": [
        "covid.count()"
      ],
      "metadata": {
        "colab": {
          "base_uri": "https://localhost:8080/"
        },
        "id": "u0MccCs45QW4",
        "outputId": "7a0dcbab-02c5-49db-f3d7-fd74fc5e23a1"
      },
      "execution_count": null,
      "outputs": [
        {
          "output_type": "execute_result",
          "data": {
            "text/plain": [
              "8700"
            ]
          },
          "metadata": {},
          "execution_count": 96
        }
      ]
    },
    {
      "cell_type": "code",
      "source": [
        "type(covid)"
      ],
      "metadata": {
        "colab": {
          "base_uri": "https://localhost:8080/"
        },
        "id": "KZbgsqLC5Uog",
        "outputId": "afff7fa1-4196-4fbb-ad5b-32a075c703b3"
      },
      "execution_count": null,
      "outputs": [
        {
          "output_type": "execute_result",
          "data": {
            "text/plain": [
              "pyspark.sql.dataframe.DataFrame"
            ]
          },
          "metadata": {},
          "execution_count": 97
        }
      ]
    },
    {
      "cell_type": "code",
      "source": [
        "#Contar cuantas particiones tiene\n",
        "covid.rdd.getNumPartitions()"
      ],
      "metadata": {
        "colab": {
          "base_uri": "https://localhost:8080/"
        },
        "id": "_IaRWRnB5X9o",
        "outputId": "2616af26-e4f1-44e9-8a64-de6e490bc0f3"
      },
      "execution_count": null,
      "outputs": [
        {
          "output_type": "execute_result",
          "data": {
            "text/plain": [
              "1"
            ]
          },
          "metadata": {},
          "execution_count": 99
        }
      ]
    },
    {
      "cell_type": "code",
      "source": [
        "#crear filtros por columna\n",
        "muertes = covid.select('countriesAndTerritories','deaths')\n",
        "muertes.show()"
      ],
      "metadata": {
        "colab": {
          "base_uri": "https://localhost:8080/"
        },
        "id": "GvIMhb-A515j",
        "outputId": "2516c895-0e85-4912-9780-2bab11315857"
      },
      "execution_count": null,
      "outputs": [
        {
          "output_type": "stream",
          "name": "stdout",
          "text": [
            "+-----------------------+------+\n",
            "|countriesAndTerritories|deaths|\n",
            "+-----------------------+------+\n",
            "|                Austria|    59|\n",
            "|                Austria|    28|\n",
            "|                Austria|    19|\n",
            "|                Austria|    53|\n",
            "|                Austria|   110|\n",
            "|                Austria|    17|\n",
            "|                Austria|    47|\n",
            "|                Austria|    67|\n",
            "|                Austria|    69|\n",
            "|                Austria|    59|\n",
            "|                Austria|    85|\n",
            "|                Austria|    89|\n",
            "|                Austria|    76|\n",
            "|                Austria|    56|\n",
            "|                Austria|    77|\n",
            "|                Austria|    36|\n",
            "|                Austria|    43|\n",
            "|                Austria|    39|\n",
            "|                Austria|    44|\n",
            "|                Austria|    66|\n",
            "+-----------------------+------+\n",
            "only showing top 20 rows\n",
            "\n"
          ]
        }
      ]
    },
    {
      "cell_type": "code",
      "source": [
        "covidSinColumna = covid.drop('geoId')"
      ],
      "metadata": {
        "id": "R-JK8b8L7Kch"
      },
      "execution_count": null,
      "outputs": []
    },
    {
      "cell_type": "code",
      "source": [
        "covidSinColumna.printSchema()"
      ],
      "metadata": {
        "colab": {
          "base_uri": "https://localhost:8080/"
        },
        "id": "tqN2ERaH7fRB",
        "outputId": "1e008d69-d66a-49dc-c27f-a276218ef457"
      },
      "execution_count": null,
      "outputs": [
        {
          "output_type": "stream",
          "name": "stdout",
          "text": [
            "root\n",
            " |-- cases: long (nullable = true)\n",
            " |-- continentExp: string (nullable = true)\n",
            " |-- countriesAndTerritories: string (nullable = true)\n",
            " |-- countryterritoryCode: string (nullable = true)\n",
            " |-- dateRep: string (nullable = true)\n",
            " |-- day: string (nullable = true)\n",
            " |-- deaths: long (nullable = true)\n",
            " |-- month: string (nullable = true)\n",
            " |-- popData2020: string (nullable = true)\n",
            " |-- year: long (nullable = true)\n",
            "\n"
          ]
        }
      ]
    },
    {
      "cell_type": "code",
      "source": [
        "covid.printSchema()"
      ],
      "metadata": {
        "colab": {
          "base_uri": "https://localhost:8080/"
        },
        "id": "OkSFcBYZ7xkx",
        "outputId": "0f08e08c-bf4e-4d31-a1d4-29ff5768858e"
      },
      "execution_count": null,
      "outputs": [
        {
          "output_type": "stream",
          "name": "stdout",
          "text": [
            "root\n",
            " |-- cases: long (nullable = true)\n",
            " |-- continentExp: string (nullable = true)\n",
            " |-- countriesAndTerritories: string (nullable = true)\n",
            " |-- countryterritoryCode: string (nullable = true)\n",
            " |-- dateRep: string (nullable = true)\n",
            " |-- day: string (nullable = true)\n",
            " |-- deaths: long (nullable = true)\n",
            " |-- geoId: string (nullable = true)\n",
            " |-- month: string (nullable = true)\n",
            " |-- popData2020: string (nullable = true)\n",
            " |-- year: long (nullable = true)\n",
            "\n"
          ]
        }
      ]
    },
    {
      "cell_type": "code",
      "source": [
        "covidSinColumna.show(10)"
      ],
      "metadata": {
        "colab": {
          "base_uri": "https://localhost:8080/"
        },
        "id": "ZF1vUDER707R",
        "outputId": "171d230a-4593-40e3-9740-12bace5a148f"
      },
      "execution_count": null,
      "outputs": [
        {
          "output_type": "stream",
          "name": "stdout",
          "text": [
            "+-----+------------+-----------------------+--------------------+----------+---+------+-----+-----------+----+\n",
            "|cases|continentExp|countriesAndTerritories|countryterritoryCode|   dateRep|day|deaths|month|popData2020|year|\n",
            "+-----+------------+-----------------------+--------------------+----------+---+------+-----+-----------+----+\n",
            "| 3314|        NULL|                Austria|                 AUT|15/12/2021| 15|    59|   12|    8901064|2021|\n",
            "| 2829|        NULL|                Austria|                 AUT|14/12/2021| 14|    28|   12|    8901064|2021|\n",
            "| 3591|      Europe|                Austria|                 AUT|13/12/2021| 13|    19|   12|    8901064|2021|\n",
            "| 4909|      Europe|                Austria|                 AUT|12/12/2021| 12|    53|   12|    8901064|2021|\n",
            "| 2512|      Europe|                Austria|                 AUT|11/12/2021| 11|   110|   12|    8901064|2021|\n",
            "| 4223|      Europe|                Austria|                 AUT|10/12/2021| 10|    17|   12|    8901064|2021|\n",
            "| 6208|      Europe|                Austria|                 AUT|09/12/2021| 09|    47|   12|    8901064|2021|\n",
            "| 3879|      Europe|                Austria|                 AUT|08/12/2021| 08|    67|   12|    8901064|2021|\n",
            "| 4645|      Europe|                Austria|                 AUT|07/12/2021| 07|    69|   12|    8901064|2021|\n",
            "| 5314|      Europe|                Austria|                 AUT|06/12/2021| 06|    59|   12|    8901064|2021|\n",
            "+-----+------------+-----------------------+--------------------+----------+---+------+-----+-----------+----+\n",
            "only showing top 10 rows\n",
            "\n"
          ]
        }
      ]
    },
    {
      "cell_type": "markdown",
      "source": [
        "#***BORRADO O FILTRADO DE FILAS***\n"
      ],
      "metadata": {
        "id": "J9ESJYBq76GP"
      }
    },
    {
      "cell_type": "code",
      "source": [
        "filtradoFilasNull = covidSinColumna.filter(covidSinColumna['continentExp'] =='NULL')"
      ],
      "metadata": {
        "id": "XxbvSchu7_05"
      },
      "execution_count": null,
      "outputs": []
    },
    {
      "cell_type": "code",
      "source": [
        "filtradoFilasNull.show()"
      ],
      "metadata": {
        "colab": {
          "base_uri": "https://localhost:8080/"
        },
        "id": "gZvzZ7bT8jvp",
        "outputId": "952acf35-e0b1-438e-8de5-8053de12dc9c"
      },
      "execution_count": null,
      "outputs": [
        {
          "output_type": "stream",
          "name": "stdout",
          "text": [
            "+-----+------------+-----------------------+--------------------+----------+---+------+-----+-----------+----+\n",
            "|cases|continentExp|countriesAndTerritories|countryterritoryCode|   dateRep|day|deaths|month|popData2020|year|\n",
            "+-----+------------+-----------------------+--------------------+----------+---+------+-----+-----------+----+\n",
            "| 3314|        NULL|                Austria|                 AUT|15/12/2021| 15|    59|   12|    8901064|2021|\n",
            "| 2829|        NULL|                Austria|                 AUT|14/12/2021| 14|    28|   12|    8901064|2021|\n",
            "+-----+------------+-----------------------+--------------------+----------+---+------+-----+-----------+----+\n",
            "\n"
          ]
        }
      ]
    },
    {
      "cell_type": "code",
      "source": [
        "filtradoFilasNull.count()"
      ],
      "metadata": {
        "colab": {
          "base_uri": "https://localhost:8080/"
        },
        "id": "L1jDwKhR8nlB",
        "outputId": "8b99894f-3f98-4723-8a8d-922c6b895d92"
      },
      "execution_count": null,
      "outputs": [
        {
          "output_type": "execute_result",
          "data": {
            "text/plain": [
              "2"
            ]
          },
          "metadata": {},
          "execution_count": 112
        }
      ]
    },
    {
      "cell_type": "code",
      "source": [
        "#Guardadndo en otro RDD SIN  las dos filas con NULL\n",
        "covidSinNull = covidSinColumna.filter(covidSinColumna['continentExp'] !='NULL')\n",
        "covidSinNull.count()"
      ],
      "metadata": {
        "colab": {
          "base_uri": "https://localhost:8080/"
        },
        "id": "UxCIirSV9jY6",
        "outputId": "0f592d9d-4716-44d1-e397-2f22d583ae9b"
      },
      "execution_count": null,
      "outputs": [
        {
          "output_type": "execute_result",
          "data": {
            "text/plain": [
              "8698"
            ]
          },
          "metadata": {},
          "execution_count": 113
        }
      ]
    },
    {
      "cell_type": "code",
      "source": [
        "covid.show()"
      ],
      "metadata": {
        "colab": {
          "base_uri": "https://localhost:8080/"
        },
        "id": "FzGEpK1f-mXx",
        "outputId": "870d9088-a610-4914-dad5-28186f6946e7"
      },
      "execution_count": null,
      "outputs": [
        {
          "output_type": "stream",
          "name": "stdout",
          "text": [
            "+-----+------------+-----------------------+--------------------+----------+---+------+-----+-----+-----------+----+\n",
            "|cases|continentExp|countriesAndTerritories|countryterritoryCode|   dateRep|day|deaths|geoId|month|popData2020|year|\n",
            "+-----+------------+-----------------------+--------------------+----------+---+------+-----+-----+-----------+----+\n",
            "| 3314|        NULL|                Austria|                 AUT|15/12/2021| 15|    59|     |   12|    8901064|2021|\n",
            "| 2829|        NULL|                Austria|                 AUT|14/12/2021| 14|    28|     |   12|    8901064|2021|\n",
            "| 3591|      Europe|                Austria|                 AUT|13/12/2021| 13|    19|   AT|   12|    8901064|2021|\n",
            "| 4909|      Europe|                Austria|                 AUT|12/12/2021| 12|    53|   AT|   12|    8901064|2021|\n",
            "| 2512|      Europe|                Austria|                 AUT|11/12/2021| 11|   110|   AT|   12|    8901064|2021|\n",
            "| 4223|      Europe|                Austria|                 AUT|10/12/2021| 10|    17|   AT|   12|    8901064|2021|\n",
            "| 6208|      Europe|                Austria|                 AUT|09/12/2021| 09|    47|   AT|   12|    8901064|2021|\n",
            "| 3879|      Europe|                Austria|                 AUT|08/12/2021| 08|    67|   AT|   12|    8901064|2021|\n",
            "| 4645|      Europe|                Austria|                 AUT|07/12/2021| 07|    69|   AT|   12|    8901064|2021|\n",
            "| 5314|      Europe|                Austria|                 AUT|06/12/2021| 06|    59|   AT|   12|    8901064|2021|\n",
            "| 6962|      Europe|                Austria|                 AUT|05/12/2021| 05|    85|   AT|   12|    8901064|2021|\n",
            "| 6486|      Europe|                Austria|                 AUT|04/12/2021| 04|    89|   AT|   12|    8901064|2021|\n",
            "| 8506|      Europe|                Austria|                 AUT|03/12/2021| 03|    76|   AT|   12|    8901064|2021|\n",
            "|11050|      Europe|                Austria|                 AUT|02/12/2021| 02|    56|   AT|   12|    8901064|2021|\n",
            "| 8219|      Europe|                Austria|                 AUT|01/12/2021| 01|    77|   AT|   12|    8901064|2021|\n",
            "| 7787|      Europe|                Austria|                 AUT|30/11/2021| 30|    36|   AT|   11|    8901064|2021|\n",
            "| 9732|      Europe|                Austria|                 AUT|29/11/2021| 29|    43|   AT|   11|    8901064|2021|\n",
            "|12249|      Europe|                Austria|                 AUT|28/11/2021| 28|    39|   AT|   11|    8901064|2021|\n",
            "|12746|      Europe|                Austria|                 AUT|27/11/2021| 27|    44|   AT|   11|    8901064|2021|\n",
            "|14330|      Europe|                Austria|                 AUT|26/11/2021| 26|    66|   AT|   11|    8901064|2021|\n",
            "+-----+------------+-----------------------+--------------------+----------+---+------+-----+-----+-----------+----+\n",
            "only showing top 20 rows\n",
            "\n"
          ]
        }
      ]
    },
    {
      "cell_type": "code",
      "source": [
        "##Muestre los registros diarios de los casos de mas de 10000 pacientes mostrando solo el pais, el caso y la fecha\n",
        "registroDiario = covid.select('day','countriesAndTerritories','cases','dateRep').filter(covid['cases']>10000)"
      ],
      "metadata": {
        "id": "MWTuHxpc-PWZ"
      },
      "execution_count": null,
      "outputs": []
    },
    {
      "cell_type": "code",
      "source": [
        "registroDiario.show(n=771)"
      ],
      "metadata": {
        "id": "A8LhRKDP_VEg"
      },
      "execution_count": null,
      "outputs": []
    },
    {
      "cell_type": "code",
      "source": [
        "import numpy as np\n",
        "#Calcular \n",
        "total = np.sum(covidSinNull.select('cases').collect())\n",
        "print(total)"
      ],
      "metadata": {
        "colab": {
          "base_uri": "https://localhost:8080/"
        },
        "id": "n-jI9FhIAIkJ",
        "outputId": "d34070e8-d0e3-4bf5-ef1e-3e6d9c9a4e91"
      },
      "execution_count": null,
      "outputs": [
        {
          "output_type": "stream",
          "name": "stdout",
          "text": [
            "50490812\n"
          ]
        }
      ]
    },
    {
      "cell_type": "code",
      "source": [
        "total2 = np.mean(covidSinNull.select('cases').collect())\n",
        "print(total2)"
      ],
      "metadata": {
        "colab": {
          "base_uri": "https://localhost:8080/"
        },
        "id": "T2yQUTlSB63I",
        "outputId": "8955a759-49b0-43f6-e085-575d6df07ac9"
      },
      "execution_count": null,
      "outputs": [
        {
          "output_type": "stream",
          "name": "stdout",
          "text": [
            "5804.876063462865\n"
          ]
        }
      ]
    },
    {
      "cell_type": "code",
      "source": [
        "covidSinNull.sort(covidSinNull.cases.desc()).show()"
      ],
      "metadata": {
        "colab": {
          "base_uri": "https://localhost:8080/"
        },
        "id": "sVwldpy7FHQT",
        "outputId": "4cfa1bfc-4645-42e7-91ef-180a45c0694d"
      },
      "execution_count": null,
      "outputs": [
        {
          "output_type": "stream",
          "name": "stdout",
          "text": [
            "+-------+------------+-----------------------+--------------------+----------+---+------+-----+-----------+----+\n",
            "|  cases|continentExp|countriesAndTerritories|countryterritoryCode|   dateRep|day|deaths|month|popData2020|year|\n",
            "+-------+------------+-----------------------+--------------------+----------+---+------+-----+-----------+----+\n",
            "|3645305|      Europe|                 France|                 FRA|01/03/2021| 01| 86454|   03|   67320216|2021|\n",
            "|3109689|      Europe|                  Spain|                 ESP|28/02/2021| 28| 69142|   02|   47332614|2021|\n",
            "|2925265|      Europe|                  Italy|                 ITA|01/03/2021| 01| 97699|   03|   59641488|2021|\n",
            "|2447068|      Europe|                Germany|                 DEU|01/03/2021| 01| 70105|   03|   83166711|2021|\n",
            "|1706986|      Europe|                 Poland|                 POL|01/03/2021| 01| 43769|   03|   37958138|2021|\n",
            "|1240721|      Europe|                Czechia|                 CZE|01/03/2021| 01| 21020|   03|   10693939|2021|\n",
            "|1087822|      Europe|            Netherlands|                 NLD|01/03/2021| 01| 15556|   03|   17407585|2021|\n",
            "| 804562|      Europe|               Portugal|                 PRT|01/03/2021| 01| 16317|   03|   10295909|2021|\n",
            "| 801994|      Europe|                Romania|                 ROU|01/03/2021| 01| 20350|   03|   19328838|2021|\n",
            "| 777696|      Europe|                Belgium|                 BEL|01/03/2021| 01| 22283|   03|   11522440|2021|\n",
            "| 668966|      Europe|                 Sweden|                 SWE|01/03/2021| 01| 13082|   03|   10327589|2021|\n",
            "| 592135|      Europe|               Slovakia|                 SVK|01/03/2021| 01|  7270|   03|    5457873|2021|\n",
            "| 456112|      Europe|                Austria|                 AUT|01/03/2021| 01|  8531|   03|    8901064|2021|\n",
            "| 432925|      Europe|                Hungary|                 HUN|01/03/2021| 01| 15058|   03|    9769526|2021|\n",
            "| 247038|      Europe|               Bulgaria|                 BGR|01/03/2021| 01| 10191|   03|    6951482|2021|\n",
            "| 242973|      Europe|                Croatia|                 HRV|01/03/2021| 01|  5526|   03|    4058165|2021|\n",
            "| 219503|      Europe|                Ireland|                 IRL|01/03/2021| 01|  4319|   03|    4964440|2021|\n",
            "| 211195|      Europe|                Denmark|                 DNK|01/03/2021| 01|  2361|   03|    5822763|2021|\n",
            "| 197343|      Europe|              Lithuania|                 LTU|01/03/2021| 01|  3244|   03|    2794090|2021|\n",
            "| 191100|      Europe|                 Greece|                 GRC|01/03/2021| 01|  6504|   03|   10718565|2021|\n",
            "+-------+------------+-----------------------+--------------------+----------+---+------+-----+-----------+----+\n",
            "only showing top 20 rows\n",
            "\n"
          ]
        }
      ]
    },
    {
      "cell_type": "markdown",
      "source": [
        "Cambiar el tipo de dato en un dataframe"
      ],
      "metadata": {
        "id": "XzTezIyVKiqp"
      }
    },
    {
      "cell_type": "code",
      "source": [
        "from typing import cast\n",
        "covidSinNull=covidSinNull.withColumn(\"day\",covidSinNull[\"day\"].cast(\"Integer\"))"
      ],
      "metadata": {
        "id": "39c9pd6mKiRB"
      },
      "execution_count": null,
      "outputs": []
    },
    {
      "cell_type": "code",
      "source": [
        "#Calcular cual es el promedio de los casos presentados cada dia del mes\n",
        "covidSinNull.groupBy('countriesAndTerritories').mean('cases').show()"
      ],
      "metadata": {
        "colab": {
          "base_uri": "https://localhost:8080/"
        },
        "id": "FxsvSzRjKODQ",
        "outputId": "8c748161-69d0-486d-c126-0aefe8d92a9a"
      },
      "execution_count": null,
      "outputs": [
        {
          "output_type": "stream",
          "name": "stdout",
          "text": [
            "+-----------------------+------------------+\n",
            "|countriesAndTerritories|        avg(cases)|\n",
            "+-----------------------+------------------+\n",
            "|                 Sweden| 4271.341379310345|\n",
            "|                Germany| 22805.96551724138|\n",
            "|                 France|28738.389655172414|\n",
            "|                 Greece|3491.9275862068966|\n",
            "|               Slovakia| 4462.134482758621|\n",
            "|                Belgium| 6786.806896551724|\n",
            "|                Finland| 713.9068965517241|\n",
            "|                  Malta|140.41724137931035|\n",
            "|                Croatia| 2268.020689655172|\n",
            "|                  Italy|18134.089655172414|\n",
            "|              Lithuania|1709.2620689655173|\n",
            "|                 Norway|1112.8172413793104|\n",
            "|                  Spain|18503.889655172414|\n",
            "|                Czechia| 8162.331034482759|\n",
            "|                Denmark| 1967.248275862069|\n",
            "|                Ireland|2179.9206896551723|\n",
            "|          Liechtenstein|18.868965517241378|\n",
            "|                Iceland| 67.95862068965518|\n",
            "|                 Cyprus| 490.4413793103448|\n",
            "|                Estonia| 792.6517241379311|\n",
            "+-----------------------+------------------+\n",
            "only showing top 20 rows\n",
            "\n"
          ]
        }
      ]
    },
    {
      "cell_type": "code",
      "source": [
        "covidSinNull.printSchema()"
      ],
      "metadata": {
        "colab": {
          "base_uri": "https://localhost:8080/"
        },
        "id": "1kodeLWcM7SB",
        "outputId": "c13069b9-270a-4e7d-a094-2501f8fa4c86"
      },
      "execution_count": null,
      "outputs": [
        {
          "output_type": "stream",
          "name": "stdout",
          "text": [
            "root\n",
            " |-- cases: long (nullable = true)\n",
            " |-- continentExp: string (nullable = true)\n",
            " |-- countriesAndTerritories: string (nullable = true)\n",
            " |-- countryterritoryCode: string (nullable = true)\n",
            " |-- dateRep: string (nullable = true)\n",
            " |-- day: integer (nullable = true)\n",
            " |-- deaths: long (nullable = true)\n",
            " |-- month: string (nullable = true)\n",
            " |-- popData2020: string (nullable = true)\n",
            " |-- year: long (nullable = true)\n",
            "\n"
          ]
        }
      ]
    },
    {
      "cell_type": "code",
      "source": [
        "#Total de los casos 2021 por pais\n",
        "covidSinNull.filter(covidSinNull['year']==2021).groupBy('countriesAndTerritories').sum('cases').sort('sum(cases)').show()"
      ],
      "metadata": {
        "colab": {
          "base_uri": "https://localhost:8080/"
        },
        "id": "HeaPGCLtMPgg",
        "outputId": "c4d7fb31-284d-4546-d1db-9b69120e7d41"
      },
      "execution_count": null,
      "outputs": [
        {
          "output_type": "stream",
          "name": "stdout",
          "text": [
            "+-----------------------+----------+\n",
            "|countriesAndTerritories|sum(cases)|\n",
            "+-----------------------+----------+\n",
            "|          Liechtenstein|      5472|\n",
            "|                Iceland|     19708|\n",
            "|                  Malta|     40721|\n",
            "|             Luxembourg|     94511|\n",
            "|                 Cyprus|    142228|\n",
            "|                Finland|    207033|\n",
            "|                Estonia|    229869|\n",
            "|                 Latvia|    263145|\n",
            "|                 Norway|    322717|\n",
            "|               Slovenia|    443873|\n",
            "|              Lithuania|    495686|\n",
            "|                Denmark|    570502|\n",
            "|                Ireland|    632177|\n",
            "|                Croatia|    657726|\n",
            "|               Bulgaria|    718651|\n",
            "|                 Greece|   1012659|\n",
            "|               Portugal|   1200193|\n",
            "|                Hungary|   1208020|\n",
            "|                Austria|   1226443|\n",
            "|                 Sweden|   1238689|\n",
            "+-----------------------+----------+\n",
            "only showing top 20 rows\n",
            "\n"
          ]
        }
      ]
    },
    {
      "cell_type": "code",
      "source": [
        "covidSinNull.filter(covidSinNull['year']==2021).filter(covidSinNull['continentExp']=='Europe').groupBy('countriesAndTerritories').sum('cases').sort('sum(cases)').show()"
      ],
      "metadata": {
        "colab": {
          "base_uri": "https://localhost:8080/"
        },
        "id": "2fAscs--PsOQ",
        "outputId": "3582f234-c12d-4499-a06a-a53304d754ba"
      },
      "execution_count": null,
      "outputs": [
        {
          "output_type": "stream",
          "name": "stdout",
          "text": [
            "+-----------------------+----------+\n",
            "|countriesAndTerritories|sum(cases)|\n",
            "+-----------------------+----------+\n",
            "|          Liechtenstein|      5472|\n",
            "|                Iceland|     19708|\n",
            "|                  Malta|     40721|\n",
            "|             Luxembourg|     94511|\n",
            "|                 Cyprus|    142228|\n",
            "|                Finland|    207033|\n",
            "|                Estonia|    229869|\n",
            "|                 Latvia|    263145|\n",
            "|                 Norway|    322717|\n",
            "|               Slovenia|    443873|\n",
            "|              Lithuania|    495686|\n",
            "|                Denmark|    570502|\n",
            "|                Ireland|    632177|\n",
            "|                Croatia|    657726|\n",
            "|               Bulgaria|    718651|\n",
            "|                 Greece|   1012659|\n",
            "|               Portugal|   1200193|\n",
            "|                Hungary|   1208020|\n",
            "|                Austria|   1226443|\n",
            "|                 Sweden|   1238689|\n",
            "+-----------------------+----------+\n",
            "only showing top 20 rows\n",
            "\n"
          ]
        }
      ]
    },
    {
      "cell_type": "code",
      "source": [
        "covidSinNull.select('continentExp').distinct().show()"
      ],
      "metadata": {
        "colab": {
          "base_uri": "https://localhost:8080/"
        },
        "id": "UQG1KeGNRAmI",
        "outputId": "f091f6b9-ceba-4474-eb22-f98c3f95598e"
      },
      "execution_count": null,
      "outputs": [
        {
          "output_type": "stream",
          "name": "stdout",
          "text": [
            "+------------+\n",
            "|continentExp|\n",
            "+------------+\n",
            "|      Europe|\n",
            "+------------+\n",
            "\n"
          ]
        }
      ]
    },
    {
      "cell_type": "code",
      "source": [
        "covidSinNull.select('countriesAndTerritories').distinct().show()"
      ],
      "metadata": {
        "colab": {
          "base_uri": "https://localhost:8080/"
        },
        "id": "rOqKYkonRhsQ",
        "outputId": "96ae19a9-3645-419d-8158-0f41f59b53a6"
      },
      "execution_count": null,
      "outputs": [
        {
          "output_type": "stream",
          "name": "stdout",
          "text": [
            "+-----------------------+\n",
            "|countriesAndTerritories|\n",
            "+-----------------------+\n",
            "|                 Sweden|\n",
            "|                Germany|\n",
            "|                 France|\n",
            "|                 Greece|\n",
            "|               Slovakia|\n",
            "|                Belgium|\n",
            "|                Finland|\n",
            "|                  Malta|\n",
            "|                Croatia|\n",
            "|                  Italy|\n",
            "|              Lithuania|\n",
            "|                 Norway|\n",
            "|                  Spain|\n",
            "|                Czechia|\n",
            "|                Denmark|\n",
            "|                Ireland|\n",
            "|          Liechtenstein|\n",
            "|                Iceland|\n",
            "|                 Cyprus|\n",
            "|                Estonia|\n",
            "+-----------------------+\n",
            "only showing top 20 rows\n",
            "\n"
          ]
        }
      ]
    },
    {
      "cell_type": "markdown",
      "source": [
        "#***Consultas con SPARKSQL***\n",
        "\n",
        "\n",
        "Venimos haciendo consultas de DataFrame, ahora vamos hacer consultas con Querys como si estubieramos usando Base de Datos. No lo puedo hacer en DataFrame, tengo que crear una vista o una tabla para hacer Querys."
      ],
      "metadata": {
        "id": "G45eSdRtR3p-"
      }
    },
    {
      "cell_type": "code",
      "source": [
        "#Creamos una vista o una tabla de DataFrame de covid\n",
        "\n",
        "covidSinNull.createOrReplaceTempView(\"table_covid\")"
      ],
      "metadata": {
        "id": "ni_gI7FcSfkI"
      },
      "execution_count": null,
      "outputs": []
    },
    {
      "cell_type": "code",
      "source": [
        "type('table_covid')"
      ],
      "metadata": {
        "colab": {
          "base_uri": "https://localhost:8080/"
        },
        "id": "mLKzECrLSn-Y",
        "outputId": "ea951083-9839-49fc-b11c-98a2f6e86f3d"
      },
      "execution_count": null,
      "outputs": [
        {
          "output_type": "execute_result",
          "data": {
            "text/plain": [
              "str"
            ]
          },
          "metadata": {},
          "execution_count": 183
        }
      ]
    },
    {
      "cell_type": "code",
      "source": [
        "##Muestre cada registro de casos el pais, el continente, el numero de casos, y la fecha de reporte, en casos mayores a 1000 en orden descendente\n",
        "spark.sql('SELECT countriesAndTerritories, cases,dateRep, continentExp FROM table_covid WHERE cases > 1000 ORDER BY cases DESC').show()"
      ],
      "metadata": {
        "colab": {
          "base_uri": "https://localhost:8080/"
        },
        "id": "7Be_2_T4S-BA",
        "outputId": "50ef4bc6-ec70-4377-a47c-077ff2c53b24"
      },
      "execution_count": null,
      "outputs": [
        {
          "output_type": "stream",
          "name": "stdout",
          "text": [
            "+-----------------------+-------+----------+------------+\n",
            "|countriesAndTerritories|  cases|   dateRep|continentExp|\n",
            "+-----------------------+-------+----------+------------+\n",
            "|                 France|3645305|01/03/2021|      Europe|\n",
            "|                  Spain|3109689|28/02/2021|      Europe|\n",
            "|                  Italy|2925265|01/03/2021|      Europe|\n",
            "|                Germany|2447068|01/03/2021|      Europe|\n",
            "|                 Poland|1706986|01/03/2021|      Europe|\n",
            "|                Czechia|1240721|01/03/2021|      Europe|\n",
            "|            Netherlands|1087822|01/03/2021|      Europe|\n",
            "|               Portugal| 804562|01/03/2021|      Europe|\n",
            "|                Romania| 801994|01/03/2021|      Europe|\n",
            "|                Belgium| 777696|01/03/2021|      Europe|\n",
            "|                 Sweden| 668966|01/03/2021|      Europe|\n",
            "|               Slovakia| 592135|01/03/2021|      Europe|\n",
            "|                Austria| 456112|01/03/2021|      Europe|\n",
            "|                Hungary| 432925|01/03/2021|      Europe|\n",
            "|               Bulgaria| 247038|01/03/2021|      Europe|\n",
            "|                Croatia| 242973|01/03/2021|      Europe|\n",
            "|                Ireland| 219503|01/03/2021|      Europe|\n",
            "|                Denmark| 211195|01/03/2021|      Europe|\n",
            "|              Lithuania| 197343|01/03/2021|      Europe|\n",
            "|                 Greece| 191100|01/03/2021|      Europe|\n",
            "+-----------------------+-------+----------+------------+\n",
            "only showing top 20 rows\n",
            "\n"
          ]
        }
      ]
    },
    {
      "cell_type": "code",
      "source": [
        "spark.sql('SELECT countriesAndTerritories AS Pais, sum(deaths) AS Muertes FROM table_covid GROUP BY countriesAndTerritories').show()"
      ],
      "metadata": {
        "colab": {
          "base_uri": "https://localhost:8080/"
        },
        "id": "RhqMPMnoU1Qc",
        "outputId": "eedee356-6b93-4dce-8a9c-fcefbecd0ddb"
      },
      "execution_count": null,
      "outputs": [
        {
          "output_type": "stream",
          "name": "stdout",
          "text": [
            "+-------------+-------+\n",
            "|         Pais|Muertes|\n",
            "+-------------+-------+\n",
            "|       Sweden|  15204|\n",
            "|      Germany| 106680|\n",
            "|       France| 120832|\n",
            "|       Greece|  19475|\n",
            "|     Slovakia|  15516|\n",
            "|      Belgium|  27685|\n",
            "|      Finland|   1444|\n",
            "|        Malta|    471|\n",
            "|      Croatia|  11722|\n",
            "|        Italy| 135049|\n",
            "|    Lithuania|   7039|\n",
            "|       Norway|   1141|\n",
            "|        Spain|  88542|\n",
            "|      Czechia|  34813|\n",
            "|      Denmark|   3030|\n",
            "|      Ireland|   5788|\n",
            "|Liechtenstein|     68|\n",
            "|      Iceland|     36|\n",
            "|       Cyprus|    612|\n",
            "|      Estonia|   1869|\n",
            "+-------------+-------+\n",
            "only showing top 20 rows\n",
            "\n"
          ]
        }
      ]
    },
    {
      "cell_type": "code",
      "source": [
        "df1 = spark.createDataFrame([(1, 'Julian'), (2 , 'Pepe'), (3, 'Maria'), (4, 'Carlos')], [\"id\",\"nombre\"])\n",
        "df2 = spark.createDataFrame([(1,21),(2,17),(3,43)],[\"id\",\"edad\"])"
      ],
      "metadata": {
        "id": "jNanCdEiXXGq"
      },
      "execution_count": null,
      "outputs": []
    },
    {
      "cell_type": "code",
      "source": [
        "dfJoin = df1.join(df2,'id', 'right')"
      ],
      "metadata": {
        "id": "lB9IlZ__Z18n"
      },
      "execution_count": null,
      "outputs": []
    },
    {
      "cell_type": "code",
      "source": [
        "dfJoin.show()"
      ],
      "metadata": {
        "colab": {
          "base_uri": "https://localhost:8080/"
        },
        "id": "HnIp1FLQaPnv",
        "outputId": "7b6d1c20-2e93-46af-d54b-5f039015e5de"
      },
      "execution_count": null,
      "outputs": [
        {
          "output_type": "stream",
          "name": "stdout",
          "text": [
            "+---+------+----+\n",
            "| id|nombre|edad|\n",
            "+---+------+----+\n",
            "|  1|Julian|  21|\n",
            "|  2|  Pepe|  17|\n",
            "|  3| Maria|  43|\n",
            "+---+------+----+\n",
            "\n"
          ]
        }
      ]
    },
    {
      "cell_type": "code",
      "source": [
        "dfJoin.createOrReplaceTempView('resultados')\n",
        "\n"
      ],
      "metadata": {
        "id": "1__sDgnrbcZ3"
      },
      "execution_count": null,
      "outputs": []
    },
    {
      "cell_type": "code",
      "source": [
        "spark.sql('SELECT *FROM resultados WHERE edad >24 ORDER BY nombre').show()"
      ],
      "metadata": {
        "colab": {
          "base_uri": "https://localhost:8080/"
        },
        "id": "NmxH_AlIbm2n",
        "outputId": "399a413d-1ef7-4c38-b7c2-e9a230a1cfae"
      },
      "execution_count": null,
      "outputs": [
        {
          "output_type": "stream",
          "name": "stdout",
          "text": [
            "+---+------+----+\n",
            "| id|nombre|edad|\n",
            "+---+------+----+\n",
            "|  3| Maria|  43|\n",
            "+---+------+----+\n",
            "\n"
          ]
        }
      ]
    }
  ]
}