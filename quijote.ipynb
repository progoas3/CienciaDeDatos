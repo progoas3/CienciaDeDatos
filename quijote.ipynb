{
  "nbformat": 4,
  "nbformat_minor": 0,
  "metadata": {
    "colab": {
      "provenance": [],
      "authorship_tag": "ABX9TyPn1Z7XmfXA7f7ulhyWt/aM",
      "include_colab_link": true
    },
    "kernelspec": {
      "name": "python3",
      "display_name": "Python 3"
    },
    "language_info": {
      "name": "python"
    }
  },
  "cells": [
    {
      "cell_type": "markdown",
      "metadata": {
        "id": "view-in-github",
        "colab_type": "text"
      },
      "source": [
        "<a href=\"https://colab.research.google.com/github/PythonJulianPrieto/CienciaDeDatos/blob/main/quijote.ipynb\" target=\"_parent\"><img src=\"https://colab.research.google.com/assets/colab-badge.svg\" alt=\"Open In Colab\"/></a>"
      ]
    },
    {
      "cell_type": "markdown",
      "source": [
        "#PySpark instalación\n",
        "\n",
        "Pasos para iniciar en un proyecto de PySpark\n",
        "\n",
        "1) Actualizar el sistema operativo de ubuntu en Google Colab.\n"
      ],
      "metadata": {
        "id": "yEscl0U_NC_B"
      }
    },
    {
      "cell_type": "code",
      "source": [
        "#!ls -la\n",
        "\n",
        "#!java -version\n",
        "\n",
        "#!mkdir spark\n",
        "\n",
        "#Actualizamos el sistema operativo, antes de instalar Java y de instalar Spark\n",
        "#Requiere el root\n",
        "#!sudo "
      ],
      "metadata": {
        "id": "hVdMz0psNzex"
      },
      "execution_count": null,
      "outputs": []
    },
    {
      "cell_type": "code",
      "source": [
        "#Descargar el paquete de Spark con la version de Hadoop\n",
        "\n",
        "!wget https://downloads.apache.org/spark/spark-3.2.0/spark-3.2.0-bin-hadoop3.2.tgz"
      ],
      "metadata": {
        "colab": {
          "base_uri": "https://localhost:8080/"
        },
        "id": "I-W7SJUoS8xJ",
        "outputId": "6ff0a146-e7f5-4a3e-d2eb-c10351ffb093"
      },
      "execution_count": null,
      "outputs": [
        {
          "output_type": "stream",
          "name": "stdout",
          "text": [
            "--2021-12-28 16:03:19--  https://downloads.apache.org/spark/spark-3.2.0/spark-3.2.0-bin-hadoop3.2.tgz\n",
            "Resolving downloads.apache.org (downloads.apache.org)... 135.181.214.104, 88.99.95.219, 2a01:4f8:10a:201a::2, ...\n",
            "Connecting to downloads.apache.org (downloads.apache.org)|135.181.214.104|:443... connected.\n",
            "HTTP request sent, awaiting response... 200 OK\n",
            "Length: 300965906 (287M) [application/x-gzip]\n",
            "Saving to: ‘spark-3.2.0-bin-hadoop3.2.tgz.1’\n",
            "\n",
            "spark-3.2.0-bin-had 100%[===================>] 287.02M  10.2MB/s    in 30s     \n",
            "\n",
            "2021-12-28 16:03:50 (9.56 MB/s) - ‘spark-3.2.0-bin-hadoop3.2.tgz.1’ saved [300965906/300965906]\n",
            "\n"
          ]
        }
      ]
    },
    {
      "cell_type": "code",
      "source": [
        "#Descomprimimos la version de Spark y Hadoop\n",
        "\n",
        "!tar -xvf /content/spark-3.2.0-bin-hadoop3.2.tgz"
      ],
      "metadata": {
        "id": "1anMzwzlTV3A"
      },
      "execution_count": null,
      "outputs": []
    },
    {
      "cell_type": "markdown",
      "source": [
        "Configurar la variable de ambiente de Spark."
      ],
      "metadata": {
        "id": "1OMV8nZwU_42"
      }
    },
    {
      "cell_type": "code",
      "source": [
        "import os\n",
        "\n",
        "os.environ['SPARK_HOME'] = '/content/spark-3.2.0-bin-hadoop3.2'"
      ],
      "metadata": {
        "id": "45NWxZSeVFQA"
      },
      "execution_count": null,
      "outputs": []
    },
    {
      "cell_type": "markdown",
      "source": [
        "#INSTALAR SPARK DENTRO DE PYTHON"
      ],
      "metadata": {
        "id": "1YtZdW0iVyge"
      }
    },
    {
      "cell_type": "code",
      "source": [
        "#Cargar install \n",
        "!pip install -q findspark"
      ],
      "metadata": {
        "id": "cWBGX6KZV3va"
      },
      "execution_count": null,
      "outputs": []
    },
    {
      "cell_type": "code",
      "source": [
        "#Realizaremos el import de findspark dentro de la sesión actual \n",
        "\n",
        "import findspark\n",
        "\n",
        "findspark.init()"
      ],
      "metadata": {
        "id": "FkaWfMWQWP3_"
      },
      "execution_count": null,
      "outputs": []
    },
    {
      "cell_type": "markdown",
      "source": [
        "El SparkContext me permite definir las variables de entorno de la sesión\n",
        "\n",
        "SparkConf permite configurar la sesión para interactuar, debe definirce el nombre de la aplicación y cual es el master del cluster. si va a usar una maquina local si un cluster o esta ejecuntado el python en una maquina local debe escribir **Local[*]**"
      ],
      "metadata": {
        "id": "dduhQNJhXHno"
      }
    },
    {
      "cell_type": "code",
      "source": [
        "from pyspark import SparkConf, SparkContext\n",
        "\n"
      ],
      "metadata": {
        "id": "NACMvC9uYFW_"
      },
      "execution_count": null,
      "outputs": []
    },
    {
      "cell_type": "code",
      "source": [
        "#Lancemos una aplicacion en Hadoop, utilizando spark llamada taller y el nodo maestro a usar va a ser la maquina local\n",
        "conf = SparkConf().setAppName(\"Quijote\").setMaster(\"local[*]\")\n",
        "sc = SparkContext(conf=conf)"
      ],
      "metadata": {
        "id": "wQaLx9EYaWug"
      },
      "execution_count": null,
      "outputs": []
    },
    {
      "cell_type": "markdown",
      "source": [
        "#**Descargar el libro de don quijote**"
      ],
      "metadata": {
        "id": "852hEfFPyRv9"
      }
    },
    {
      "cell_type": "code",
      "source": [
        "!wget https://raw.githubusercontent.com/adiacla/bigdata/master/donQuijote.txt"
      ],
      "metadata": {
        "colab": {
          "base_uri": "https://localhost:8080/"
        },
        "id": "RjQrn7b9yMg-",
        "outputId": "de4a9077-ad06-4708-a12c-94a26e10f29b"
      },
      "execution_count": null,
      "outputs": [
        {
          "output_type": "stream",
          "name": "stdout",
          "text": [
            "--2021-12-28 16:05:37--  https://raw.githubusercontent.com/adiacla/bigdata/master/donQuijote.txt\n",
            "Resolving raw.githubusercontent.com (raw.githubusercontent.com)... 185.199.108.133, 185.199.110.133, 185.199.109.133, ...\n",
            "Connecting to raw.githubusercontent.com (raw.githubusercontent.com)|185.199.108.133|:443... connected.\n",
            "HTTP request sent, awaiting response... 200 OK\n",
            "Length: 2198927 (2.1M) [text/plain]\n",
            "Saving to: ‘donQuijote.txt’\n",
            "\n",
            "donQuijote.txt      100%[===================>]   2.10M  --.-KB/s    in 0.08s   \n",
            "\n",
            "2021-12-28 16:05:38 (27.1 MB/s) - ‘donQuijote.txt’ saved [2198927/2198927]\n",
            "\n"
          ]
        }
      ]
    },
    {
      "cell_type": "code",
      "source": [
        "libro = sc.textFile('donQuijote.txt')"
      ],
      "metadata": {
        "id": "qKZRVBYoynM-"
      },
      "execution_count": null,
      "outputs": []
    },
    {
      "cell_type": "code",
      "source": [
        "libro.take(10)"
      ],
      "metadata": {
        "colab": {
          "base_uri": "https://localhost:8080/"
        },
        "id": "ZZLR6SKTy1bN",
        "outputId": "bad2e956-bcea-4ba8-ce1e-e0ada694aa6f"
      },
      "execution_count": null,
      "outputs": [
        {
          "output_type": "execute_result",
          "data": {
            "text/plain": [
              "['The Project Gutenberg EBook of Don Quijote, by Miguel de Cervantes Saavedra',\n",
              " '',\n",
              " 'This eBook is for the use of anyone anywhere at no cost and with',\n",
              " 'almost no restrictions whatsoever.  You may copy it, give it away or',\n",
              " 're-use it under the terms of the Project Gutenberg License included',\n",
              " 'with this eBook or online at www.gutenberg.net',\n",
              " '',\n",
              " '',\n",
              " 'Title: Don Quijote',\n",
              " '']"
            ]
          },
          "metadata": {},
          "execution_count": 13
        }
      ]
    },
    {
      "cell_type": "code",
      "source": [
        "libro.count()"
      ],
      "metadata": {
        "colab": {
          "base_uri": "https://localhost:8080/"
        },
        "id": "pTkXXWyNzZM2",
        "outputId": "48c7e6d1-62ec-40df-ad02-d3c2f7c57412"
      },
      "execution_count": null,
      "outputs": [
        {
          "output_type": "execute_result",
          "data": {
            "text/plain": [
              "37861"
            ]
          },
          "metadata": {},
          "execution_count": 14
        }
      ]
    },
    {
      "cell_type": "code",
      "source": [
        "#Saber cuantas veces se repite la palabra quijote\n",
        "numeroQuijote = libro.filter(lambda x:\"Quijote\" in x)\n",
        "numeroQuijote.take(10)"
      ],
      "metadata": {
        "colab": {
          "base_uri": "https://localhost:8080/"
        },
        "id": "RPaCwx1rzea2",
        "outputId": "79457b08-08c6-4e89-bec6-e4f6c1a2152f"
      },
      "execution_count": null,
      "outputs": [
        {
          "output_type": "execute_result",
          "data": {
            "text/plain": [
              "['The Project Gutenberg EBook of Don Quijote, by Miguel de Cervantes Saavedra',\n",
              " 'Title: Don Quijote',\n",
              " 'El ingenioso hidalgo don Quijote de la Mancha',\n",
              " 'vulgo, he determinado de sacar a luz al Ingenioso hidalgo don Quijote de la',\n",
              " 'Don Quijote, no quiero irme con la corriente del uso, ni suplicarte, casi',\n",
              " 'había de hacer a la historia de don Quijote, y que me tenía de suerte que',\n",
              " 'yo determino que el señor don Quijote se quede sepultado en sus archivos en',\n",
              " 'famoso don Quijote, luz y espejo de toda la caballería andante.',\n",
              " 'tan sincera y tan sin revueltas la historia del famoso don Quijote de la',\n",
              " '   tus proezas envidio, ¡oh gran Quijote!']"
            ]
          },
          "metadata": {},
          "execution_count": 17
        }
      ]
    },
    {
      "cell_type": "code",
      "source": [
        "numeroQuijote.count()"
      ],
      "metadata": {
        "colab": {
          "base_uri": "https://localhost:8080/"
        },
        "id": "7QgoK21o0gU1",
        "outputId": "f5cd2207-cf6b-4f04-c21e-7e8e2e18381c"
      },
      "execution_count": null,
      "outputs": [
        {
          "output_type": "execute_result",
          "data": {
            "text/plain": [
              "2159"
            ]
          },
          "metadata": {},
          "execution_count": 18
        }
      ]
    },
    {
      "cell_type": "code",
      "source": [
        "separadosRDD = libro.flatMap(lambda x:x.split(\" \"))\n",
        "separadosRDD.take(10)"
      ],
      "metadata": {
        "colab": {
          "base_uri": "https://localhost:8080/"
        },
        "id": "urDXM1Q81U69",
        "outputId": "921d5809-9826-48e1-c8b9-678fb28a0f7c"
      },
      "execution_count": null,
      "outputs": [
        {
          "output_type": "execute_result",
          "data": {
            "text/plain": [
              "['The',\n",
              " 'Project',\n",
              " 'Gutenberg',\n",
              " 'EBook',\n",
              " 'of',\n",
              " 'Don',\n",
              " 'Quijote,',\n",
              " 'by',\n",
              " 'Miguel',\n",
              " 'de']"
            ]
          },
          "metadata": {},
          "execution_count": 19
        }
      ]
    },
    {
      "cell_type": "code",
      "source": [
        "qMayusculas = separadosRDD.filter(lambda x:x.startswith(\"d\"))\n",
        "qMayusculas.take(10)"
      ],
      "metadata": {
        "colab": {
          "base_uri": "https://localhost:8080/"
        },
        "id": "YqNjcChR1z6m",
        "outputId": "c7493966-8221-449f-ec2a-ec1ea1bf4972"
      },
      "execution_count": null,
      "outputs": [
        {
          "output_type": "execute_result",
          "data": {
            "text/plain": [
              "['de', 'de', 'don', 'de', 'de', 'de', 'del', 'de', 'doy', 'dél']"
            ]
          },
          "metadata": {},
          "execution_count": 22
        }
      ]
    },
    {
      "cell_type": "code",
      "source": [
        "#La siguiente funcion lambda me mapea las palabras en pares\n",
        "parPalabras = separadosRDD.map(lambda x:(x,1))\n",
        "parPalabras.take(10)"
      ],
      "metadata": {
        "colab": {
          "base_uri": "https://localhost:8080/"
        },
        "id": "wE-MZan72YZY",
        "outputId": "913576a7-1ef8-4fb4-d65b-64ae3bf3cb15"
      },
      "execution_count": null,
      "outputs": [
        {
          "output_type": "execute_result",
          "data": {
            "text/plain": [
              "[('The', 1),\n",
              " ('Project', 1),\n",
              " ('Gutenberg', 1),\n",
              " ('EBook', 1),\n",
              " ('of', 1),\n",
              " ('Don', 1),\n",
              " ('Quijote,', 1),\n",
              " ('by', 1),\n",
              " ('Miguel', 1),\n",
              " ('de', 1)]"
            ]
          },
          "metadata": {},
          "execution_count": 27
        }
      ]
    },
    {
      "cell_type": "code",
      "source": [
        "cantidadPalabra = parPalabras.reduceByKey(lambda x,y: x+y)\n",
        "cantidadPalabra.take(10)"
      ],
      "metadata": {
        "colab": {
          "base_uri": "https://localhost:8080/"
        },
        "id": "jwq7dIjj3btN",
        "outputId": "d4fa80c7-3f49-40d5-8351-d824f2a322c7"
      },
      "execution_count": null,
      "outputs": [
        {
          "output_type": "execute_result",
          "data": {
            "text/plain": [
              "[('The', 12),\n",
              " ('Project', 80),\n",
              " ('EBook', 1),\n",
              " ('of', 107),\n",
              " ('Don', 96),\n",
              " ('Quijote,', 531),\n",
              " ('Miguel', 21),\n",
              " ('', 9504),\n",
              " ('is', 25),\n",
              " ('use', 11)]"
            ]
          },
          "metadata": {},
          "execution_count": 28
        }
      ]
    },
    {
      "cell_type": "code",
      "source": [
        "#Salvar un RDD en un archivo en el sistema operativo :D\n",
        "cantidadPalabra.saveAsTextFile('cantidadPalabraDeDonQuijote')"
      ],
      "metadata": {
        "id": "ivBoh-rk4BWt"
      },
      "execution_count": null,
      "outputs": []
    },
    {
      "cell_type": "code",
      "source": [
        "!head ./cantidadPalabraDeDonQuijote/part-00001"
      ],
      "metadata": {
        "colab": {
          "base_uri": "https://localhost:8080/"
        },
        "id": "ePI9GP_D4nk9",
        "outputId": "34bc29ea-9af9-49da-bf72-0650088b33eb"
      },
      "execution_count": null,
      "outputs": [
        {
          "output_type": "stream",
          "name": "stdout",
          "text": [
            "('Gutenberg', 22)\n",
            "('by', 23)\n",
            "('de', 17988)\n",
            "('Cervantes', 12)\n",
            "('Saavedra', 3)\n",
            "('This', 5)\n",
            "('eBook', 5)\n",
            "('for', 21)\n",
            "('the', 157)\n",
            "('cost', 2)\n"
          ]
        }
      ]
    },
    {
      "cell_type": "code",
      "source": [
        "#Encontrar dentro de don Quijote, cuales lineas tienen digitos o numeros\n",
        "digitos = libro.filter(lambda x: any(i.isdigit()for i in x))\n",
        "digitos.take(10)"
      ],
      "metadata": {
        "colab": {
          "base_uri": "https://localhost:8080/"
        },
        "id": "9e9zBs1_48AO",
        "outputId": "04c6cb54-8c3b-4ec2-e6be-8b3952639bf2"
      },
      "execution_count": null,
      "outputs": [
        {
          "output_type": "execute_result",
          "data": {
            "text/plain": [
              "['Posting Date: April 27, 2010 [EBook #2000]',\n",
              " 'Release Date: December, 1999',\n",
              " 'de 1604 años.',\n",
              " 'signis Ecclesiae, cap. 10, alentando ánimos marchitos y espíritus',\n",
              " 'Madrid, a 17 de marzo de 1615.',\n",
              " 'habéis señalado, 23 días ha que salimos de nuestro pueblo: contad, Sancho,',\n",
              " 'veinte de julio de 1614.',\n",
              " 'como se espera de vuestro entendimiento. Deste lugar, a 16 de agosto, a las',\n",
              " '***** This file should be named 2000-8.txt or 2000-8.zip *****',\n",
              " '        http://www.gutenberg.org/2/0/0/2000/']"
            ]
          },
          "metadata": {},
          "execution_count": 32
        }
      ]
    },
    {
      "cell_type": "code",
      "source": [
        "libro.filter(lambda x: any(i.isdigit()for i in x)).count()"
      ],
      "metadata": {
        "colab": {
          "base_uri": "https://localhost:8080/"
        },
        "id": "VGSya7PY65hO",
        "outputId": "3dedd691-edac-4f52-fa30-4792dfb1edbd"
      },
      "execution_count": null,
      "outputs": [
        {
          "output_type": "execute_result",
          "data": {
            "text/plain": [
              "67"
            ]
          },
          "metadata": {},
          "execution_count": 34
        }
      ]
    },
    {
      "cell_type": "code",
      "source": [
        "libro.filter(lambda x: not any(i.isdigit()for i in x)).count()"
      ],
      "metadata": {
        "colab": {
          "base_uri": "https://localhost:8080/"
        },
        "id": "HjDk8VsH7Ltt",
        "outputId": "b22cd688-a310-4754-f987-a99a56e11e96"
      },
      "execution_count": null,
      "outputs": [
        {
          "output_type": "execute_result",
          "data": {
            "text/plain": [
              "37794"
            ]
          },
          "metadata": {},
          "execution_count": 35
        }
      ]
    },
    {
      "cell_type": "code",
      "source": [
        "libro.filter(lambda x: not any(i.isdigit()for i in x)).take(10)"
      ],
      "metadata": {
        "colab": {
          "base_uri": "https://localhost:8080/"
        },
        "id": "Et2xVg8Y7dAe",
        "outputId": "45456f33-a73c-4040-eb41-fb219ea470b7"
      },
      "execution_count": null,
      "outputs": [
        {
          "output_type": "execute_result",
          "data": {
            "text/plain": [
              "['The Project Gutenberg EBook of Don Quijote, by Miguel de Cervantes Saavedra',\n",
              " '',\n",
              " 'This eBook is for the use of anyone anywhere at no cost and with',\n",
              " 'almost no restrictions whatsoever.  You may copy it, give it away or',\n",
              " 're-use it under the terms of the Project Gutenberg License included',\n",
              " 'with this eBook or online at www.gutenberg.net',\n",
              " '',\n",
              " '',\n",
              " 'Title: Don Quijote',\n",
              " '']"
            ]
          },
          "metadata": {},
          "execution_count": 36
        }
      ]
    }
  ]
}