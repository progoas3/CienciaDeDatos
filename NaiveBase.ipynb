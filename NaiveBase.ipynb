{
  "nbformat": 4,
  "nbformat_minor": 0,
  "metadata": {
    "colab": {
      "provenance": [],
      "authorship_tag": "ABX9TyOAhKYT9fmNX3H4LFDENwZn",
      "include_colab_link": true
    },
    "kernelspec": {
      "name": "python3",
      "display_name": "Python 3"
    },
    "language_info": {
      "name": "python"
    }
  },
  "cells": [
    {
      "cell_type": "markdown",
      "metadata": {
        "id": "view-in-github",
        "colab_type": "text"
      },
      "source": [
        "<a href=\"https://colab.research.google.com/github/PythonJulianPrieto/CienciaDeDatos/blob/main/NaiveBase.ipynb\" target=\"_parent\"><img src=\"https://colab.research.google.com/assets/colab-badge.svg\" alt=\"Open In Colab\"/></a>"
      ]
    },
    {
      "cell_type": "code",
      "source": [
        "!pip install sklearn"
      ],
      "metadata": {
        "colab": {
          "base_uri": "https://localhost:8080/"
        },
        "id": "5lj2rJwuDNfY",
        "outputId": "754d069f-345a-4398-d5a2-a5ed302bebe7"
      },
      "execution_count": 1,
      "outputs": [
        {
          "output_type": "stream",
          "name": "stdout",
          "text": [
            "Looking in indexes: https://pypi.org/simple, https://us-python.pkg.dev/colab-wheels/public/simple/\n",
            "Collecting sklearn\n",
            "  Downloading sklearn-0.0.post4.tar.gz (3.6 kB)\n",
            "  Preparing metadata (setup.py) ... \u001b[?25l\u001b[?25hdone\n",
            "Building wheels for collected packages: sklearn\n",
            "  Building wheel for sklearn (setup.py) ... \u001b[?25l\u001b[?25hdone\n",
            "  Created wheel for sklearn: filename=sklearn-0.0.post4-py3-none-any.whl size=2973 sha256=55e7ec232f689673d7a364d318f2f96aaf841c564d315f0c36d31e690bedbe36\n",
            "  Stored in directory: /root/.cache/pip/wheels/d5/b2/a9/590d15767d34955f20a9a033e8db973b79cb5672d95790c0a9\n",
            "Successfully built sklearn\n",
            "Installing collected packages: sklearn\n",
            "Successfully installed sklearn-0.0.post4\n"
          ]
        }
      ]
    },
    {
      "cell_type": "markdown",
      "source": [
        "#***CARGAR LIBRERIAS***"
      ],
      "metadata": {
        "id": "zyuxIvYw_9v_"
      }
    },
    {
      "cell_type": "code",
      "execution_count": 2,
      "metadata": {
        "id": "y3CynWXD_tkI"
      },
      "outputs": [],
      "source": [
        "#Importamos librerias genericas de Pandas\n",
        "import pandas as pd\n",
        "import numpy as np\n",
        "import matplotlib.pyplot as plt\n",
        "from matplotlib import colors\n",
        "import seaborn as sb\n",
        "import joblib\n",
        "%matplotlib inline\n",
        "\n",
        "#Importamos las librerias sklearn para el modelo \n",
        "from sklearn.model_selection import train_test_split ##Separa la data de entrenamiento y datos de validacion\n",
        "from sklearn.naive_bayes import GaussianNB ##MODELO \n",
        "from sklearn.feature_selection import SelectKBest##Selecciona las mejores columnas/caracteristicas bajo una recomendación\n",
        "\n",
        "##Metricas de validacion de los modelso de clasificación\n",
        "#Métricas de validación simple\n",
        "from sklearn.metrics import confusion_matrix\n",
        "from sklearn.metrics import classification_report\n",
        "from sklearn import metrics\n",
        "from sklearn.metrics import accuracy_score\n",
        "from sklearn.metrics import roc_auc_score\n",
        "\n",
        "#Validación cruzada\n",
        "\n",
        "from sklearn.model_selection import cross_val_score\n",
        "from sklearn.model_selection import KFold\n",
        "\n",
        "\n",
        "from sklearn.metrics import roc_auc_score"
      ]
    },
    {
      "cell_type": "markdown",
      "source": [
        "#Realizar preprocesamiento"
      ],
      "metadata": {
        "id": "QWxw1Goc_8CP"
      }
    },
    {
      "cell_type": "code",
      "source": [
        "df = pd.read_csv('https://raw.githubusercontent.com/adiacla/bigdata/master/comprar_alquilar.csv', sep=',')"
      ],
      "metadata": {
        "id": "VGKSx3LKD5R3"
      },
      "execution_count": 3,
      "outputs": []
    },
    {
      "cell_type": "code",
      "source": [
        "df.head(10)"
      ],
      "metadata": {
        "colab": {
          "base_uri": "https://localhost:8080/",
          "height": 363
        },
        "id": "gUaiTeEjE1ro",
        "outputId": "bfab9c3e-d090-429b-8ecf-13e9d3263fc2"
      },
      "execution_count": 4,
      "outputs": [
        {
          "output_type": "execute_result",
          "data": {
            "text/plain": [
              "   ingresos  gasto_ppal  vehiculo  otros_gastos  ahorros  Valor_vivienda  \\\n",
              "0      6000        1000         0           600    50000          400000   \n",
              "1      6745         944       123           429    43240          636897   \n",
              "2      6455        1033        98           795    57463          321779   \n",
              "3      7098        1278        15           254    54506          660933   \n",
              "4      6167         863       223           520    41512          348932   \n",
              "5      5692         911        11           325    50875          360863   \n",
              "6      6830        1298       345           309    46761          429812   \n",
              "7      6470        1035        39           782    57439          606291   \n",
              "8      6251        1250       209           571    50503          291010   \n",
              "9      6987        1258       252           245    40611          324098   \n",
              "\n",
              "   estado_civil  hijos  trabajo  comprara  \n",
              "0             0      2        2         1  \n",
              "1             1      3        6         0  \n",
              "2             2      1        8         1  \n",
              "3             0      0        3         0  \n",
              "4             0      0        3         1  \n",
              "5             1      4        5         1  \n",
              "6             1      1        5         1  \n",
              "7             0      0        1         0  \n",
              "8             0      0        3         1  \n",
              "9             2      1        7         1  "
            ],
            "text/html": [
              "\n",
              "  <div id=\"df-7e9981cd-2d43-40e5-a7b7-37f01c9975cc\">\n",
              "    <div class=\"colab-df-container\">\n",
              "      <div>\n",
              "<style scoped>\n",
              "    .dataframe tbody tr th:only-of-type {\n",
              "        vertical-align: middle;\n",
              "    }\n",
              "\n",
              "    .dataframe tbody tr th {\n",
              "        vertical-align: top;\n",
              "    }\n",
              "\n",
              "    .dataframe thead th {\n",
              "        text-align: right;\n",
              "    }\n",
              "</style>\n",
              "<table border=\"1\" class=\"dataframe\">\n",
              "  <thead>\n",
              "    <tr style=\"text-align: right;\">\n",
              "      <th></th>\n",
              "      <th>ingresos</th>\n",
              "      <th>gasto_ppal</th>\n",
              "      <th>vehiculo</th>\n",
              "      <th>otros_gastos</th>\n",
              "      <th>ahorros</th>\n",
              "      <th>Valor_vivienda</th>\n",
              "      <th>estado_civil</th>\n",
              "      <th>hijos</th>\n",
              "      <th>trabajo</th>\n",
              "      <th>comprara</th>\n",
              "    </tr>\n",
              "  </thead>\n",
              "  <tbody>\n",
              "    <tr>\n",
              "      <th>0</th>\n",
              "      <td>6000</td>\n",
              "      <td>1000</td>\n",
              "      <td>0</td>\n",
              "      <td>600</td>\n",
              "      <td>50000</td>\n",
              "      <td>400000</td>\n",
              "      <td>0</td>\n",
              "      <td>2</td>\n",
              "      <td>2</td>\n",
              "      <td>1</td>\n",
              "    </tr>\n",
              "    <tr>\n",
              "      <th>1</th>\n",
              "      <td>6745</td>\n",
              "      <td>944</td>\n",
              "      <td>123</td>\n",
              "      <td>429</td>\n",
              "      <td>43240</td>\n",
              "      <td>636897</td>\n",
              "      <td>1</td>\n",
              "      <td>3</td>\n",
              "      <td>6</td>\n",
              "      <td>0</td>\n",
              "    </tr>\n",
              "    <tr>\n",
              "      <th>2</th>\n",
              "      <td>6455</td>\n",
              "      <td>1033</td>\n",
              "      <td>98</td>\n",
              "      <td>795</td>\n",
              "      <td>57463</td>\n",
              "      <td>321779</td>\n",
              "      <td>2</td>\n",
              "      <td>1</td>\n",
              "      <td>8</td>\n",
              "      <td>1</td>\n",
              "    </tr>\n",
              "    <tr>\n",
              "      <th>3</th>\n",
              "      <td>7098</td>\n",
              "      <td>1278</td>\n",
              "      <td>15</td>\n",
              "      <td>254</td>\n",
              "      <td>54506</td>\n",
              "      <td>660933</td>\n",
              "      <td>0</td>\n",
              "      <td>0</td>\n",
              "      <td>3</td>\n",
              "      <td>0</td>\n",
              "    </tr>\n",
              "    <tr>\n",
              "      <th>4</th>\n",
              "      <td>6167</td>\n",
              "      <td>863</td>\n",
              "      <td>223</td>\n",
              "      <td>520</td>\n",
              "      <td>41512</td>\n",
              "      <td>348932</td>\n",
              "      <td>0</td>\n",
              "      <td>0</td>\n",
              "      <td>3</td>\n",
              "      <td>1</td>\n",
              "    </tr>\n",
              "    <tr>\n",
              "      <th>5</th>\n",
              "      <td>5692</td>\n",
              "      <td>911</td>\n",
              "      <td>11</td>\n",
              "      <td>325</td>\n",
              "      <td>50875</td>\n",
              "      <td>360863</td>\n",
              "      <td>1</td>\n",
              "      <td>4</td>\n",
              "      <td>5</td>\n",
              "      <td>1</td>\n",
              "    </tr>\n",
              "    <tr>\n",
              "      <th>6</th>\n",
              "      <td>6830</td>\n",
              "      <td>1298</td>\n",
              "      <td>345</td>\n",
              "      <td>309</td>\n",
              "      <td>46761</td>\n",
              "      <td>429812</td>\n",
              "      <td>1</td>\n",
              "      <td>1</td>\n",
              "      <td>5</td>\n",
              "      <td>1</td>\n",
              "    </tr>\n",
              "    <tr>\n",
              "      <th>7</th>\n",
              "      <td>6470</td>\n",
              "      <td>1035</td>\n",
              "      <td>39</td>\n",
              "      <td>782</td>\n",
              "      <td>57439</td>\n",
              "      <td>606291</td>\n",
              "      <td>0</td>\n",
              "      <td>0</td>\n",
              "      <td>1</td>\n",
              "      <td>0</td>\n",
              "    </tr>\n",
              "    <tr>\n",
              "      <th>8</th>\n",
              "      <td>6251</td>\n",
              "      <td>1250</td>\n",
              "      <td>209</td>\n",
              "      <td>571</td>\n",
              "      <td>50503</td>\n",
              "      <td>291010</td>\n",
              "      <td>0</td>\n",
              "      <td>0</td>\n",
              "      <td>3</td>\n",
              "      <td>1</td>\n",
              "    </tr>\n",
              "    <tr>\n",
              "      <th>9</th>\n",
              "      <td>6987</td>\n",
              "      <td>1258</td>\n",
              "      <td>252</td>\n",
              "      <td>245</td>\n",
              "      <td>40611</td>\n",
              "      <td>324098</td>\n",
              "      <td>2</td>\n",
              "      <td>1</td>\n",
              "      <td>7</td>\n",
              "      <td>1</td>\n",
              "    </tr>\n",
              "  </tbody>\n",
              "</table>\n",
              "</div>\n",
              "      <button class=\"colab-df-convert\" onclick=\"convertToInteractive('df-7e9981cd-2d43-40e5-a7b7-37f01c9975cc')\"\n",
              "              title=\"Convert this dataframe to an interactive table.\"\n",
              "              style=\"display:none;\">\n",
              "        \n",
              "  <svg xmlns=\"http://www.w3.org/2000/svg\" height=\"24px\"viewBox=\"0 0 24 24\"\n",
              "       width=\"24px\">\n",
              "    <path d=\"M0 0h24v24H0V0z\" fill=\"none\"/>\n",
              "    <path d=\"M18.56 5.44l.94 2.06.94-2.06 2.06-.94-2.06-.94-.94-2.06-.94 2.06-2.06.94zm-11 1L8.5 8.5l.94-2.06 2.06-.94-2.06-.94L8.5 2.5l-.94 2.06-2.06.94zm10 10l.94 2.06.94-2.06 2.06-.94-2.06-.94-.94-2.06-.94 2.06-2.06.94z\"/><path d=\"M17.41 7.96l-1.37-1.37c-.4-.4-.92-.59-1.43-.59-.52 0-1.04.2-1.43.59L10.3 9.45l-7.72 7.72c-.78.78-.78 2.05 0 2.83L4 21.41c.39.39.9.59 1.41.59.51 0 1.02-.2 1.41-.59l7.78-7.78 2.81-2.81c.8-.78.8-2.07 0-2.86zM5.41 20L4 18.59l7.72-7.72 1.47 1.35L5.41 20z\"/>\n",
              "  </svg>\n",
              "      </button>\n",
              "      \n",
              "  <style>\n",
              "    .colab-df-container {\n",
              "      display:flex;\n",
              "      flex-wrap:wrap;\n",
              "      gap: 12px;\n",
              "    }\n",
              "\n",
              "    .colab-df-convert {\n",
              "      background-color: #E8F0FE;\n",
              "      border: none;\n",
              "      border-radius: 50%;\n",
              "      cursor: pointer;\n",
              "      display: none;\n",
              "      fill: #1967D2;\n",
              "      height: 32px;\n",
              "      padding: 0 0 0 0;\n",
              "      width: 32px;\n",
              "    }\n",
              "\n",
              "    .colab-df-convert:hover {\n",
              "      background-color: #E2EBFA;\n",
              "      box-shadow: 0px 1px 2px rgba(60, 64, 67, 0.3), 0px 1px 3px 1px rgba(60, 64, 67, 0.15);\n",
              "      fill: #174EA6;\n",
              "    }\n",
              "\n",
              "    [theme=dark] .colab-df-convert {\n",
              "      background-color: #3B4455;\n",
              "      fill: #D2E3FC;\n",
              "    }\n",
              "\n",
              "    [theme=dark] .colab-df-convert:hover {\n",
              "      background-color: #434B5C;\n",
              "      box-shadow: 0px 1px 3px 1px rgba(0, 0, 0, 0.15);\n",
              "      filter: drop-shadow(0px 1px 2px rgba(0, 0, 0, 0.3));\n",
              "      fill: #FFFFFF;\n",
              "    }\n",
              "  </style>\n",
              "\n",
              "      <script>\n",
              "        const buttonEl =\n",
              "          document.querySelector('#df-7e9981cd-2d43-40e5-a7b7-37f01c9975cc button.colab-df-convert');\n",
              "        buttonEl.style.display =\n",
              "          google.colab.kernel.accessAllowed ? 'block' : 'none';\n",
              "\n",
              "        async function convertToInteractive(key) {\n",
              "          const element = document.querySelector('#df-7e9981cd-2d43-40e5-a7b7-37f01c9975cc');\n",
              "          const dataTable =\n",
              "            await google.colab.kernel.invokeFunction('convertToInteractive',\n",
              "                                                     [key], {});\n",
              "          if (!dataTable) return;\n",
              "\n",
              "          const docLinkHtml = 'Like what you see? Visit the ' +\n",
              "            '<a target=\"_blank\" href=https://colab.research.google.com/notebooks/data_table.ipynb>data table notebook</a>'\n",
              "            + ' to learn more about interactive tables.';\n",
              "          element.innerHTML = '';\n",
              "          dataTable['output_type'] = 'display_data';\n",
              "          await google.colab.output.renderOutput(dataTable, element);\n",
              "          const docLink = document.createElement('div');\n",
              "          docLink.innerHTML = docLinkHtml;\n",
              "          element.appendChild(docLink);\n",
              "        }\n",
              "      </script>\n",
              "    </div>\n",
              "  </div>\n",
              "  "
            ]
          },
          "metadata": {},
          "execution_count": 4
        }
      ]
    },
    {
      "cell_type": "code",
      "source": [
        "df['comprara'].hist()"
      ],
      "metadata": {
        "colab": {
          "base_uri": "https://localhost:8080/",
          "height": 448
        },
        "id": "mMKCk-NCFJfv",
        "outputId": "55c9dddb-a510-44df-b62a-b4b0aa88262c"
      },
      "execution_count": 5,
      "outputs": [
        {
          "output_type": "execute_result",
          "data": {
            "text/plain": [
              "<Axes: >"
            ]
          },
          "metadata": {},
          "execution_count": 5
        },
        {
          "output_type": "display_data",
          "data": {
            "text/plain": [
              "<Figure size 640x480 with 1 Axes>"
            ],
            "image/png": "[encoded data removed]"
          },
          "metadata": {}
        }
      ]
    },
    {
      "cell_type": "code",
      "source": [
        "#1 Analizar si la etiqueta esta balanceada o no en el campo de la etiqueta?\n",
        "df.groupby('comprara').size()"
      ],
      "metadata": {
        "colab": {
          "base_uri": "https://localhost:8080/"
        },
        "id": "SoSxnuFQF4i4",
        "outputId": "00bdca00-ec8e-46fe-bb4b-42a47bb57795"
      },
      "execution_count": 6,
      "outputs": [
        {
          "output_type": "execute_result",
          "data": {
            "text/plain": [
              "comprara\n",
              "0    135\n",
              "1     67\n",
              "dtype: int64"
            ]
          },
          "metadata": {},
          "execution_count": 6
        }
      ]
    },
    {
      "cell_type": "code",
      "source": [
        "#2 Distribucion de Frecuencias\n",
        "df.hist(figsize=(10,15))"
      ],
      "metadata": {
        "colab": {
          "base_uri": "https://localhost:8080/",
          "height": 1000
        },
        "id": "UDvsuStFGgzg",
        "outputId": "cf577caf-26c8-47db-8e8f-63de01952662"
      },
      "execution_count": 7,
      "outputs": [
        {
          "output_type": "execute_result",
          "data": {
            "text/plain": [
              "array([[<Axes: title={'center': 'ingresos'}>,\n",
              "        <Axes: title={'center': 'gasto_ppal'}>,\n",
              "        <Axes: title={'center': 'vehiculo'}>],\n",
              "       [<Axes: title={'center': 'otros_gastos'}>,\n",
              "        <Axes: title={'center': 'ahorros'}>,\n",
              "        <Axes: title={'center': 'Valor_vivienda'}>],\n",
              "       [<Axes: title={'center': 'estado_civil'}>,\n",
              "        <Axes: title={'center': 'hijos'}>,\n",
              "        <Axes: title={'center': 'trabajo'}>],\n",
              "       [<Axes: title={'center': 'comprara'}>, <Axes: >, <Axes: >]],\n",
              "      dtype=object)"
            ]
          },
          "metadata": {},
          "execution_count": 7
        },
        {
          "output_type": "display_data",
          "data": {
            "text/plain": [
              "<Figure size 1000x1500 with 12 Axes>"
            ],
            "image/png": "[encoded data removed]"
          },
          "metadata": {}
        }
      ]
    },
    {
      "cell_type": "code",
      "source": [
        "df.columns"
      ],
      "metadata": {
        "colab": {
          "base_uri": "https://localhost:8080/"
        },
        "id": "XAebOg1LIOgQ",
        "outputId": "a0b52bb6-6148-4898-c725-fcb53d8823bc"
      },
      "execution_count": 8,
      "outputs": [
        {
          "output_type": "execute_result",
          "data": {
            "text/plain": [
              "Index(['ingresos', 'gasto_ppal', 'vehiculo', 'otros_gastos', 'ahorros',\n",
              "       'Valor_vivienda', 'estado_civil', 'hijos', 'trabajo', 'comprara'],\n",
              "      dtype='object')"
            ]
          },
          "metadata": {},
          "execution_count": 8
        }
      ]
    },
    {
      "cell_type": "code",
      "source": [
        "df.info()"
      ],
      "metadata": {
        "colab": {
          "base_uri": "https://localhost:8080/"
        },
        "id": "acDOWBsTIWRn",
        "outputId": "a7d3466a-2113-492c-f091-122a2d95817e"
      },
      "execution_count": 9,
      "outputs": [
        {
          "output_type": "stream",
          "name": "stdout",
          "text": [
            "<class 'pandas.core.frame.DataFrame'>\n",
            "RangeIndex: 202 entries, 0 to 201\n",
            "Data columns (total 10 columns):\n",
            " #   Column          Non-Null Count  Dtype\n",
            "---  ------          --------------  -----\n",
            " 0   ingresos        202 non-null    int64\n",
            " 1   gasto_ppal      202 non-null    int64\n",
            " 2   vehiculo        202 non-null    int64\n",
            " 3   otros_gastos    202 non-null    int64\n",
            " 4   ahorros         202 non-null    int64\n",
            " 5   Valor_vivienda  202 non-null    int64\n",
            " 6   estado_civil    202 non-null    int64\n",
            " 7   hijos           202 non-null    int64\n",
            " 8   trabajo         202 non-null    int64\n",
            " 9   comprara        202 non-null    int64\n",
            "dtypes: int64(10)\n",
            "memory usage: 15.9 KB\n"
          ]
        }
      ]
    },
    {
      "cell_type": "code",
      "source": [
        "df['gastos'] = df['gasto_ppal']+df['vehiculo']+df['otros_gastos']\n",
        "df['gastos']"
      ],
      "metadata": {
        "colab": {
          "base_uri": "https://localhost:8080/"
        },
        "id": "iiq1dzVrIoDx",
        "outputId": "92b73898-cd49-4386-ec3c-b06c8f3768b7"
      },
      "execution_count": 10,
      "outputs": [
        {
          "output_type": "execute_result",
          "data": {
            "text/plain": [
              "0      1600\n",
              "1      1496\n",
              "2      1926\n",
              "3      1547\n",
              "4      1606\n",
              "       ... \n",
              "197    1530\n",
              "198    1775\n",
              "199    1915\n",
              "200    1888\n",
              "201    1644\n",
              "Name: gastos, Length: 202, dtype: int64"
            ]
          },
          "metadata": {},
          "execution_count": 10
        }
      ]
    },
    {
      "cell_type": "code",
      "source": [
        "df['valor_a_financiar'] = df['Valor_vivienda']-df['ahorros']\n",
        "df['valor_a_financiar']"
      ],
      "metadata": {
        "colab": {
          "base_uri": "https://localhost:8080/"
        },
        "id": "gkwDmIqOJCgo",
        "outputId": "b08c3a83-1b8c-44f2-fea3-884f38711d15"
      },
      "execution_count": 11,
      "outputs": [
        {
          "output_type": "execute_result",
          "data": {
            "text/plain": [
              "0      350000\n",
              "1      593657\n",
              "2      264316\n",
              "3      606427\n",
              "4      307420\n",
              "        ...  \n",
              "197    352397\n",
              "198    258541\n",
              "199    352460\n",
              "200    356907\n",
              "201    245600\n",
              "Name: valor_a_financiar, Length: 202, dtype: int64"
            ]
          },
          "metadata": {},
          "execution_count": 11
        }
      ]
    },
    {
      "cell_type": "code",
      "source": [
        "dfMinable = df.drop(['Valor_vivienda','ahorros','gasto_ppal','vehiculo','otros_gastos'], axis = 1)"
      ],
      "metadata": {
        "id": "NQTGpvUqJPb4"
      },
      "execution_count": 12,
      "outputs": []
    },
    {
      "cell_type": "code",
      "source": [
        "dfMinable"
      ],
      "metadata": {
        "colab": {
          "base_uri": "https://localhost:8080/",
          "height": 424
        },
        "id": "-BVClaq9Jq4B",
        "outputId": "9380df49-2392-4646-a40f-2ce06cdc7383"
      },
      "execution_count": 13,
      "outputs": [
        {
          "output_type": "execute_result",
          "data": {
            "text/plain": [
              "     ingresos  estado_civil  hijos  trabajo  comprara  gastos  \\\n",
              "0        6000             0      2        2         1    1600   \n",
              "1        6745             1      3        6         0    1496   \n",
              "2        6455             2      1        8         1    1926   \n",
              "3        7098             0      0        3         0    1547   \n",
              "4        6167             0      0        3         1    1606   \n",
              "..        ...           ...    ...      ...       ...     ...   \n",
              "197      3831             0      0        2         0    1530   \n",
              "198      3961             2      3        8         0    1775   \n",
              "199      3184             1      3        8         0    1915   \n",
              "200      3334             1      2        5         0    1888   \n",
              "201      3988             0      0        4         0    1644   \n",
              "\n",
              "     valor_a_financiar  \n",
              "0               350000  \n",
              "1               593657  \n",
              "2               264316  \n",
              "3               606427  \n",
              "4               307420  \n",
              "..                 ...  \n",
              "197             352397  \n",
              "198             258541  \n",
              "199             352460  \n",
              "200             356907  \n",
              "201             245600  \n",
              "\n",
              "[202 rows x 7 columns]"
            ],
            "text/html": [
              "\n",
              "  <div id=\"df-b103e957-0a57-412a-9f47-f25592ca41a7\">\n",
              "    <div class=\"colab-df-container\">\n",
              "      <div>\n",
              "<style scoped>\n",
              "    .dataframe tbody tr th:only-of-type {\n",
              "        vertical-align: middle;\n",
              "    }\n",
              "\n",
              "    .dataframe tbody tr th {\n",
              "        vertical-align: top;\n",
              "    }\n",
              "\n",
              "    .dataframe thead th {\n",
              "        text-align: right;\n",
              "    }\n",
              "</style>\n",
              "<table border=\"1\" class=\"dataframe\">\n",
              "  <thead>\n",
              "    <tr style=\"text-align: right;\">\n",
              "      <th></th>\n",
              "      <th>ingresos</th>\n",
              "      <th>estado_civil</th>\n",
              "      <th>hijos</th>\n",
              "      <th>trabajo</th>\n",
              "      <th>comprara</th>\n",
              "      <th>gastos</th>\n",
              "      <th>valor_a_financiar</th>\n",
              "    </tr>\n",
              "  </thead>\n",
              "  <tbody>\n",
              "    <tr>\n",
              "      <th>0</th>\n",
              "      <td>6000</td>\n",
              "      <td>0</td>\n",
              "      <td>2</td>\n",
              "      <td>2</td>\n",
              "      <td>1</td>\n",
              "      <td>1600</td>\n",
              "      <td>350000</td>\n",
              "    </tr>\n",
              "    <tr>\n",
              "      <th>1</th>\n",
              "      <td>6745</td>\n",
              "      <td>1</td>\n",
              "      <td>3</td>\n",
              "      <td>6</td>\n",
              "      <td>0</td>\n",
              "      <td>1496</td>\n",
              "      <td>593657</td>\n",
              "    </tr>\n",
              "    <tr>\n",
              "      <th>2</th>\n",
              "      <td>6455</td>\n",
              "      <td>2</td>\n",
              "      <td>1</td>\n",
              "      <td>8</td>\n",
              "      <td>1</td>\n",
              "      <td>1926</td>\n",
              "      <td>264316</td>\n",
              "    </tr>\n",
              "    <tr>\n",
              "      <th>3</th>\n",
              "      <td>7098</td>\n",
              "      <td>0</td>\n",
              "      <td>0</td>\n",
              "      <td>3</td>\n",
              "      <td>0</td>\n",
              "      <td>1547</td>\n",
              "      <td>606427</td>\n",
              "    </tr>\n",
              "    <tr>\n",
              "      <th>4</th>\n",
              "      <td>6167</td>\n",
              "      <td>0</td>\n",
              "      <td>0</td>\n",
              "      <td>3</td>\n",
              "      <td>1</td>\n",
              "      <td>1606</td>\n",
              "      <td>307420</td>\n",
              "    </tr>\n",
              "    <tr>\n",
              "      <th>...</th>\n",
              "      <td>...</td>\n",
              "      <td>...</td>\n",
              "      <td>...</td>\n",
              "      <td>...</td>\n",
              "      <td>...</td>\n",
              "      <td>...</td>\n",
              "      <td>...</td>\n",
              "    </tr>\n",
              "    <tr>\n",
              "      <th>197</th>\n",
              "      <td>3831</td>\n",
              "      <td>0</td>\n",
              "      <td>0</td>\n",
              "      <td>2</td>\n",
              "      <td>0</td>\n",
              "      <td>1530</td>\n",
              "      <td>352397</td>\n",
              "    </tr>\n",
              "    <tr>\n",
              "      <th>198</th>\n",
              "      <td>3961</td>\n",
              "      <td>2</td>\n",
              "      <td>3</td>\n",
              "      <td>8</td>\n",
              "      <td>0</td>\n",
              "      <td>1775</td>\n",
              "      <td>258541</td>\n",
              "    </tr>\n",
              "    <tr>\n",
              "      <th>199</th>\n",
              "      <td>3184</td>\n",
              "      <td>1</td>\n",
              "      <td>3</td>\n",
              "      <td>8</td>\n",
              "      <td>0</td>\n",
              "      <td>1915</td>\n",
              "      <td>352460</td>\n",
              "    </tr>\n",
              "    <tr>\n",
              "      <th>200</th>\n",
              "      <td>3334</td>\n",
              "      <td>1</td>\n",
              "      <td>2</td>\n",
              "      <td>5</td>\n",
              "      <td>0</td>\n",
              "      <td>1888</td>\n",
              "      <td>356907</td>\n",
              "    </tr>\n",
              "    <tr>\n",
              "      <th>201</th>\n",
              "      <td>3988</td>\n",
              "      <td>0</td>\n",
              "      <td>0</td>\n",
              "      <td>4</td>\n",
              "      <td>0</td>\n",
              "      <td>1644</td>\n",
              "      <td>245600</td>\n",
              "    </tr>\n",
              "  </tbody>\n",
              "</table>\n",
              "<p>202 rows × 7 columns</p>\n",
              "</div>\n",
              "      <button class=\"colab-df-convert\" onclick=\"convertToInteractive('df-b103e957-0a57-412a-9f47-f25592ca41a7')\"\n",
              "              title=\"Convert this dataframe to an interactive table.\"\n",
              "              style=\"display:none;\">\n",
              "        \n",
              "  <svg xmlns=\"http://www.w3.org/2000/svg\" height=\"24px\"viewBox=\"0 0 24 24\"\n",
              "       width=\"24px\">\n",
              "    <path d=\"M0 0h24v24H0V0z\" fill=\"none\"/>\n",
              "    <path d=\"M18.56 5.44l.94 2.06.94-2.06 2.06-.94-2.06-.94-.94-2.06-.94 2.06-2.06.94zm-11 1L8.5 8.5l.94-2.06 2.06-.94-2.06-.94L8.5 2.5l-.94 2.06-2.06.94zm10 10l.94 2.06.94-2.06 2.06-.94-2.06-.94-.94-2.06-.94 2.06-2.06.94z\"/><path d=\"M17.41 7.96l-1.37-1.37c-.4-.4-.92-.59-1.43-.59-.52 0-1.04.2-1.43.59L10.3 9.45l-7.72 7.72c-.78.78-.78 2.05 0 2.83L4 21.41c.39.39.9.59 1.41.59.51 0 1.02-.2 1.41-.59l7.78-7.78 2.81-2.81c.8-.78.8-2.07 0-2.86zM5.41 20L4 18.59l7.72-7.72 1.47 1.35L5.41 20z\"/>\n",
              "  </svg>\n",
              "      </button>\n",
              "      \n",
              "  <style>\n",
              "    .colab-df-container {\n",
              "      display:flex;\n",
              "      flex-wrap:wrap;\n",
              "      gap: 12px;\n",
              "    }\n",
              "\n",
              "    .colab-df-convert {\n",
              "      background-color: #E8F0FE;\n",
              "      border: none;\n",
              "      border-radius: 50%;\n",
              "      cursor: pointer;\n",
              "      display: none;\n",
              "      fill: #1967D2;\n",
              "      height: 32px;\n",
              "      padding: 0 0 0 0;\n",
              "      width: 32px;\n",
              "    }\n",
              "\n",
              "    .colab-df-convert:hover {\n",
              "      background-color: #E2EBFA;\n",
              "      box-shadow: 0px 1px 2px rgba(60, 64, 67, 0.3), 0px 1px 3px 1px rgba(60, 64, 67, 0.15);\n",
              "      fill: #174EA6;\n",
              "    }\n",
              "\n",
              "    [theme=dark] .colab-df-convert {\n",
              "      background-color: #3B4455;\n",
              "      fill: #D2E3FC;\n",
              "    }\n",
              "\n",
              "    [theme=dark] .colab-df-convert:hover {\n",
              "      background-color: #434B5C;\n",
              "      box-shadow: 0px 1px 3px 1px rgba(0, 0, 0, 0.15);\n",
              "      filter: drop-shadow(0px 1px 2px rgba(0, 0, 0, 0.3));\n",
              "      fill: #FFFFFF;\n",
              "    }\n",
              "  </style>\n",
              "\n",
              "      <script>\n",
              "        const buttonEl =\n",
              "          document.querySelector('#df-b103e957-0a57-412a-9f47-f25592ca41a7 button.colab-df-convert');\n",
              "        buttonEl.style.display =\n",
              "          google.colab.kernel.accessAllowed ? 'block' : 'none';\n",
              "\n",
              "        async function convertToInteractive(key) {\n",
              "          const element = document.querySelector('#df-b103e957-0a57-412a-9f47-f25592ca41a7');\n",
              "          const dataTable =\n",
              "            await google.colab.kernel.invokeFunction('convertToInteractive',\n",
              "                                                     [key], {});\n",
              "          if (!dataTable) return;\n",
              "\n",
              "          const docLinkHtml = 'Like what you see? Visit the ' +\n",
              "            '<a target=\"_blank\" href=https://colab.research.google.com/notebooks/data_table.ipynb>data table notebook</a>'\n",
              "            + ' to learn more about interactive tables.';\n",
              "          element.innerHTML = '';\n",
              "          dataTable['output_type'] = 'display_data';\n",
              "          await google.colab.output.renderOutput(dataTable, element);\n",
              "          const docLink = document.createElement('div');\n",
              "          docLink.innerHTML = docLinkHtml;\n",
              "          element.appendChild(docLink);\n",
              "        }\n",
              "      </script>\n",
              "    </div>\n",
              "  </div>\n",
              "  "
            ]
          },
          "metadata": {},
          "execution_count": 13
        }
      ]
    },
    {
      "cell_type": "code",
      "source": [
        "#Separar los features/Caracteristicas de campo etiqueta\n",
        "\n",
        "#Normalmente los cientificos de datos asignan X mayuscula a los features y 'Y' mayusculas\n",
        "X = dfMinable.drop(['comprara'],axis=1)\n",
        "y = dfMinable['comprara']"
      ],
      "metadata": {
        "id": "6V4axfWOKqKB"
      },
      "execution_count": 14,
      "outputs": []
    },
    {
      "cell_type": "code",
      "source": [
        "X"
      ],
      "metadata": {
        "colab": {
          "base_uri": "https://localhost:8080/",
          "height": 424
        },
        "id": "MjdWklGuLSjq",
        "outputId": "2b90a290-d7bb-476b-f0a9-79288ffb54e5"
      },
      "execution_count": 15,
      "outputs": [
        {
          "output_type": "execute_result",
          "data": {
            "text/plain": [
              "     ingresos  estado_civil  hijos  trabajo  gastos  valor_a_financiar\n",
              "0        6000             0      2        2    1600             350000\n",
              "1        6745             1      3        6    1496             593657\n",
              "2        6455             2      1        8    1926             264316\n",
              "3        7098             0      0        3    1547             606427\n",
              "4        6167             0      0        3    1606             307420\n",
              "..        ...           ...    ...      ...     ...                ...\n",
              "197      3831             0      0        2    1530             352397\n",
              "198      3961             2      3        8    1775             258541\n",
              "199      3184             1      3        8    1915             352460\n",
              "200      3334             1      2        5    1888             356907\n",
              "201      3988             0      0        4    1644             245600\n",
              "\n",
              "[202 rows x 6 columns]"
            ],
            "text/html": [
              "\n",
              "  <div id=\"df-6a18a845-aede-43e7-95fd-5989c7e27880\">\n",
              "    <div class=\"colab-df-container\">\n",
              "      <div>\n",
              "<style scoped>\n",
              "    .dataframe tbody tr th:only-of-type {\n",
              "        vertical-align: middle;\n",
              "    }\n",
              "\n",
              "    .dataframe tbody tr th {\n",
              "        vertical-align: top;\n",
              "    }\n",
              "\n",
              "    .dataframe thead th {\n",
              "        text-align: right;\n",
              "    }\n",
              "</style>\n",
              "<table border=\"1\" class=\"dataframe\">\n",
              "  <thead>\n",
              "    <tr style=\"text-align: right;\">\n",
              "      <th></th>\n",
              "      <th>ingresos</th>\n",
              "      <th>estado_civil</th>\n",
              "      <th>hijos</th>\n",
              "      <th>trabajo</th>\n",
              "      <th>gastos</th>\n",
              "      <th>valor_a_financiar</th>\n",
              "    </tr>\n",
              "  </thead>\n",
              "  <tbody>\n",
              "    <tr>\n",
              "      <th>0</th>\n",
              "      <td>6000</td>\n",
              "      <td>0</td>\n",
              "      <td>2</td>\n",
              "      <td>2</td>\n",
              "      <td>1600</td>\n",
              "      <td>350000</td>\n",
              "    </tr>\n",
              "    <tr>\n",
              "      <th>1</th>\n",
              "      <td>6745</td>\n",
              "      <td>1</td>\n",
              "      <td>3</td>\n",
              "      <td>6</td>\n",
              "      <td>1496</td>\n",
              "      <td>593657</td>\n",
              "    </tr>\n",
              "    <tr>\n",
              "      <th>2</th>\n",
              "      <td>6455</td>\n",
              "      <td>2</td>\n",
              "      <td>1</td>\n",
              "      <td>8</td>\n",
              "      <td>1926</td>\n",
              "      <td>264316</td>\n",
              "    </tr>\n",
              "    <tr>\n",
              "      <th>3</th>\n",
              "      <td>7098</td>\n",
              "      <td>0</td>\n",
              "      <td>0</td>\n",
              "      <td>3</td>\n",
              "      <td>1547</td>\n",
              "      <td>606427</td>\n",
              "    </tr>\n",
              "    <tr>\n",
              "      <th>4</th>\n",
              "      <td>6167</td>\n",
              "      <td>0</td>\n",
              "      <td>0</td>\n",
              "      <td>3</td>\n",
              "      <td>1606</td>\n",
              "      <td>307420</td>\n",
              "    </tr>\n",
              "    <tr>\n",
              "      <th>...</th>\n",
              "      <td>...</td>\n",
              "      <td>...</td>\n",
              "      <td>...</td>\n",
              "      <td>...</td>\n",
              "      <td>...</td>\n",
              "      <td>...</td>\n",
              "    </tr>\n",
              "    <tr>\n",
              "      <th>197</th>\n",
              "      <td>3831</td>\n",
              "      <td>0</td>\n",
              "      <td>0</td>\n",
              "      <td>2</td>\n",
              "      <td>1530</td>\n",
              "      <td>352397</td>\n",
              "    </tr>\n",
              "    <tr>\n",
              "      <th>198</th>\n",
              "      <td>3961</td>\n",
              "      <td>2</td>\n",
              "      <td>3</td>\n",
              "      <td>8</td>\n",
              "      <td>1775</td>\n",
              "      <td>258541</td>\n",
              "    </tr>\n",
              "    <tr>\n",
              "      <th>199</th>\n",
              "      <td>3184</td>\n",
              "      <td>1</td>\n",
              "      <td>3</td>\n",
              "      <td>8</td>\n",
              "      <td>1915</td>\n",
              "      <td>352460</td>\n",
              "    </tr>\n",
              "    <tr>\n",
              "      <th>200</th>\n",
              "      <td>3334</td>\n",
              "      <td>1</td>\n",
              "      <td>2</td>\n",
              "      <td>5</td>\n",
              "      <td>1888</td>\n",
              "      <td>356907</td>\n",
              "    </tr>\n",
              "    <tr>\n",
              "      <th>201</th>\n",
              "      <td>3988</td>\n",
              "      <td>0</td>\n",
              "      <td>0</td>\n",
              "      <td>4</td>\n",
              "      <td>1644</td>\n",
              "      <td>245600</td>\n",
              "    </tr>\n",
              "  </tbody>\n",
              "</table>\n",
              "<p>202 rows × 6 columns</p>\n",
              "</div>\n",
              "      <button class=\"colab-df-convert\" onclick=\"convertToInteractive('df-6a18a845-aede-43e7-95fd-5989c7e27880')\"\n",
              "              title=\"Convert this dataframe to an interactive table.\"\n",
              "              style=\"display:none;\">\n",
              "        \n",
              "  <svg xmlns=\"http://www.w3.org/2000/svg\" height=\"24px\"viewBox=\"0 0 24 24\"\n",
              "       width=\"24px\">\n",
              "    <path d=\"M0 0h24v24H0V0z\" fill=\"none\"/>\n",
              "    <path d=\"M18.56 5.44l.94 2.06.94-2.06 2.06-.94-2.06-.94-.94-2.06-.94 2.06-2.06.94zm-11 1L8.5 8.5l.94-2.06 2.06-.94-2.06-.94L8.5 2.5l-.94 2.06-2.06.94zm10 10l.94 2.06.94-2.06 2.06-.94-2.06-.94-.94-2.06-.94 2.06-2.06.94z\"/><path d=\"M17.41 7.96l-1.37-1.37c-.4-.4-.92-.59-1.43-.59-.52 0-1.04.2-1.43.59L10.3 9.45l-7.72 7.72c-.78.78-.78 2.05 0 2.83L4 21.41c.39.39.9.59 1.41.59.51 0 1.02-.2 1.41-.59l7.78-7.78 2.81-2.81c.8-.78.8-2.07 0-2.86zM5.41 20L4 18.59l7.72-7.72 1.47 1.35L5.41 20z\"/>\n",
              "  </svg>\n",
              "      </button>\n",
              "      \n",
              "  <style>\n",
              "    .colab-df-container {\n",
              "      display:flex;\n",
              "      flex-wrap:wrap;\n",
              "      gap: 12px;\n",
              "    }\n",
              "\n",
              "    .colab-df-convert {\n",
              "      background-color: #E8F0FE;\n",
              "      border: none;\n",
              "      border-radius: 50%;\n",
              "      cursor: pointer;\n",
              "      display: none;\n",
              "      fill: #1967D2;\n",
              "      height: 32px;\n",
              "      padding: 0 0 0 0;\n",
              "      width: 32px;\n",
              "    }\n",
              "\n",
              "    .colab-df-convert:hover {\n",
              "      background-color: #E2EBFA;\n",
              "      box-shadow: 0px 1px 2px rgba(60, 64, 67, 0.3), 0px 1px 3px 1px rgba(60, 64, 67, 0.15);\n",
              "      fill: #174EA6;\n",
              "    }\n",
              "\n",
              "    [theme=dark] .colab-df-convert {\n",
              "      background-color: #3B4455;\n",
              "      fill: #D2E3FC;\n",
              "    }\n",
              "\n",
              "    [theme=dark] .colab-df-convert:hover {\n",
              "      background-color: #434B5C;\n",
              "      box-shadow: 0px 1px 3px 1px rgba(0, 0, 0, 0.15);\n",
              "      filter: drop-shadow(0px 1px 2px rgba(0, 0, 0, 0.3));\n",
              "      fill: #FFFFFF;\n",
              "    }\n",
              "  </style>\n",
              "\n",
              "      <script>\n",
              "        const buttonEl =\n",
              "          document.querySelector('#df-6a18a845-aede-43e7-95fd-5989c7e27880 button.colab-df-convert');\n",
              "        buttonEl.style.display =\n",
              "          google.colab.kernel.accessAllowed ? 'block' : 'none';\n",
              "\n",
              "        async function convertToInteractive(key) {\n",
              "          const element = document.querySelector('#df-6a18a845-aede-43e7-95fd-5989c7e27880');\n",
              "          const dataTable =\n",
              "            await google.colab.kernel.invokeFunction('convertToInteractive',\n",
              "                                                     [key], {});\n",
              "          if (!dataTable) return;\n",
              "\n",
              "          const docLinkHtml = 'Like what you see? Visit the ' +\n",
              "            '<a target=\"_blank\" href=https://colab.research.google.com/notebooks/data_table.ipynb>data table notebook</a>'\n",
              "            + ' to learn more about interactive tables.';\n",
              "          element.innerHTML = '';\n",
              "          dataTable['output_type'] = 'display_data';\n",
              "          await google.colab.output.renderOutput(dataTable, element);\n",
              "          const docLink = document.createElement('div');\n",
              "          docLink.innerHTML = docLinkHtml;\n",
              "          element.appendChild(docLink);\n",
              "        }\n",
              "      </script>\n",
              "    </div>\n",
              "  </div>\n",
              "  "
            ]
          },
          "metadata": {},
          "execution_count": 15
        }
      ]
    },
    {
      "cell_type": "markdown",
      "source": [
        "#Crear el modelo"
      ],
      "metadata": {
        "id": "yPfkC-KlAHBX"
      }
    },
    {
      "cell_type": "code",
      "source": [
        "##Dividir los datos en un porcentaje para entrenar y un porcentaje para validar (80) (20)\n",
        "#X_train, Y_train son los datos para entrenar\n",
        "#X_train caracteristicas para entrenar\n",
        "#y_train Etiquetas para entrenar\n",
        "#x_test y y_test Contienen los datos para validar\n",
        "X_train, X_test, y_train, y_test = train_test_split(X, y, test_size=0.2,random_state=124)"
      ],
      "metadata": {
        "id": "4GO-shSNLoFR"
      },
      "execution_count": 16,
      "outputs": []
    },
    {
      "cell_type": "code",
      "source": [
        "X_test.shape"
      ],
      "metadata": {
        "colab": {
          "base_uri": "https://localhost:8080/"
        },
        "id": "qoM9ssG6OLIJ",
        "outputId": "2b97930c-317e-4a50-a427-818a411efba0"
      },
      "execution_count": 17,
      "outputs": [
        {
          "output_type": "execute_result",
          "data": {
            "text/plain": [
              "(41, 6)"
            ]
          },
          "metadata": {},
          "execution_count": 17
        }
      ]
    },
    {
      "cell_type": "code",
      "source": [
        "#Creando el primer modelo, asignarselo a los valores y entrenar\n",
        "gnb = GaussianNB()\n",
        "gnb.fit(X_train.values,y_train)"
      ],
      "metadata": {
        "colab": {
          "base_uri": "https://localhost:8080/",
          "height": 75
        },
        "id": "c0qsLwkAOxFj",
        "outputId": "7518d8d8-b92d-4294-a458-9aa6e8765bfe"
      },
      "execution_count": 18,
      "outputs": [
        {
          "output_type": "execute_result",
          "data": {
            "text/plain": [
              "GaussianNB()"
            ],
            "text/html": [
              "<style>#sk-container-id-1 {color: black;background-color: white;}#sk-container-id-1 pre{padding: 0;}#sk-container-id-1 div.sk-toggleable {background-color: white;}#sk-container-id-1 label.sk-toggleable__label {cursor: pointer;display: block;width: 100%;margin-bottom: 0;padding: 0.3em;box-sizing: border-box;text-align: center;}#sk-container-id-1 label.sk-toggleable__label-arrow:before {content: \"▸\";float: left;margin-right: 0.25em;color: #696969;}#sk-container-id-1 label.sk-toggleable__label-arrow:hover:before {color: black;}#sk-container-id-1 div.sk-estimator:hover label.sk-toggleable__label-arrow:before {color: black;}#sk-container-id-1 div.sk-toggleable__content {max-height: 0;max-width: 0;overflow: hidden;text-align: left;background-color: #f0f8ff;}#sk-container-id-1 div.sk-toggleable__content pre {margin: 0.2em;color: black;border-radius: 0.25em;background-color: #f0f8ff;}#sk-container-id-1 input.sk-toggleable__control:checked~div.sk-toggleable__content {max-height: 200px;max-width: 100%;overflow: auto;}#sk-container-id-1 input.sk-toggleable__control:checked~label.sk-toggleable__label-arrow:before {content: \"▾\";}#sk-container-id-1 div.sk-estimator input.sk-toggleable__control:checked~label.sk-toggleable__label {background-color: #d4ebff;}#sk-container-id-1 div.sk-label input.sk-toggleable__control:checked~label.sk-toggleable__label {background-color: #d4ebff;}#sk-container-id-1 input.sk-hidden--visually {border: 0;clip: rect(1px 1px 1px 1px);clip: rect(1px, 1px, 1px, 1px);height: 1px;margin: -1px;overflow: hidden;padding: 0;position: absolute;width: 1px;}#sk-container-id-1 div.sk-estimator {font-family: monospace;background-color: #f0f8ff;border: 1px dotted black;border-radius: 0.25em;box-sizing: border-box;margin-bottom: 0.5em;}#sk-container-id-1 div.sk-estimator:hover {background-color: #d4ebff;}#sk-container-id-1 div.sk-parallel-item::after {content: \"\";width: 100%;border-bottom: 1px solid gray;flex-grow: 1;}#sk-container-id-1 div.sk-label:hover label.sk-toggleable__label {background-color: #d4ebff;}#sk-container-id-1 div.sk-serial::before {content: \"\";position: absolute;border-left: 1px solid gray;box-sizing: border-box;top: 0;bottom: 0;left: 50%;z-index: 0;}#sk-container-id-1 div.sk-serial {display: flex;flex-direction: column;align-items: center;background-color: white;padding-right: 0.2em;padding-left: 0.2em;position: relative;}#sk-container-id-1 div.sk-item {position: relative;z-index: 1;}#sk-container-id-1 div.sk-parallel {display: flex;align-items: stretch;justify-content: center;background-color: white;position: relative;}#sk-container-id-1 div.sk-item::before, #sk-container-id-1 div.sk-parallel-item::before {content: \"\";position: absolute;border-left: 1px solid gray;box-sizing: border-box;top: 0;bottom: 0;left: 50%;z-index: -1;}#sk-container-id-1 div.sk-parallel-item {display: flex;flex-direction: column;z-index: 1;position: relative;background-color: white;}#sk-container-id-1 div.sk-parallel-item:first-child::after {align-self: flex-end;width: 50%;}#sk-container-id-1 div.sk-parallel-item:last-child::after {align-self: flex-start;width: 50%;}#sk-container-id-1 div.sk-parallel-item:only-child::after {width: 0;}#sk-container-id-1 div.sk-dashed-wrapped {border: 1px dashed gray;margin: 0 0.4em 0.5em 0.4em;box-sizing: border-box;padding-bottom: 0.4em;background-color: white;}#sk-container-id-1 div.sk-label label {font-family: monospace;font-weight: bold;display: inline-block;line-height: 1.2em;}#sk-container-id-1 div.sk-label-container {text-align: center;}#sk-container-id-1 div.sk-container {/* jupyter's `normalize.less` sets `[hidden] { display: none; }` but bootstrap.min.css set `[hidden] { display: none !important; }` so we also need the `!important` here to be able to override the default hidden behavior on the sphinx rendered scikit-learn.org. See: https://github.com/scikit-learn/scikit-learn/issues/21755 */display: inline-block !important;position: relative;}#sk-container-id-1 div.sk-text-repr-fallback {display: none;}</style><div id=\"sk-container-id-1\" class=\"sk-top-container\"><div class=\"sk-text-repr-fallback\"><pre>GaussianNB()</pre><b>In a Jupyter environment, please rerun this cell to show the HTML representation or trust the notebook. <br />On GitHub, the HTML representation is unable to render, please try loading this page with nbviewer.org.</b></div><div class=\"sk-container\" hidden><div class=\"sk-item\"><div class=\"sk-estimator sk-toggleable\"><input class=\"sk-toggleable__control sk-hidden--visually\" id=\"sk-estimator-id-1\" type=\"checkbox\" checked><label for=\"sk-estimator-id-1\" class=\"sk-toggleable__label sk-toggleable__label-arrow\">GaussianNB</label><div class=\"sk-toggleable__content\"><pre>GaussianNB()</pre></div></div></div></div></div>"
            ]
          },
          "metadata": {},
          "execution_count": 18
        }
      ]
    },
    {
      "cell_type": "markdown",
      "source": [
        "#Realizar prediccion con los datos de prueba y VALIDAR el modelo"
      ],
      "metadata": {
        "id": "EbwTG_o3ALqP"
      }
    },
    {
      "cell_type": "code",
      "source": [
        "yPrediccion = gnb.predict(X_test)"
      ],
      "metadata": {
        "colab": {
          "base_uri": "https://localhost:8080/"
        },
        "id": "cKVWhiyoPWnZ",
        "outputId": "a3dc118c-8b09-463e-bdf3-3ef9c1ad449a"
      },
      "execution_count": 19,
      "outputs": [
        {
          "output_type": "stream",
          "name": "stderr",
          "text": [
            "/usr/local/lib/python3.9/dist-packages/sklearn/base.py:432: UserWarning: X has feature names, but GaussianNB was fitted without feature names\n",
            "  warnings.warn(\n"
          ]
        }
      ]
    },
    {
      "cell_type": "code",
      "source": [
        "yPrediccion"
      ],
      "metadata": {
        "colab": {
          "base_uri": "https://localhost:8080/"
        },
        "id": "iM89HvVOPqsZ",
        "outputId": "0e4affdb-f8d3-4e15-f2ce-17355876e53f"
      },
      "execution_count": 20,
      "outputs": [
        {
          "output_type": "execute_result",
          "data": {
            "text/plain": [
              "array([1, 0, 1, 0, 0, 1, 0, 0, 1, 1, 0, 0, 1, 0, 1, 0, 0, 0, 0, 0, 0, 0,\n",
              "       1, 0, 0, 0, 0, 1, 0, 0, 1, 0, 0, 1, 0, 0, 0, 0, 0, 0, 1])"
            ]
          },
          "metadata": {},
          "execution_count": 20
        }
      ]
    },
    {
      "cell_type": "code",
      "source": [
        "y_test.to_numpy()"
      ],
      "metadata": {
        "colab": {
          "base_uri": "https://localhost:8080/"
        },
        "id": "YpHiW2BAvgxZ",
        "outputId": "0c10e8b3-7d03-4b59-db00-39c0db204bc6"
      },
      "execution_count": 21,
      "outputs": [
        {
          "output_type": "execute_result",
          "data": {
            "text/plain": [
              "array([1, 0, 1, 0, 0, 1, 0, 0, 1, 1, 0, 0, 1, 0, 1, 0, 0, 0, 0, 0, 0, 1,\n",
              "       1, 0, 0, 0, 0, 1, 0, 0, 1, 0, 0, 1, 0, 0, 0, 0, 0, 0, 1])"
            ]
          },
          "metadata": {},
          "execution_count": 21
        }
      ]
    },
    {
      "cell_type": "code",
      "source": [
        "#Matriz de confución\n",
        "matrix = confusion_matrix(y_test,yPrediccion)"
      ],
      "metadata": {
        "id": "-uheB1xvvh9A"
      },
      "execution_count": 22,
      "outputs": []
    },
    {
      "cell_type": "code",
      "source": [
        "matrix_df = pd.DataFrame(matrix)\n"
      ],
      "metadata": {
        "id": "98XYmreZv3uH"
      },
      "execution_count": 23,
      "outputs": []
    },
    {
      "cell_type": "code",
      "source": [
        "matrix_df"
      ],
      "metadata": {
        "colab": {
          "base_uri": "https://localhost:8080/",
          "height": 112
        },
        "id": "bXFAIV_Tw2XA",
        "outputId": "25f44602-4995-48d8-b1c7-3cbffc7cbcbc"
      },
      "execution_count": 24,
      "outputs": [
        {
          "output_type": "execute_result",
          "data": {
            "text/plain": [
              "    0   1\n",
              "0  28   0\n",
              "1   1  12"
            ],
            "text/html": [
              "\n",
              "  <div id=\"df-f6e920ca-9b30-4727-a4f8-a3552e918cc7\">\n",
              "    <div class=\"colab-df-container\">\n",
              "      <div>\n",
              "<style scoped>\n",
              "    .dataframe tbody tr th:only-of-type {\n",
              "        vertical-align: middle;\n",
              "    }\n",
              "\n",
              "    .dataframe tbody tr th {\n",
              "        vertical-align: top;\n",
              "    }\n",
              "\n",
              "    .dataframe thead th {\n",
              "        text-align: right;\n",
              "    }\n",
              "</style>\n",
              "<table border=\"1\" class=\"dataframe\">\n",
              "  <thead>\n",
              "    <tr style=\"text-align: right;\">\n",
              "      <th></th>\n",
              "      <th>0</th>\n",
              "      <th>1</th>\n",
              "    </tr>\n",
              "  </thead>\n",
              "  <tbody>\n",
              "    <tr>\n",
              "      <th>0</th>\n",
              "      <td>28</td>\n",
              "      <td>0</td>\n",
              "    </tr>\n",
              "    <tr>\n",
              "      <th>1</th>\n",
              "      <td>1</td>\n",
              "      <td>12</td>\n",
              "    </tr>\n",
              "  </tbody>\n",
              "</table>\n",
              "</div>\n",
              "      <button class=\"colab-df-convert\" onclick=\"convertToInteractive('df-f6e920ca-9b30-4727-a4f8-a3552e918cc7')\"\n",
              "              title=\"Convert this dataframe to an interactive table.\"\n",
              "              style=\"display:none;\">\n",
              "        \n",
              "  <svg xmlns=\"http://www.w3.org/2000/svg\" height=\"24px\"viewBox=\"0 0 24 24\"\n",
              "       width=\"24px\">\n",
              "    <path d=\"M0 0h24v24H0V0z\" fill=\"none\"/>\n",
              "    <path d=\"M18.56 5.44l.94 2.06.94-2.06 2.06-.94-2.06-.94-.94-2.06-.94 2.06-2.06.94zm-11 1L8.5 8.5l.94-2.06 2.06-.94-2.06-.94L8.5 2.5l-.94 2.06-2.06.94zm10 10l.94 2.06.94-2.06 2.06-.94-2.06-.94-.94-2.06-.94 2.06-2.06.94z\"/><path d=\"M17.41 7.96l-1.37-1.37c-.4-.4-.92-.59-1.43-.59-.52 0-1.04.2-1.43.59L10.3 9.45l-7.72 7.72c-.78.78-.78 2.05 0 2.83L4 21.41c.39.39.9.59 1.41.59.51 0 1.02-.2 1.41-.59l7.78-7.78 2.81-2.81c.8-.78.8-2.07 0-2.86zM5.41 20L4 18.59l7.72-7.72 1.47 1.35L5.41 20z\"/>\n",
              "  </svg>\n",
              "      </button>\n",
              "      \n",
              "  <style>\n",
              "    .colab-df-container {\n",
              "      display:flex;\n",
              "      flex-wrap:wrap;\n",
              "      gap: 12px;\n",
              "    }\n",
              "\n",
              "    .colab-df-convert {\n",
              "      background-color: #E8F0FE;\n",
              "      border: none;\n",
              "      border-radius: 50%;\n",
              "      cursor: pointer;\n",
              "      display: none;\n",
              "      fill: #1967D2;\n",
              "      height: 32px;\n",
              "      padding: 0 0 0 0;\n",
              "      width: 32px;\n",
              "    }\n",
              "\n",
              "    .colab-df-convert:hover {\n",
              "      background-color: #E2EBFA;\n",
              "      box-shadow: 0px 1px 2px rgba(60, 64, 67, 0.3), 0px 1px 3px 1px rgba(60, 64, 67, 0.15);\n",
              "      fill: #174EA6;\n",
              "    }\n",
              "\n",
              "    [theme=dark] .colab-df-convert {\n",
              "      background-color: #3B4455;\n",
              "      fill: #D2E3FC;\n",
              "    }\n",
              "\n",
              "    [theme=dark] .colab-df-convert:hover {\n",
              "      background-color: #434B5C;\n",
              "      box-shadow: 0px 1px 3px 1px rgba(0, 0, 0, 0.15);\n",
              "      filter: drop-shadow(0px 1px 2px rgba(0, 0, 0, 0.3));\n",
              "      fill: #FFFFFF;\n",
              "    }\n",
              "  </style>\n",
              "\n",
              "      <script>\n",
              "        const buttonEl =\n",
              "          document.querySelector('#df-f6e920ca-9b30-4727-a4f8-a3552e918cc7 button.colab-df-convert');\n",
              "        buttonEl.style.display =\n",
              "          google.colab.kernel.accessAllowed ? 'block' : 'none';\n",
              "\n",
              "        async function convertToInteractive(key) {\n",
              "          const element = document.querySelector('#df-f6e920ca-9b30-4727-a4f8-a3552e918cc7');\n",
              "          const dataTable =\n",
              "            await google.colab.kernel.invokeFunction('convertToInteractive',\n",
              "                                                     [key], {});\n",
              "          if (!dataTable) return;\n",
              "\n",
              "          const docLinkHtml = 'Like what you see? Visit the ' +\n",
              "            '<a target=\"_blank\" href=https://colab.research.google.com/notebooks/data_table.ipynb>data table notebook</a>'\n",
              "            + ' to learn more about interactive tables.';\n",
              "          element.innerHTML = '';\n",
              "          dataTable['output_type'] = 'display_data';\n",
              "          await google.colab.output.renderOutput(dataTable, element);\n",
              "          const docLink = document.createElement('div');\n",
              "          docLink.innerHTML = docLinkHtml;\n",
              "          element.appendChild(docLink);\n",
              "        }\n",
              "      </script>\n",
              "    </div>\n",
              "  </div>\n",
              "  "
            ]
          },
          "metadata": {},
          "execution_count": 24
        }
      ]
    },
    {
      "cell_type": "code",
      "source": [
        "matrix_df.columns = ['0 No comprara REAL','1 si comprara Real']"
      ],
      "metadata": {
        "id": "q7rIEUNjwcBh"
      },
      "execution_count": 25,
      "outputs": []
    },
    {
      "cell_type": "code",
      "source": [
        "matrix_df.rename(index={0:'No comprara Pred', 1:'Comprara pred'})"
      ],
      "metadata": {
        "colab": {
          "base_uri": "https://localhost:8080/",
          "height": 112
        },
        "id": "qTyc0r9fw_bR",
        "outputId": "4c5601c5-d16c-4c33-f6e8-415c51655c83"
      },
      "execution_count": 26,
      "outputs": [
        {
          "output_type": "execute_result",
          "data": {
            "text/plain": [
              "                  0 No comprara REAL  1 si comprara Real\n",
              "No comprara Pred                  28                   0\n",
              "Comprara pred                      1                  12"
            ],
            "text/html": [
              "\n",
              "  <div id=\"df-757fd3eb-c7eb-4f21-8622-63c4752c0e58\">\n",
              "    <div class=\"colab-df-container\">\n",
              "      <div>\n",
              "<style scoped>\n",
              "    .dataframe tbody tr th:only-of-type {\n",
              "        vertical-align: middle;\n",
              "    }\n",
              "\n",
              "    .dataframe tbody tr th {\n",
              "        vertical-align: top;\n",
              "    }\n",
              "\n",
              "    .dataframe thead th {\n",
              "        text-align: right;\n",
              "    }\n",
              "</style>\n",
              "<table border=\"1\" class=\"dataframe\">\n",
              "  <thead>\n",
              "    <tr style=\"text-align: right;\">\n",
              "      <th></th>\n",
              "      <th>0 No comprara REAL</th>\n",
              "      <th>1 si comprara Real</th>\n",
              "    </tr>\n",
              "  </thead>\n",
              "  <tbody>\n",
              "    <tr>\n",
              "      <th>No comprara Pred</th>\n",
              "      <td>28</td>\n",
              "      <td>0</td>\n",
              "    </tr>\n",
              "    <tr>\n",
              "      <th>Comprara pred</th>\n",
              "      <td>1</td>\n",
              "      <td>12</td>\n",
              "    </tr>\n",
              "  </tbody>\n",
              "</table>\n",
              "</div>\n",
              "      <button class=\"colab-df-convert\" onclick=\"convertToInteractive('df-757fd3eb-c7eb-4f21-8622-63c4752c0e58')\"\n",
              "              title=\"Convert this dataframe to an interactive table.\"\n",
              "              style=\"display:none;\">\n",
              "        \n",
              "  <svg xmlns=\"http://www.w3.org/2000/svg\" height=\"24px\"viewBox=\"0 0 24 24\"\n",
              "       width=\"24px\">\n",
              "    <path d=\"M0 0h24v24H0V0z\" fill=\"none\"/>\n",
              "    <path d=\"M18.56 5.44l.94 2.06.94-2.06 2.06-.94-2.06-.94-.94-2.06-.94 2.06-2.06.94zm-11 1L8.5 8.5l.94-2.06 2.06-.94-2.06-.94L8.5 2.5l-.94 2.06-2.06.94zm10 10l.94 2.06.94-2.06 2.06-.94-2.06-.94-.94-2.06-.94 2.06-2.06.94z\"/><path d=\"M17.41 7.96l-1.37-1.37c-.4-.4-.92-.59-1.43-.59-.52 0-1.04.2-1.43.59L10.3 9.45l-7.72 7.72c-.78.78-.78 2.05 0 2.83L4 21.41c.39.39.9.59 1.41.59.51 0 1.02-.2 1.41-.59l7.78-7.78 2.81-2.81c.8-.78.8-2.07 0-2.86zM5.41 20L4 18.59l7.72-7.72 1.47 1.35L5.41 20z\"/>\n",
              "  </svg>\n",
              "      </button>\n",
              "      \n",
              "  <style>\n",
              "    .colab-df-container {\n",
              "      display:flex;\n",
              "      flex-wrap:wrap;\n",
              "      gap: 12px;\n",
              "    }\n",
              "\n",
              "    .colab-df-convert {\n",
              "      background-color: #E8F0FE;\n",
              "      border: none;\n",
              "      border-radius: 50%;\n",
              "      cursor: pointer;\n",
              "      display: none;\n",
              "      fill: #1967D2;\n",
              "      height: 32px;\n",
              "      padding: 0 0 0 0;\n",
              "      width: 32px;\n",
              "    }\n",
              "\n",
              "    .colab-df-convert:hover {\n",
              "      background-color: #E2EBFA;\n",
              "      box-shadow: 0px 1px 2px rgba(60, 64, 67, 0.3), 0px 1px 3px 1px rgba(60, 64, 67, 0.15);\n",
              "      fill: #174EA6;\n",
              "    }\n",
              "\n",
              "    [theme=dark] .colab-df-convert {\n",
              "      background-color: #3B4455;\n",
              "      fill: #D2E3FC;\n",
              "    }\n",
              "\n",
              "    [theme=dark] .colab-df-convert:hover {\n",
              "      background-color: #434B5C;\n",
              "      box-shadow: 0px 1px 3px 1px rgba(0, 0, 0, 0.15);\n",
              "      filter: drop-shadow(0px 1px 2px rgba(0, 0, 0, 0.3));\n",
              "      fill: #FFFFFF;\n",
              "    }\n",
              "  </style>\n",
              "\n",
              "      <script>\n",
              "        const buttonEl =\n",
              "          document.querySelector('#df-757fd3eb-c7eb-4f21-8622-63c4752c0e58 button.colab-df-convert');\n",
              "        buttonEl.style.display =\n",
              "          google.colab.kernel.accessAllowed ? 'block' : 'none';\n",
              "\n",
              "        async function convertToInteractive(key) {\n",
              "          const element = document.querySelector('#df-757fd3eb-c7eb-4f21-8622-63c4752c0e58');\n",
              "          const dataTable =\n",
              "            await google.colab.kernel.invokeFunction('convertToInteractive',\n",
              "                                                     [key], {});\n",
              "          if (!dataTable) return;\n",
              "\n",
              "          const docLinkHtml = 'Like what you see? Visit the ' +\n",
              "            '<a target=\"_blank\" href=https://colab.research.google.com/notebooks/data_table.ipynb>data table notebook</a>'\n",
              "            + ' to learn more about interactive tables.';\n",
              "          element.innerHTML = '';\n",
              "          dataTable['output_type'] = 'display_data';\n",
              "          await google.colab.output.renderOutput(dataTable, element);\n",
              "          const docLink = document.createElement('div');\n",
              "          docLink.innerHTML = docLinkHtml;\n",
              "          element.appendChild(docLink);\n",
              "        }\n",
              "      </script>\n",
              "    </div>\n",
              "  </div>\n",
              "  "
            ]
          },
          "metadata": {},
          "execution_count": 26
        }
      ]
    },
    {
      "cell_type": "code",
      "source": [
        "accuracy_score(y_test,yPrediccion)"
      ],
      "metadata": {
        "colab": {
          "base_uri": "https://localhost:8080/"
        },
        "id": "05Z2eWrQyaBQ",
        "outputId": "245d95c4-aa0e-40c4-b6ed-5f71e5a96fc9"
      },
      "execution_count": 27,
      "outputs": [
        {
          "output_type": "execute_result",
          "data": {
            "text/plain": [
              "0.975609756097561"
            ]
          },
          "metadata": {},
          "execution_count": 27
        }
      ]
    },
    {
      "cell_type": "code",
      "source": [
        "print('Precisión en el set de Entrenamiento: {:.2f}'.format(gnb.score(X_train, y_train)))\n",
        "print('Precisión en el set de Test: {:.2f}'.format(gnb.score(X_test, y_test)))"
      ],
      "metadata": {
        "colab": {
          "base_uri": "https://localhost:8080/"
        },
        "id": "WwTuthvqAMIj",
        "outputId": "f1991084-ce13-4931-8c4c-80160e1f3bdb"
      },
      "execution_count": 28,
      "outputs": [
        {
          "output_type": "stream",
          "name": "stdout",
          "text": [
            "Precisión en el set de Entrenamiento: 0.87\n",
            "Precisión en el set de Test: 0.98\n"
          ]
        },
        {
          "output_type": "stream",
          "name": "stderr",
          "text": [
            "/usr/local/lib/python3.9/dist-packages/sklearn/base.py:432: UserWarning: X has feature names, but GaussianNB was fitted without feature names\n",
            "  warnings.warn(\n",
            "/usr/local/lib/python3.9/dist-packages/sklearn/base.py:432: UserWarning: X has feature names, but GaussianNB was fitted without feature names\n",
            "  warnings.warn(\n"
          ]
        }
      ]
    },
    {
      "cell_type": "markdown",
      "source": [
        "#**VAMOS A USAR EL MACHINE LEARNING CON CLIENTES NUEVOS**"
      ],
      "metadata": {
        "id": "4X4wRZVE1ds4"
      }
    },
    {
      "cell_type": "code",
      "source": [
        "dfClientesNuevos = pd.read_csv('https://raw.githubusercontent.com/adiacla/bigdata/master/Nuevos%20clientes.csv')\n",
        "dfClientesNuevos"
      ],
      "metadata": {
        "colab": {
          "base_uri": "https://localhost:8080/",
          "height": 300
        },
        "id": "sbpYD4_w1dfp",
        "outputId": "76ad46f7-1de5-47d1-9cc5-4164914f7e98"
      },
      "execution_count": 29,
      "outputs": [
        {
          "output_type": "execute_result",
          "data": {
            "text/plain": [
              "   ingresos  gasto_ppal  vehiculo  otros_gastos  ahorros  Valor_vivienda  \\\n",
              "0      6000        1000         0           600    50000          400000   \n",
              "1      6400        1000        98           795    57463          321800   \n",
              "2      7000        1200        15           254    54506          660900   \n",
              "3      5600         910        11           325    50875          360800   \n",
              "4      2900         820        25           577    28184          290000   \n",
              "5      2000         550       403           617    32738          224500   \n",
              "6      3900         950       423           366    10746          265400   \n",
              "7      4100         900       251           643    24196          288900   \n",
              "\n",
              "   estado_civil  hijos  trabajo  \n",
              "0             0      2        2  \n",
              "1             2      1        8  \n",
              "2             0      0        3  \n",
              "3             1      4        5  \n",
              "4             1      1        8  \n",
              "5             2      1        7  \n",
              "6             1      3        5  \n",
              "7             2      0        3  "
            ],
            "text/html": [
              "\n",
              "  <div id=\"df-36b5615c-3ddd-4a36-a7b6-c5cf62e6cd2b\">\n",
              "    <div class=\"colab-df-container\">\n",
              "      <div>\n",
              "<style scoped>\n",
              "    .dataframe tbody tr th:only-of-type {\n",
              "        vertical-align: middle;\n",
              "    }\n",
              "\n",
              "    .dataframe tbody tr th {\n",
              "        vertical-align: top;\n",
              "    }\n",
              "\n",
              "    .dataframe thead th {\n",
              "        text-align: right;\n",
              "    }\n",
              "</style>\n",
              "<table border=\"1\" class=\"dataframe\">\n",
              "  <thead>\n",
              "    <tr style=\"text-align: right;\">\n",
              "      <th></th>\n",
              "      <th>ingresos</th>\n",
              "      <th>gasto_ppal</th>\n",
              "      <th>vehiculo</th>\n",
              "      <th>otros_gastos</th>\n",
              "      <th>ahorros</th>\n",
              "      <th>Valor_vivienda</th>\n",
              "      <th>estado_civil</th>\n",
              "      <th>hijos</th>\n",
              "      <th>trabajo</th>\n",
              "    </tr>\n",
              "  </thead>\n",
              "  <tbody>\n",
              "    <tr>\n",
              "      <th>0</th>\n",
              "      <td>6000</td>\n",
              "      <td>1000</td>\n",
              "      <td>0</td>\n",
              "      <td>600</td>\n",
              "      <td>50000</td>\n",
              "      <td>400000</td>\n",
              "      <td>0</td>\n",
              "      <td>2</td>\n",
              "      <td>2</td>\n",
              "    </tr>\n",
              "    <tr>\n",
              "      <th>1</th>\n",
              "      <td>6400</td>\n",
              "      <td>1000</td>\n",
              "      <td>98</td>\n",
              "      <td>795</td>\n",
              "      <td>57463</td>\n",
              "      <td>321800</td>\n",
              "      <td>2</td>\n",
              "      <td>1</td>\n",
              "      <td>8</td>\n",
              "    </tr>\n",
              "    <tr>\n",
              "      <th>2</th>\n",
              "      <td>7000</td>\n",
              "      <td>1200</td>\n",
              "      <td>15</td>\n",
              "      <td>254</td>\n",
              "      <td>54506</td>\n",
              "      <td>660900</td>\n",
              "      <td>0</td>\n",
              "      <td>0</td>\n",
              "      <td>3</td>\n",
              "    </tr>\n",
              "    <tr>\n",
              "      <th>3</th>\n",
              "      <td>5600</td>\n",
              "      <td>910</td>\n",
              "      <td>11</td>\n",
              "      <td>325</td>\n",
              "      <td>50875</td>\n",
              "      <td>360800</td>\n",
              "      <td>1</td>\n",
              "      <td>4</td>\n",
              "      <td>5</td>\n",
              "    </tr>\n",
              "    <tr>\n",
              "      <th>4</th>\n",
              "      <td>2900</td>\n",
              "      <td>820</td>\n",
              "      <td>25</td>\n",
              "      <td>577</td>\n",
              "      <td>28184</td>\n",
              "      <td>290000</td>\n",
              "      <td>1</td>\n",
              "      <td>1</td>\n",
              "      <td>8</td>\n",
              "    </tr>\n",
              "    <tr>\n",
              "      <th>5</th>\n",
              "      <td>2000</td>\n",
              "      <td>550</td>\n",
              "      <td>403</td>\n",
              "      <td>617</td>\n",
              "      <td>32738</td>\n",
              "      <td>224500</td>\n",
              "      <td>2</td>\n",
              "      <td>1</td>\n",
              "      <td>7</td>\n",
              "    </tr>\n",
              "    <tr>\n",
              "      <th>6</th>\n",
              "      <td>3900</td>\n",
              "      <td>950</td>\n",
              "      <td>423</td>\n",
              "      <td>366</td>\n",
              "      <td>10746</td>\n",
              "      <td>265400</td>\n",
              "      <td>1</td>\n",
              "      <td>3</td>\n",
              "      <td>5</td>\n",
              "    </tr>\n",
              "    <tr>\n",
              "      <th>7</th>\n",
              "      <td>4100</td>\n",
              "      <td>900</td>\n",
              "      <td>251</td>\n",
              "      <td>643</td>\n",
              "      <td>24196</td>\n",
              "      <td>288900</td>\n",
              "      <td>2</td>\n",
              "      <td>0</td>\n",
              "      <td>3</td>\n",
              "    </tr>\n",
              "  </tbody>\n",
              "</table>\n",
              "</div>\n",
              "      <button class=\"colab-df-convert\" onclick=\"convertToInteractive('df-36b5615c-3ddd-4a36-a7b6-c5cf62e6cd2b')\"\n",
              "              title=\"Convert this dataframe to an interactive table.\"\n",
              "              style=\"display:none;\">\n",
              "        \n",
              "  <svg xmlns=\"http://www.w3.org/2000/svg\" height=\"24px\"viewBox=\"0 0 24 24\"\n",
              "       width=\"24px\">\n",
              "    <path d=\"M0 0h24v24H0V0z\" fill=\"none\"/>\n",
              "    <path d=\"M18.56 5.44l.94 2.06.94-2.06 2.06-.94-2.06-.94-.94-2.06-.94 2.06-2.06.94zm-11 1L8.5 8.5l.94-2.06 2.06-.94-2.06-.94L8.5 2.5l-.94 2.06-2.06.94zm10 10l.94 2.06.94-2.06 2.06-.94-2.06-.94-.94-2.06-.94 2.06-2.06.94z\"/><path d=\"M17.41 7.96l-1.37-1.37c-.4-.4-.92-.59-1.43-.59-.52 0-1.04.2-1.43.59L10.3 9.45l-7.72 7.72c-.78.78-.78 2.05 0 2.83L4 21.41c.39.39.9.59 1.41.59.51 0 1.02-.2 1.41-.59l7.78-7.78 2.81-2.81c.8-.78.8-2.07 0-2.86zM5.41 20L4 18.59l7.72-7.72 1.47 1.35L5.41 20z\"/>\n",
              "  </svg>\n",
              "      </button>\n",
              "      \n",
              "  <style>\n",
              "    .colab-df-container {\n",
              "      display:flex;\n",
              "      flex-wrap:wrap;\n",
              "      gap: 12px;\n",
              "    }\n",
              "\n",
              "    .colab-df-convert {\n",
              "      background-color: #E8F0FE;\n",
              "      border: none;\n",
              "      border-radius: 50%;\n",
              "      cursor: pointer;\n",
              "      display: none;\n",
              "      fill: #1967D2;\n",
              "      height: 32px;\n",
              "      padding: 0 0 0 0;\n",
              "      width: 32px;\n",
              "    }\n",
              "\n",
              "    .colab-df-convert:hover {\n",
              "      background-color: #E2EBFA;\n",
              "      box-shadow: 0px 1px 2px rgba(60, 64, 67, 0.3), 0px 1px 3px 1px rgba(60, 64, 67, 0.15);\n",
              "      fill: #174EA6;\n",
              "    }\n",
              "\n",
              "    [theme=dark] .colab-df-convert {\n",
              "      background-color: #3B4455;\n",
              "      fill: #D2E3FC;\n",
              "    }\n",
              "\n",
              "    [theme=dark] .colab-df-convert:hover {\n",
              "      background-color: #434B5C;\n",
              "      box-shadow: 0px 1px 3px 1px rgba(0, 0, 0, 0.15);\n",
              "      filter: drop-shadow(0px 1px 2px rgba(0, 0, 0, 0.3));\n",
              "      fill: #FFFFFF;\n",
              "    }\n",
              "  </style>\n",
              "\n",
              "      <script>\n",
              "        const buttonEl =\n",
              "          document.querySelector('#df-36b5615c-3ddd-4a36-a7b6-c5cf62e6cd2b button.colab-df-convert');\n",
              "        buttonEl.style.display =\n",
              "          google.colab.kernel.accessAllowed ? 'block' : 'none';\n",
              "\n",
              "        async function convertToInteractive(key) {\n",
              "          const element = document.querySelector('#df-36b5615c-3ddd-4a36-a7b6-c5cf62e6cd2b');\n",
              "          const dataTable =\n",
              "            await google.colab.kernel.invokeFunction('convertToInteractive',\n",
              "                                                     [key], {});\n",
              "          if (!dataTable) return;\n",
              "\n",
              "          const docLinkHtml = 'Like what you see? Visit the ' +\n",
              "            '<a target=\"_blank\" href=https://colab.research.google.com/notebooks/data_table.ipynb>data table notebook</a>'\n",
              "            + ' to learn more about interactive tables.';\n",
              "          element.innerHTML = '';\n",
              "          dataTable['output_type'] = 'display_data';\n",
              "          await google.colab.output.renderOutput(dataTable, element);\n",
              "          const docLink = document.createElement('div');\n",
              "          docLink.innerHTML = docLinkHtml;\n",
              "          element.appendChild(docLink);\n",
              "        }\n",
              "      </script>\n",
              "    </div>\n",
              "  </div>\n",
              "  "
            ]
          },
          "metadata": {},
          "execution_count": 29
        }
      ]
    },
    {
      "cell_type": "code",
      "source": [
        "dfClientesNuevos['gastos'] = dfClientesNuevos['gasto_ppal']+dfClientesNuevos['vehiculo']+dfClientesNuevos['otros_gastos']\n",
        "dfClientesNuevos['valor_a_financiar'] = dfClientesNuevos['Valor_vivienda']-dfClientesNuevos['ahorros']\n",
        "dfClientesNuevos = dfClientesNuevos.drop(['Valor_vivienda','ahorros','gasto_ppal','vehiculo','otros_gastos'], axis = 1)"
      ],
      "metadata": {
        "id": "Yp24k4tx2dpK"
      },
      "execution_count": 30,
      "outputs": []
    },
    {
      "cell_type": "code",
      "source": [
        "dfClientesNuevos"
      ],
      "metadata": {
        "colab": {
          "base_uri": "https://localhost:8080/",
          "height": 300
        },
        "id": "Nw_bBUWL21LR",
        "outputId": "8fd0636f-1031-46b0-eb76-3881fc6775da"
      },
      "execution_count": 31,
      "outputs": [
        {
          "output_type": "execute_result",
          "data": {
            "text/plain": [
              "   ingresos  estado_civil  hijos  trabajo  gastos  valor_a_financiar\n",
              "0      6000             0      2        2    1600             350000\n",
              "1      6400             2      1        8    1893             264337\n",
              "2      7000             0      0        3    1469             606394\n",
              "3      5600             1      4        5    1246             309925\n",
              "4      2900             1      1        8    1422             261816\n",
              "5      2000             2      1        7    1570             191762\n",
              "6      3900             1      3        5    1739             254654\n",
              "7      4100             2      0        3    1794             264704"
            ],
            "text/html": [
              "\n",
              "  <div id=\"df-de6c400a-413f-446e-b98e-10b311b97757\">\n",
              "    <div class=\"colab-df-container\">\n",
              "      <div>\n",
              "<style scoped>\n",
              "    .dataframe tbody tr th:only-of-type {\n",
              "        vertical-align: middle;\n",
              "    }\n",
              "\n",
              "    .dataframe tbody tr th {\n",
              "        vertical-align: top;\n",
              "    }\n",
              "\n",
              "    .dataframe thead th {\n",
              "        text-align: right;\n",
              "    }\n",
              "</style>\n",
              "<table border=\"1\" class=\"dataframe\">\n",
              "  <thead>\n",
              "    <tr style=\"text-align: right;\">\n",
              "      <th></th>\n",
              "      <th>ingresos</th>\n",
              "      <th>estado_civil</th>\n",
              "      <th>hijos</th>\n",
              "      <th>trabajo</th>\n",
              "      <th>gastos</th>\n",
              "      <th>valor_a_financiar</th>\n",
              "    </tr>\n",
              "  </thead>\n",
              "  <tbody>\n",
              "    <tr>\n",
              "      <th>0</th>\n",
              "      <td>6000</td>\n",
              "      <td>0</td>\n",
              "      <td>2</td>\n",
              "      <td>2</td>\n",
              "      <td>1600</td>\n",
              "      <td>350000</td>\n",
              "    </tr>\n",
              "    <tr>\n",
              "      <th>1</th>\n",
              "      <td>6400</td>\n",
              "      <td>2</td>\n",
              "      <td>1</td>\n",
              "      <td>8</td>\n",
              "      <td>1893</td>\n",
              "      <td>264337</td>\n",
              "    </tr>\n",
              "    <tr>\n",
              "      <th>2</th>\n",
              "      <td>7000</td>\n",
              "      <td>0</td>\n",
              "      <td>0</td>\n",
              "      <td>3</td>\n",
              "      <td>1469</td>\n",
              "      <td>606394</td>\n",
              "    </tr>\n",
              "    <tr>\n",
              "      <th>3</th>\n",
              "      <td>5600</td>\n",
              "      <td>1</td>\n",
              "      <td>4</td>\n",
              "      <td>5</td>\n",
              "      <td>1246</td>\n",
              "      <td>309925</td>\n",
              "    </tr>\n",
              "    <tr>\n",
              "      <th>4</th>\n",
              "      <td>2900</td>\n",
              "      <td>1</td>\n",
              "      <td>1</td>\n",
              "      <td>8</td>\n",
              "      <td>1422</td>\n",
              "      <td>261816</td>\n",
              "    </tr>\n",
              "    <tr>\n",
              "      <th>5</th>\n",
              "      <td>2000</td>\n",
              "      <td>2</td>\n",
              "      <td>1</td>\n",
              "      <td>7</td>\n",
              "      <td>1570</td>\n",
              "      <td>191762</td>\n",
              "    </tr>\n",
              "    <tr>\n",
              "      <th>6</th>\n",
              "      <td>3900</td>\n",
              "      <td>1</td>\n",
              "      <td>3</td>\n",
              "      <td>5</td>\n",
              "      <td>1739</td>\n",
              "      <td>254654</td>\n",
              "    </tr>\n",
              "    <tr>\n",
              "      <th>7</th>\n",
              "      <td>4100</td>\n",
              "      <td>2</td>\n",
              "      <td>0</td>\n",
              "      <td>3</td>\n",
              "      <td>1794</td>\n",
              "      <td>264704</td>\n",
              "    </tr>\n",
              "  </tbody>\n",
              "</table>\n",
              "</div>\n",
              "      <button class=\"colab-df-convert\" onclick=\"convertToInteractive('df-de6c400a-413f-446e-b98e-10b311b97757')\"\n",
              "              title=\"Convert this dataframe to an interactive table.\"\n",
              "              style=\"display:none;\">\n",
              "        \n",
              "  <svg xmlns=\"http://www.w3.org/2000/svg\" height=\"24px\"viewBox=\"0 0 24 24\"\n",
              "       width=\"24px\">\n",
              "    <path d=\"M0 0h24v24H0V0z\" fill=\"none\"/>\n",
              "    <path d=\"M18.56 5.44l.94 2.06.94-2.06 2.06-.94-2.06-.94-.94-2.06-.94 2.06-2.06.94zm-11 1L8.5 8.5l.94-2.06 2.06-.94-2.06-.94L8.5 2.5l-.94 2.06-2.06.94zm10 10l.94 2.06.94-2.06 2.06-.94-2.06-.94-.94-2.06-.94 2.06-2.06.94z\"/><path d=\"M17.41 7.96l-1.37-1.37c-.4-.4-.92-.59-1.43-.59-.52 0-1.04.2-1.43.59L10.3 9.45l-7.72 7.72c-.78.78-.78 2.05 0 2.83L4 21.41c.39.39.9.59 1.41.59.51 0 1.02-.2 1.41-.59l7.78-7.78 2.81-2.81c.8-.78.8-2.07 0-2.86zM5.41 20L4 18.59l7.72-7.72 1.47 1.35L5.41 20z\"/>\n",
              "  </svg>\n",
              "      </button>\n",
              "      \n",
              "  <style>\n",
              "    .colab-df-container {\n",
              "      display:flex;\n",
              "      flex-wrap:wrap;\n",
              "      gap: 12px;\n",
              "    }\n",
              "\n",
              "    .colab-df-convert {\n",
              "      background-color: #E8F0FE;\n",
              "      border: none;\n",
              "      border-radius: 50%;\n",
              "      cursor: pointer;\n",
              "      display: none;\n",
              "      fill: #1967D2;\n",
              "      height: 32px;\n",
              "      padding: 0 0 0 0;\n",
              "      width: 32px;\n",
              "    }\n",
              "\n",
              "    .colab-df-convert:hover {\n",
              "      background-color: #E2EBFA;\n",
              "      box-shadow: 0px 1px 2px rgba(60, 64, 67, 0.3), 0px 1px 3px 1px rgba(60, 64, 67, 0.15);\n",
              "      fill: #174EA6;\n",
              "    }\n",
              "\n",
              "    [theme=dark] .colab-df-convert {\n",
              "      background-color: #3B4455;\n",
              "      fill: #D2E3FC;\n",
              "    }\n",
              "\n",
              "    [theme=dark] .colab-df-convert:hover {\n",
              "      background-color: #434B5C;\n",
              "      box-shadow: 0px 1px 3px 1px rgba(0, 0, 0, 0.15);\n",
              "      filter: drop-shadow(0px 1px 2px rgba(0, 0, 0, 0.3));\n",
              "      fill: #FFFFFF;\n",
              "    }\n",
              "  </style>\n",
              "\n",
              "      <script>\n",
              "        const buttonEl =\n",
              "          document.querySelector('#df-de6c400a-413f-446e-b98e-10b311b97757 button.colab-df-convert');\n",
              "        buttonEl.style.display =\n",
              "          google.colab.kernel.accessAllowed ? 'block' : 'none';\n",
              "\n",
              "        async function convertToInteractive(key) {\n",
              "          const element = document.querySelector('#df-de6c400a-413f-446e-b98e-10b311b97757');\n",
              "          const dataTable =\n",
              "            await google.colab.kernel.invokeFunction('convertToInteractive',\n",
              "                                                     [key], {});\n",
              "          if (!dataTable) return;\n",
              "\n",
              "          const docLinkHtml = 'Like what you see? Visit the ' +\n",
              "            '<a target=\"_blank\" href=https://colab.research.google.com/notebooks/data_table.ipynb>data table notebook</a>'\n",
              "            + ' to learn more about interactive tables.';\n",
              "          element.innerHTML = '';\n",
              "          dataTable['output_type'] = 'display_data';\n",
              "          await google.colab.output.renderOutput(dataTable, element);\n",
              "          const docLink = document.createElement('div');\n",
              "          docLink.innerHTML = docLinkHtml;\n",
              "          element.appendChild(docLink);\n",
              "        }\n",
              "      </script>\n",
              "    </div>\n",
              "  </div>\n",
              "  "
            ]
          },
          "metadata": {},
          "execution_count": 31
        }
      ]
    },
    {
      "cell_type": "code",
      "source": [
        "#Predecir con nuevos datos\n",
        "yPrediccionClientesNuevos = gnb.predict(dfClientesNuevos)\n",
        "yPrediccionClientesNuevos"
      ],
      "metadata": {
        "colab": {
          "base_uri": "https://localhost:8080/"
        },
        "id": "cQBhAcES28hR",
        "outputId": "256871c5-41f1-43a0-b90e-1bb408d8e213"
      },
      "execution_count": 32,
      "outputs": [
        {
          "output_type": "stream",
          "name": "stderr",
          "text": [
            "/usr/local/lib/python3.9/dist-packages/sklearn/base.py:432: UserWarning: X has feature names, but GaussianNB was fitted without feature names\n",
            "  warnings.warn(\n"
          ]
        },
        {
          "output_type": "execute_result",
          "data": {
            "text/plain": [
              "array([1, 1, 0, 1, 0, 0, 0, 0])"
            ]
          },
          "metadata": {},
          "execution_count": 32
        }
      ]
    },
    {
      "cell_type": "markdown",
      "source": [
        "##Repetir el proceso hasta encontrar el mejor indicador"
      ],
      "metadata": {
        "id": "fJY1kC9KPzcQ"
      }
    },
    {
      "cell_type": "markdown",
      "source": [
        "#Grafico de analisis de correlacion de Pearson"
      ],
      "metadata": {
        "id": "lLWjepAw4_XB"
      }
    },
    {
      "cell_type": "code",
      "source": [
        "colormap = plt.cm.viridis#Color\n",
        "plt.figure(figsize=(12,12))#Tamaño\n",
        "plt.title('Pearson Correlation of Features', y=1.05, size=15)#Titulo, tamaño de recuadros\n",
        "#Graficar\n",
        "sb.heatmap(dfMinable.astype(float).corr(),linewidths=0.1,vmax=1.0, square=True, cmap=colormap, linecolor='white', annot=True)"
      ],
      "metadata": {
        "colab": {
          "base_uri": "https://localhost:8080/",
          "height": 983
        },
        "id": "vI84XgPY5F7x",
        "outputId": "f7c13918-6e0f-40ec-9748-62bc8646a4c7"
      },
      "execution_count": 33,
      "outputs": [
        {
          "output_type": "execute_result",
          "data": {
            "text/plain": [
              "<Axes: title={'center': 'Pearson Correlation of Features'}>"
            ]
          },
          "metadata": {},
          "execution_count": 33
        },
        {
          "output_type": "display_data",
          "data": {
            "text/plain": [
              "<Figure size 1200x1200 with 2 Axes>"
            ],
            "image/png": "[encoded data removed]"
          },
          "metadata": {}
        }
      ]
    },
    {
      "cell_type": "markdown",
      "source": [
        "#Ver que varancia es la mayor y la dejamos"
      ],
      "metadata": {
        "id": "CA4oXjKg77YR"
      }
    },
    {
      "cell_type": "code",
      "source": [
        "df['hijos'].var()"
      ],
      "metadata": {
        "colab": {
          "base_uri": "https://localhost:8080/"
        },
        "id": "UQ37AAjmAXNf",
        "outputId": "0e7a5681-f1a0-4886-9c07-2e4f6a7dc00b"
      },
      "execution_count": 34,
      "outputs": [
        {
          "output_type": "execute_result",
          "data": {
            "text/plain": [
              "1.870966947441013"
            ]
          },
          "metadata": {},
          "execution_count": 34
        }
      ]
    },
    {
      "cell_type": "code",
      "source": [
        "df['trabajo'].var()"
      ],
      "metadata": {
        "colab": {
          "base_uri": "https://localhost:8080/"
        },
        "id": "uxZwkKs97wzD",
        "outputId": "7bd1974e-7fde-4009-c12b-bac24c994cdd"
      },
      "execution_count": 35,
      "outputs": [
        {
          "output_type": "execute_result",
          "data": {
            "text/plain": [
              "6.430249741392048"
            ]
          },
          "metadata": {},
          "execution_count": 35
        }
      ]
    },
    {
      "cell_type": "code",
      "source": [
        "#Quitar los hijos\n",
        "dfMinable2 = dfMinable.drop('hijos',axis= 1)"
      ],
      "metadata": {
        "id": "GZ6ylLVK8DAx"
      },
      "execution_count": 36,
      "outputs": []
    },
    {
      "cell_type": "code",
      "source": [
        "dfMinable2"
      ],
      "metadata": {
        "colab": {
          "base_uri": "https://localhost:8080/",
          "height": 424
        },
        "id": "dwYs1OJo8Tz6",
        "outputId": "ab9071af-4c4c-4bb3-e742-ea4fe68d514a"
      },
      "execution_count": 37,
      "outputs": [
        {
          "output_type": "execute_result",
          "data": {
            "text/plain": [
              "     ingresos  estado_civil  trabajo  comprara  gastos  valor_a_financiar\n",
              "0        6000             0        2         1    1600             350000\n",
              "1        6745             1        6         0    1496             593657\n",
              "2        6455             2        8         1    1926             264316\n",
              "3        7098             0        3         0    1547             606427\n",
              "4        6167             0        3         1    1606             307420\n",
              "..        ...           ...      ...       ...     ...                ...\n",
              "197      3831             0        2         0    1530             352397\n",
              "198      3961             2        8         0    1775             258541\n",
              "199      3184             1        8         0    1915             352460\n",
              "200      3334             1        5         0    1888             356907\n",
              "201      3988             0        4         0    1644             245600\n",
              "\n",
              "[202 rows x 6 columns]"
            ],
            "text/html": [
              "\n",
              "  <div id=\"df-f444681c-8cf2-4d65-b4f2-c6e1602461be\">\n",
              "    <div class=\"colab-df-container\">\n",
              "      <div>\n",
              "<style scoped>\n",
              "    .dataframe tbody tr th:only-of-type {\n",
              "        vertical-align: middle;\n",
              "    }\n",
              "\n",
              "    .dataframe tbody tr th {\n",
              "        vertical-align: top;\n",
              "    }\n",
              "\n",
              "    .dataframe thead th {\n",
              "        text-align: right;\n",
              "    }\n",
              "</style>\n",
              "<table border=\"1\" class=\"dataframe\">\n",
              "  <thead>\n",
              "    <tr style=\"text-align: right;\">\n",
              "      <th></th>\n",
              "      <th>ingresos</th>\n",
              "      <th>estado_civil</th>\n",
              "      <th>trabajo</th>\n",
              "      <th>comprara</th>\n",
              "      <th>gastos</th>\n",
              "      <th>valor_a_financiar</th>\n",
              "    </tr>\n",
              "  </thead>\n",
              "  <tbody>\n",
              "    <tr>\n",
              "      <th>0</th>\n",
              "      <td>6000</td>\n",
              "      <td>0</td>\n",
              "      <td>2</td>\n",
              "      <td>1</td>\n",
              "      <td>1600</td>\n",
              "      <td>350000</td>\n",
              "    </tr>\n",
              "    <tr>\n",
              "      <th>1</th>\n",
              "      <td>6745</td>\n",
              "      <td>1</td>\n",
              "      <td>6</td>\n",
              "      <td>0</td>\n",
              "      <td>1496</td>\n",
              "      <td>593657</td>\n",
              "    </tr>\n",
              "    <tr>\n",
              "      <th>2</th>\n",
              "      <td>6455</td>\n",
              "      <td>2</td>\n",
              "      <td>8</td>\n",
              "      <td>1</td>\n",
              "      <td>1926</td>\n",
              "      <td>264316</td>\n",
              "    </tr>\n",
              "    <tr>\n",
              "      <th>3</th>\n",
              "      <td>7098</td>\n",
              "      <td>0</td>\n",
              "      <td>3</td>\n",
              "      <td>0</td>\n",
              "      <td>1547</td>\n",
              "      <td>606427</td>\n",
              "    </tr>\n",
              "    <tr>\n",
              "      <th>4</th>\n",
              "      <td>6167</td>\n",
              "      <td>0</td>\n",
              "      <td>3</td>\n",
              "      <td>1</td>\n",
              "      <td>1606</td>\n",
              "      <td>307420</td>\n",
              "    </tr>\n",
              "    <tr>\n",
              "      <th>...</th>\n",
              "      <td>...</td>\n",
              "      <td>...</td>\n",
              "      <td>...</td>\n",
              "      <td>...</td>\n",
              "      <td>...</td>\n",
              "      <td>...</td>\n",
              "    </tr>\n",
              "    <tr>\n",
              "      <th>197</th>\n",
              "      <td>3831</td>\n",
              "      <td>0</td>\n",
              "      <td>2</td>\n",
              "      <td>0</td>\n",
              "      <td>1530</td>\n",
              "      <td>352397</td>\n",
              "    </tr>\n",
              "    <tr>\n",
              "      <th>198</th>\n",
              "      <td>3961</td>\n",
              "      <td>2</td>\n",
              "      <td>8</td>\n",
              "      <td>0</td>\n",
              "      <td>1775</td>\n",
              "      <td>258541</td>\n",
              "    </tr>\n",
              "    <tr>\n",
              "      <th>199</th>\n",
              "      <td>3184</td>\n",
              "      <td>1</td>\n",
              "      <td>8</td>\n",
              "      <td>0</td>\n",
              "      <td>1915</td>\n",
              "      <td>352460</td>\n",
              "    </tr>\n",
              "    <tr>\n",
              "      <th>200</th>\n",
              "      <td>3334</td>\n",
              "      <td>1</td>\n",
              "      <td>5</td>\n",
              "      <td>0</td>\n",
              "      <td>1888</td>\n",
              "      <td>356907</td>\n",
              "    </tr>\n",
              "    <tr>\n",
              "      <th>201</th>\n",
              "      <td>3988</td>\n",
              "      <td>0</td>\n",
              "      <td>4</td>\n",
              "      <td>0</td>\n",
              "      <td>1644</td>\n",
              "      <td>245600</td>\n",
              "    </tr>\n",
              "  </tbody>\n",
              "</table>\n",
              "<p>202 rows × 6 columns</p>\n",
              "</div>\n",
              "      <button class=\"colab-df-convert\" onclick=\"convertToInteractive('df-f444681c-8cf2-4d65-b4f2-c6e1602461be')\"\n",
              "              title=\"Convert this dataframe to an interactive table.\"\n",
              "              style=\"display:none;\">\n",
              "        \n",
              "  <svg xmlns=\"http://www.w3.org/2000/svg\" height=\"24px\"viewBox=\"0 0 24 24\"\n",
              "       width=\"24px\">\n",
              "    <path d=\"M0 0h24v24H0V0z\" fill=\"none\"/>\n",
              "    <path d=\"M18.56 5.44l.94 2.06.94-2.06 2.06-.94-2.06-.94-.94-2.06-.94 2.06-2.06.94zm-11 1L8.5 8.5l.94-2.06 2.06-.94-2.06-.94L8.5 2.5l-.94 2.06-2.06.94zm10 10l.94 2.06.94-2.06 2.06-.94-2.06-.94-.94-2.06-.94 2.06-2.06.94z\"/><path d=\"M17.41 7.96l-1.37-1.37c-.4-.4-.92-.59-1.43-.59-.52 0-1.04.2-1.43.59L10.3 9.45l-7.72 7.72c-.78.78-.78 2.05 0 2.83L4 21.41c.39.39.9.59 1.41.59.51 0 1.02-.2 1.41-.59l7.78-7.78 2.81-2.81c.8-.78.8-2.07 0-2.86zM5.41 20L4 18.59l7.72-7.72 1.47 1.35L5.41 20z\"/>\n",
              "  </svg>\n",
              "      </button>\n",
              "      \n",
              "  <style>\n",
              "    .colab-df-container {\n",
              "      display:flex;\n",
              "      flex-wrap:wrap;\n",
              "      gap: 12px;\n",
              "    }\n",
              "\n",
              "    .colab-df-convert {\n",
              "      background-color: #E8F0FE;\n",
              "      border: none;\n",
              "      border-radius: 50%;\n",
              "      cursor: pointer;\n",
              "      display: none;\n",
              "      fill: #1967D2;\n",
              "      height: 32px;\n",
              "      padding: 0 0 0 0;\n",
              "      width: 32px;\n",
              "    }\n",
              "\n",
              "    .colab-df-convert:hover {\n",
              "      background-color: #E2EBFA;\n",
              "      box-shadow: 0px 1px 2px rgba(60, 64, 67, 0.3), 0px 1px 3px 1px rgba(60, 64, 67, 0.15);\n",
              "      fill: #174EA6;\n",
              "    }\n",
              "\n",
              "    [theme=dark] .colab-df-convert {\n",
              "      background-color: #3B4455;\n",
              "      fill: #D2E3FC;\n",
              "    }\n",
              "\n",
              "    [theme=dark] .colab-df-convert:hover {\n",
              "      background-color: #434B5C;\n",
              "      box-shadow: 0px 1px 3px 1px rgba(0, 0, 0, 0.15);\n",
              "      filter: drop-shadow(0px 1px 2px rgba(0, 0, 0, 0.3));\n",
              "      fill: #FFFFFF;\n",
              "    }\n",
              "  </style>\n",
              "\n",
              "      <script>\n",
              "        const buttonEl =\n",
              "          document.querySelector('#df-f444681c-8cf2-4d65-b4f2-c6e1602461be button.colab-df-convert');\n",
              "        buttonEl.style.display =\n",
              "          google.colab.kernel.accessAllowed ? 'block' : 'none';\n",
              "\n",
              "        async function convertToInteractive(key) {\n",
              "          const element = document.querySelector('#df-f444681c-8cf2-4d65-b4f2-c6e1602461be');\n",
              "          const dataTable =\n",
              "            await google.colab.kernel.invokeFunction('convertToInteractive',\n",
              "                                                     [key], {});\n",
              "          if (!dataTable) return;\n",
              "\n",
              "          const docLinkHtml = 'Like what you see? Visit the ' +\n",
              "            '<a target=\"_blank\" href=https://colab.research.google.com/notebooks/data_table.ipynb>data table notebook</a>'\n",
              "            + ' to learn more about interactive tables.';\n",
              "          element.innerHTML = '';\n",
              "          dataTable['output_type'] = 'display_data';\n",
              "          await google.colab.output.renderOutput(dataTable, element);\n",
              "          const docLink = document.createElement('div');\n",
              "          docLink.innerHTML = docLinkHtml;\n",
              "          element.appendChild(docLink);\n",
              "        }\n",
              "      </script>\n",
              "    </div>\n",
              "  </div>\n",
              "  "
            ]
          },
          "metadata": {},
          "execution_count": 37
        }
      ]
    },
    {
      "cell_type": "code",
      "source": [
        "# Ejecutar todo nuevamente\n",
        "X = dfMinable2.drop(['comprara'], axis = 1) \n",
        "y = dfMinable2.comprara\n",
        "# Particionar\n",
        "Xtrain, Xtest, ytrain, ytest = train_test_split(X, y, test_size=0.2, random_state=124)\n",
        "# Crear\n",
        "gnb2 = GaussianNB()\n",
        "# Entrenar\n",
        "gnb2.fit(Xtrain.values,ytrain)\n",
        "# Predecir\n",
        "ypredict = gnb2.predict(Xtest)\n",
        "# Matriz confusion\n",
        "matriz = confusion_matrix(ytest,ypredict)\n",
        "matrizdf = pd.DataFrame(matriz)\n",
        "# Nombrar columnas y filas\n",
        "matrizdf.columns = ['0_NO_compra_Real', '1_SI_compra_Real' ]\n",
        "matrizdf.rename(index = {0:'NO_compra_PRED',1:'SI_compra_PRED'}) \n",
        "print(matrizdf)\n",
        "# Calcular Accuracy\n",
        "print(accuracy_score(ytest,ypredict))"
      ],
      "metadata": {
        "colab": {
          "base_uri": "https://localhost:8080/"
        },
        "id": "JgGilL8E8gri",
        "outputId": "de43ca31-bc05-40ed-b0e5-68db108afd5d"
      },
      "execution_count": 38,
      "outputs": [
        {
          "output_type": "stream",
          "name": "stdout",
          "text": [
            "   0_NO_compra_Real  1_SI_compra_Real\n",
            "0                28                 0\n",
            "1                 1                12\n",
            "0.975609756097561\n"
          ]
        },
        {
          "output_type": "stream",
          "name": "stderr",
          "text": [
            "/usr/local/lib/python3.9/dist-packages/sklearn/base.py:432: UserWarning: X has feature names, but GaussianNB was fitted without feature names\n",
            "  warnings.warn(\n"
          ]
        }
      ]
    },
    {
      "cell_type": "code",
      "source": [
        "#Otra herramienta para medir metricas -Clasification Report\n",
        "print(classification_report(y_test,yPrediccion, labels=[0,1]))"
      ],
      "metadata": {
        "colab": {
          "base_uri": "https://localhost:8080/"
        },
        "id": "-u89ywF4AuTd",
        "outputId": "bba280e8-89ac-43b6-9536-85d5797772d6"
      },
      "execution_count": 39,
      "outputs": [
        {
          "output_type": "stream",
          "name": "stdout",
          "text": [
            "              precision    recall  f1-score   support\n",
            "\n",
            "           0       0.97      1.00      0.98        28\n",
            "           1       1.00      0.92      0.96        13\n",
            "\n",
            "    accuracy                           0.98        41\n",
            "   macro avg       0.98      0.96      0.97        41\n",
            "weighted avg       0.98      0.98      0.98        41\n",
            "\n"
          ]
        }
      ]
    },
    {
      "cell_type": "markdown",
      "source": [
        "#Seleccionar las mejores caracteristicas usando la libreria de Sklearn"
      ],
      "metadata": {
        "id": "GkmqFkppKlzk"
      }
    },
    {
      "cell_type": "code",
      "source": [
        "mejores = SelectKBest(k=4) #Escoger las 4 caracteristicas\n",
        "X = dfMinable.drop(['comprara'], axis = 1) \n",
        "y = dfMinable.comprara\n",
        "arregloMinable3 = mejores.fit_transform(X,y)\n",
        "arregloMinable3"
      ],
      "metadata": {
        "id": "ywlIlGzdKXh1",
        "colab": {
          "base_uri": "https://localhost:8080/"
        },
        "outputId": "e82deb81-5164-4b78-a367-beebe7444ca2"
      },
      "execution_count": 40,
      "outputs": [
        {
          "output_type": "execute_result",
          "data": {
            "text/plain": [
              "array([[  6000,      2,      2, 350000],\n",
              "       [  6745,      3,      6, 593657],\n",
              "       [  6455,      1,      8, 264316],\n",
              "       [  7098,      0,      3, 606427],\n",
              "       [  6167,      0,      3, 307420],\n",
              "       [  5692,      4,      5, 309988],\n",
              "       [  6830,      1,      5, 383051],\n",
              "       [  6470,      0,      1, 548852],\n",
              "       [  6251,      0,      3, 240507],\n",
              "       [  6987,      1,      7, 283487],\n",
              "       [  7273,      0,      0, 538632],\n",
              "       [  5058,      0,      2, 375498],\n",
              "       [  5663,      3,      6, 457000],\n",
              "       [  6139,      3,      8, 267801],\n",
              "       [  7567,      2,      5, 599501],\n",
              "       [  5749,      0,      4, 254865],\n",
              "       [  5685,      2,      8, 298862],\n",
              "       [  6722,      2,      7, 527691],\n",
              "       [  7705,      0,      2, 532001],\n",
              "       [  6038,      1,      7, 216945],\n",
              "       [  6840,      0,      0, 405826],\n",
              "       [  6519,      1,      8, 499336],\n",
              "       [  7831,      0,      1, 590605],\n",
              "       [  6717,      1,      8, 246104],\n",
              "       [  5099,      0,      1, 299779],\n",
              "       [  5897,      0,      3, 371277],\n",
              "       [  5294,      4,      5, 396629],\n",
              "       [  6148,      0,      4, 444145],\n",
              "       [  7939,      0,      4, 391082],\n",
              "       [  7287,      4,      8, 257284],\n",
              "       [  7422,      1,      8, 290494],\n",
              "       [  6381,      0,      2, 517281],\n",
              "       [  5163,      3,      5, 605209],\n",
              "       [  5458,      0,      0, 457298],\n",
              "       [  7349,      0,      3, 298293],\n",
              "       [  7174,      1,      6, 446488],\n",
              "       [  7276,      0,      0, 381883],\n",
              "       [  7984,      3,      6, 350265],\n",
              "       [  6025,      2,      5, 238225],\n",
              "       [  6692,      2,      7, 488473],\n",
              "       [  6822,      0,      0, 618621],\n",
              "       [  6044,      1,      5, 329463],\n",
              "       [  5218,      1,      7, 568158],\n",
              "       [  7413,      3,      7, 550213],\n",
              "       [  6952,      0,      3, 502333],\n",
              "       [  5515,      0,      4, 236687],\n",
              "       [  5126,      0,      4, 271374],\n",
              "       [  5536,      2,      5, 307786],\n",
              "       [  7180,      1,      6, 336399],\n",
              "       [  6959,      0,      3, 503362],\n",
              "       [  4952,      2,      7, 232386],\n",
              "       [  2928,      1,      8, 261892],\n",
              "       [  2036,      1,      7, 191845],\n",
              "       [  3961,      3,      5, 254709],\n",
              "       [  2516,      0,      1, 245601],\n",
              "       [  3382,      4,      7, 203934],\n",
              "       [  4119,      0,      3, 264760],\n",
              "       [  3951,      0,      1, 209086],\n",
              "       [  4792,      0,      0, 302575],\n",
              "       [  3731,      0,      1, 310422],\n",
              "       [  4736,      3,      7, 185432],\n",
              "       [  4433,      1,      7, 369024],\n",
              "       [  4909,      0,      1, 324862],\n",
              "       [  3105,      3,      8, 286108],\n",
              "       [  2138,      0,      1, 384688],\n",
              "       [  2274,      1,      6, 170025],\n",
              "       [  2032,      1,      8, 191378],\n",
              "       [  3361,      0,      3, 228833],\n",
              "       [  3043,      1,      5, 200696],\n",
              "       [  3473,      0,      4, 157130],\n",
              "       [  3162,      2,      6, 190170],\n",
              "       [  4473,      1,      8, 257810],\n",
              "       [  2937,      1,      7, 164506],\n",
              "       [  4553,      1,      8, 272601],\n",
              "       [  3733,      0,      1, 349923],\n",
              "       [  2409,      3,      8, 269827],\n",
              "       [  2369,      0,      1, 183515],\n",
              "       [  4503,      4,      8, 263484],\n",
              "       [  4606,      3,      6, 355130],\n",
              "       [  3806,      0,      2, 244775],\n",
              "       [  3218,      1,      6, 291817],\n",
              "       [  4927,      0,      3, 245460],\n",
              "       [  3784,      0,      0, 158844],\n",
              "       [  3437,      0,      2, 381902],\n",
              "       [  4648,      3,      8, 166316],\n",
              "       [  4799,      3,      6, 229363],\n",
              "       [  3976,      0,      3, 206877],\n",
              "       [  3299,      4,      8, 208207],\n",
              "       [  4224,      1,      6, 297510],\n",
              "       [  3000,      0,      2, 226787],\n",
              "       [  2828,      0,      0, 357397],\n",
              "       [  2825,      2,      7, 240378],\n",
              "       [  4426,      1,      7, 233861],\n",
              "       [  4532,      0,      2, 231210],\n",
              "       [  2448,      0,      4, 329800],\n",
              "       [  4517,      2,      6, 201674],\n",
              "       [  4505,      0,      4, 228652],\n",
              "       [  3080,      0,      4, 360994],\n",
              "       [  3543,      4,      6, 296773],\n",
              "       [  2039,      0,      4, 185164],\n",
              "       [  3437,      2,      5, 318241],\n",
              "       [  6500,      1,      5, 325000],\n",
              "       [  6332,      0,      3, 609526],\n",
              "       [  7289,      1,      5, 447410],\n",
              "       [  5552,      2,      8, 333896],\n",
              "       [  7420,      0,      4, 616392],\n",
              "       [  6205,      0,      2, 604105],\n",
              "       [  6771,      1,      5, 207087],\n",
              "       [  6813,      0,      2, 581543],\n",
              "       [  6152,      4,      8, 360262],\n",
              "       [  6906,      4,      5, 306681],\n",
              "       [  7595,      0,      3, 570457],\n",
              "       [  6355,      0,      1, 304893],\n",
              "       [  5862,      0,      4, 402948],\n",
              "       [  5468,      0,      4, 242239],\n",
              "       [  7011,      4,      7, 514493],\n",
              "       [  6744,      1,      8, 405527],\n",
              "       [  6806,      3,      6, 243185],\n",
              "       [  6194,      3,      5, 464108],\n",
              "       [  5656,      1,      6, 599604],\n",
              "       [  5730,      2,      6, 548201],\n",
              "       [  5717,      4,      7, 304832],\n",
              "       [  7138,      2,      5, 363753],\n",
              "       [  6762,      0,      3, 574869],\n",
              "       [  5813,      1,      5, 270210],\n",
              "       [  5415,      2,      5, 277362],\n",
              "       [  5572,      3,      5, 502883],\n",
              "       [  6412,      3,      5, 264652],\n",
              "       [  6503,      4,      6, 223997],\n",
              "       [  5558,      2,      5, 387546],\n",
              "       [  7063,      2,      8, 214920],\n",
              "       [  6222,      0,      4, 414382],\n",
              "       [  6325,      0,      0, 519477],\n",
              "       [  6264,      0,      0, 375456],\n",
              "       [  5593,      0,      0, 494755],\n",
              "       [  5514,      0,      0, 330023],\n",
              "       [  6347,      0,      1, 511328],\n",
              "       [  6058,      2,      7, 405737],\n",
              "       [  7877,      2,      7, 243299],\n",
              "       [  5848,      2,      5, 490540],\n",
              "       [  7758,      0,      3, 394190],\n",
              "       [  6384,      4,      7, 292762],\n",
              "       [  7777,      0,      4, 260264],\n",
              "       [  7505,      1,      8, 449369],\n",
              "       [  5791,      0,      4, 603517],\n",
              "       [  5646,      0,      1, 586123],\n",
              "       [  6495,      4,      6, 563208],\n",
              "       [  5264,      3,      8, 306697],\n",
              "       [  7033,      0,      2, 606536],\n",
              "       [  5502,      0,      4, 513588],\n",
              "       [  6935,      0,      1, 596717],\n",
              "       [  3586,      0,      3, 207201],\n",
              "       [  4883,      1,      5, 217473],\n",
              "       [  4885,      0,      0, 165065],\n",
              "       [  4403,      0,      1, 354499],\n",
              "       [  3026,      0,      4, 335044],\n",
              "       [  4714,      0,      1, 320831],\n",
              "       [  2974,      4,      6, 344809],\n",
              "       [  2550,      3,      5, 185388],\n",
              "       [  3504,      0,      0, 283652],\n",
              "       [  2024,      3,      7, 220422],\n",
              "       [  3084,      3,      5, 361486],\n",
              "       [  3234,      3,      8, 190998],\n",
              "       [  4749,      2,      6, 293734],\n",
              "       [  3602,      0,      2, 383097],\n",
              "       [  4203,      4,      8, 290874],\n",
              "       [  3685,      2,      7, 254613],\n",
              "       [  3039,      0,      1, 237770],\n",
              "       [  2485,      2,      7, 285554],\n",
              "       [  3641,      3,      7, 245526],\n",
              "       [  2151,      1,      6, 326940],\n",
              "       [  2077,      0,      3, 297486],\n",
              "       [  4276,      0,      3, 282432],\n",
              "       [  2028,      1,      5, 231093],\n",
              "       [  4943,      0,      2, 362445],\n",
              "       [  2593,      2,      8, 258730],\n",
              "       [  2064,      0,      2, 317483],\n",
              "       [  2614,      0,      2, 273236],\n",
              "       [  4507,      3,      6, 175714],\n",
              "       [  2028,      0,      3, 247675],\n",
              "       [  2022,      3,      7, 269229],\n",
              "       [  3608,      1,      8, 314083],\n",
              "       [  3973,      2,      7, 204249],\n",
              "       [  3395,      2,      8, 202228],\n",
              "       [  4434,      0,      0, 172485],\n",
              "       [  4025,      4,      5, 187089],\n",
              "       [  2308,      0,      2, 224093],\n",
              "       [  3169,      2,      7, 162587],\n",
              "       [  4708,      0,      0, 347206],\n",
              "       [  2265,      0,      2, 229247],\n",
              "       [  2008,      3,      5, 154716],\n",
              "       [  3796,      0,      1, 174816],\n",
              "       [  4653,      0,      3, 376005],\n",
              "       [  3390,      2,      5, 269511],\n",
              "       [  2969,      2,      6, 259542],\n",
              "       [  4169,      1,      7, 211369],\n",
              "       [  4054,      0,      3, 201788],\n",
              "       [  3831,      0,      2, 352397],\n",
              "       [  3961,      3,      8, 258541],\n",
              "       [  3184,      3,      8, 352460],\n",
              "       [  3334,      2,      5, 356907],\n",
              "       [  3988,      0,      4, 245600]])"
            ]
          },
          "metadata": {},
          "execution_count": 40
        }
      ]
    },
    {
      "cell_type": "code",
      "source": [
        "seleccionados =  mejores.get_support(indices=True)#Recomienda las 4 columnas\n",
        "X.columns[seleccionados]"
      ],
      "metadata": {
        "colab": {
          "base_uri": "https://localhost:8080/"
        },
        "id": "L7UgjX5ZMR6c",
        "outputId": "99f8388c-39a6-4f1d-e6cd-a99829c3b19e"
      },
      "execution_count": 41,
      "outputs": [
        {
          "output_type": "execute_result",
          "data": {
            "text/plain": [
              "Index(['ingresos', 'hijos', 'trabajo', 'valor_a_financiar'], dtype='object')"
            ]
          },
          "metadata": {},
          "execution_count": 41
        }
      ]
    },
    {
      "cell_type": "code",
      "source": [
        "features_Usar = X.columns[seleccionados]\n",
        "X = dfMinable[features_Usar] \n",
        "y = dfMinable.comprara"
      ],
      "metadata": {
        "id": "KtyT5JEuNJNt"
      },
      "execution_count": 42,
      "outputs": []
    },
    {
      "cell_type": "code",
      "source": [
        "X"
      ],
      "metadata": {
        "colab": {
          "base_uri": "https://localhost:8080/",
          "height": 424
        },
        "id": "IVDh88UwNzId",
        "outputId": "542fe29a-80eb-4b99-ad97-cb6d34552cf9"
      },
      "execution_count": 43,
      "outputs": [
        {
          "output_type": "execute_result",
          "data": {
            "text/plain": [
              "     ingresos  hijos  trabajo  valor_a_financiar\n",
              "0        6000      2        2             350000\n",
              "1        6745      3        6             593657\n",
              "2        6455      1        8             264316\n",
              "3        7098      0        3             606427\n",
              "4        6167      0        3             307420\n",
              "..        ...    ...      ...                ...\n",
              "197      3831      0        2             352397\n",
              "198      3961      3        8             258541\n",
              "199      3184      3        8             352460\n",
              "200      3334      2        5             356907\n",
              "201      3988      0        4             245600\n",
              "\n",
              "[202 rows x 4 columns]"
            ],
            "text/html": [
              "\n",
              "  <div id=\"df-8f0a10d8-fecd-4216-86ff-e6ca014db192\">\n",
              "    <div class=\"colab-df-container\">\n",
              "      <div>\n",
              "<style scoped>\n",
              "    .dataframe tbody tr th:only-of-type {\n",
              "        vertical-align: middle;\n",
              "    }\n",
              "\n",
              "    .dataframe tbody tr th {\n",
              "        vertical-align: top;\n",
              "    }\n",
              "\n",
              "    .dataframe thead th {\n",
              "        text-align: right;\n",
              "    }\n",
              "</style>\n",
              "<table border=\"1\" class=\"dataframe\">\n",
              "  <thead>\n",
              "    <tr style=\"text-align: right;\">\n",
              "      <th></th>\n",
              "      <th>ingresos</th>\n",
              "      <th>hijos</th>\n",
              "      <th>trabajo</th>\n",
              "      <th>valor_a_financiar</th>\n",
              "    </tr>\n",
              "  </thead>\n",
              "  <tbody>\n",
              "    <tr>\n",
              "      <th>0</th>\n",
              "      <td>6000</td>\n",
              "      <td>2</td>\n",
              "      <td>2</td>\n",
              "      <td>350000</td>\n",
              "    </tr>\n",
              "    <tr>\n",
              "      <th>1</th>\n",
              "      <td>6745</td>\n",
              "      <td>3</td>\n",
              "      <td>6</td>\n",
              "      <td>593657</td>\n",
              "    </tr>\n",
              "    <tr>\n",
              "      <th>2</th>\n",
              "      <td>6455</td>\n",
              "      <td>1</td>\n",
              "      <td>8</td>\n",
              "      <td>264316</td>\n",
              "    </tr>\n",
              "    <tr>\n",
              "      <th>3</th>\n",
              "      <td>7098</td>\n",
              "      <td>0</td>\n",
              "      <td>3</td>\n",
              "      <td>606427</td>\n",
              "    </tr>\n",
              "    <tr>\n",
              "      <th>4</th>\n",
              "      <td>6167</td>\n",
              "      <td>0</td>\n",
              "      <td>3</td>\n",
              "      <td>307420</td>\n",
              "    </tr>\n",
              "    <tr>\n",
              "      <th>...</th>\n",
              "      <td>...</td>\n",
              "      <td>...</td>\n",
              "      <td>...</td>\n",
              "      <td>...</td>\n",
              "    </tr>\n",
              "    <tr>\n",
              "      <th>197</th>\n",
              "      <td>3831</td>\n",
              "      <td>0</td>\n",
              "      <td>2</td>\n",
              "      <td>352397</td>\n",
              "    </tr>\n",
              "    <tr>\n",
              "      <th>198</th>\n",
              "      <td>3961</td>\n",
              "      <td>3</td>\n",
              "      <td>8</td>\n",
              "      <td>258541</td>\n",
              "    </tr>\n",
              "    <tr>\n",
              "      <th>199</th>\n",
              "      <td>3184</td>\n",
              "      <td>3</td>\n",
              "      <td>8</td>\n",
              "      <td>352460</td>\n",
              "    </tr>\n",
              "    <tr>\n",
              "      <th>200</th>\n",
              "      <td>3334</td>\n",
              "      <td>2</td>\n",
              "      <td>5</td>\n",
              "      <td>356907</td>\n",
              "    </tr>\n",
              "    <tr>\n",
              "      <th>201</th>\n",
              "      <td>3988</td>\n",
              "      <td>0</td>\n",
              "      <td>4</td>\n",
              "      <td>245600</td>\n",
              "    </tr>\n",
              "  </tbody>\n",
              "</table>\n",
              "<p>202 rows × 4 columns</p>\n",
              "</div>\n",
              "      <button class=\"colab-df-convert\" onclick=\"convertToInteractive('df-8f0a10d8-fecd-4216-86ff-e6ca014db192')\"\n",
              "              title=\"Convert this dataframe to an interactive table.\"\n",
              "              style=\"display:none;\">\n",
              "        \n",
              "  <svg xmlns=\"http://www.w3.org/2000/svg\" height=\"24px\"viewBox=\"0 0 24 24\"\n",
              "       width=\"24px\">\n",
              "    <path d=\"M0 0h24v24H0V0z\" fill=\"none\"/>\n",
              "    <path d=\"M18.56 5.44l.94 2.06.94-2.06 2.06-.94-2.06-.94-.94-2.06-.94 2.06-2.06.94zm-11 1L8.5 8.5l.94-2.06 2.06-.94-2.06-.94L8.5 2.5l-.94 2.06-2.06.94zm10 10l.94 2.06.94-2.06 2.06-.94-2.06-.94-.94-2.06-.94 2.06-2.06.94z\"/><path d=\"M17.41 7.96l-1.37-1.37c-.4-.4-.92-.59-1.43-.59-.52 0-1.04.2-1.43.59L10.3 9.45l-7.72 7.72c-.78.78-.78 2.05 0 2.83L4 21.41c.39.39.9.59 1.41.59.51 0 1.02-.2 1.41-.59l7.78-7.78 2.81-2.81c.8-.78.8-2.07 0-2.86zM5.41 20L4 18.59l7.72-7.72 1.47 1.35L5.41 20z\"/>\n",
              "  </svg>\n",
              "      </button>\n",
              "      \n",
              "  <style>\n",
              "    .colab-df-container {\n",
              "      display:flex;\n",
              "      flex-wrap:wrap;\n",
              "      gap: 12px;\n",
              "    }\n",
              "\n",
              "    .colab-df-convert {\n",
              "      background-color: #E8F0FE;\n",
              "      border: none;\n",
              "      border-radius: 50%;\n",
              "      cursor: pointer;\n",
              "      display: none;\n",
              "      fill: #1967D2;\n",
              "      height: 32px;\n",
              "      padding: 0 0 0 0;\n",
              "      width: 32px;\n",
              "    }\n",
              "\n",
              "    .colab-df-convert:hover {\n",
              "      background-color: #E2EBFA;\n",
              "      box-shadow: 0px 1px 2px rgba(60, 64, 67, 0.3), 0px 1px 3px 1px rgba(60, 64, 67, 0.15);\n",
              "      fill: #174EA6;\n",
              "    }\n",
              "\n",
              "    [theme=dark] .colab-df-convert {\n",
              "      background-color: #3B4455;\n",
              "      fill: #D2E3FC;\n",
              "    }\n",
              "\n",
              "    [theme=dark] .colab-df-convert:hover {\n",
              "      background-color: #434B5C;\n",
              "      box-shadow: 0px 1px 3px 1px rgba(0, 0, 0, 0.15);\n",
              "      filter: drop-shadow(0px 1px 2px rgba(0, 0, 0, 0.3));\n",
              "      fill: #FFFFFF;\n",
              "    }\n",
              "  </style>\n",
              "\n",
              "      <script>\n",
              "        const buttonEl =\n",
              "          document.querySelector('#df-8f0a10d8-fecd-4216-86ff-e6ca014db192 button.colab-df-convert');\n",
              "        buttonEl.style.display =\n",
              "          google.colab.kernel.accessAllowed ? 'block' : 'none';\n",
              "\n",
              "        async function convertToInteractive(key) {\n",
              "          const element = document.querySelector('#df-8f0a10d8-fecd-4216-86ff-e6ca014db192');\n",
              "          const dataTable =\n",
              "            await google.colab.kernel.invokeFunction('convertToInteractive',\n",
              "                                                     [key], {});\n",
              "          if (!dataTable) return;\n",
              "\n",
              "          const docLinkHtml = 'Like what you see? Visit the ' +\n",
              "            '<a target=\"_blank\" href=https://colab.research.google.com/notebooks/data_table.ipynb>data table notebook</a>'\n",
              "            + ' to learn more about interactive tables.';\n",
              "          element.innerHTML = '';\n",
              "          dataTable['output_type'] = 'display_data';\n",
              "          await google.colab.output.renderOutput(dataTable, element);\n",
              "          const docLink = document.createElement('div');\n",
              "          docLink.innerHTML = docLinkHtml;\n",
              "          element.appendChild(docLink);\n",
              "        }\n",
              "      </script>\n",
              "    </div>\n",
              "  </div>\n",
              "  "
            ]
          },
          "metadata": {},
          "execution_count": 43
        }
      ]
    },
    {
      "cell_type": "code",
      "source": [
        "y"
      ],
      "metadata": {
        "id": "Q2BiGeIRN4St",
        "colab": {
          "base_uri": "https://localhost:8080/"
        },
        "outputId": "e8630a5b-e4c3-4536-c723-bb2fa2de5de3"
      },
      "execution_count": 44,
      "outputs": [
        {
          "output_type": "execute_result",
          "data": {
            "text/plain": [
              "0      1\n",
              "1      0\n",
              "2      1\n",
              "3      0\n",
              "4      1\n",
              "      ..\n",
              "197    0\n",
              "198    0\n",
              "199    0\n",
              "200    0\n",
              "201    0\n",
              "Name: comprara, Length: 202, dtype: int64"
            ]
          },
          "metadata": {},
          "execution_count": 44
        }
      ]
    },
    {
      "cell_type": "code",
      "source": [
        "# Particionar\n",
        "Xtrain, Xtest, ytrain, ytest = train_test_split(X, y, test_size=0.2, random_state=124)\n",
        "# Crear\n",
        "gnb3 = GaussianNB()\n",
        "# Entrenar\n",
        "gnb3.fit(Xtrain.values,ytrain)\n",
        "# Predecir\n",
        "ypredict = gnb3.predict(Xtest)\n",
        "# Matriz confusion\n",
        "matriz = confusion_matrix(ytest,ypredict)\n",
        "matrizdf = pd.DataFrame(matriz)\n",
        "# Nombrar columnas y filas\n",
        "matrizdf.columns = ['0_NO_compra_Real', '1_SI_compra_Real' ]\n",
        "matrizdf.rename(index = {0:'NO_compra_PRED',1:'SI_compra_PRED'}) \n",
        "print(matrizdf)\n",
        "# Calcular Accuracy\n",
        "print(accuracy_score(ytest,ypredict))\n",
        "print('Precisión en el set de Entrenamiento: {:.2f}'.format(gnb3.score(Xtrain, ytrain)))\n",
        "print('Precisión en el set de Test: {:.2f}'.format(gnb3.score(Xtest, ytest)))\n",
        "print(classification_report(ytest,yPrediccion, labels=[0,1]))"
      ],
      "metadata": {
        "colab": {
          "base_uri": "https://localhost:8080/"
        },
        "id": "Pwz3K14FOCp9",
        "outputId": "75a7f77e-e5af-437e-e63d-de9147acd663"
      },
      "execution_count": 45,
      "outputs": [
        {
          "output_type": "stream",
          "name": "stdout",
          "text": [
            "   0_NO_compra_Real  1_SI_compra_Real\n",
            "0                28                 0\n",
            "1                 1                12\n",
            "0.975609756097561\n",
            "Precisión en el set de Entrenamiento: 0.87\n",
            "Precisión en el set de Test: 0.98\n",
            "              precision    recall  f1-score   support\n",
            "\n",
            "           0       0.97      1.00      0.98        28\n",
            "           1       1.00      0.92      0.96        13\n",
            "\n",
            "    accuracy                           0.98        41\n",
            "   macro avg       0.98      0.96      0.97        41\n",
            "weighted avg       0.98      0.98      0.98        41\n",
            "\n"
          ]
        },
        {
          "output_type": "stream",
          "name": "stderr",
          "text": [
            "/usr/local/lib/python3.9/dist-packages/sklearn/base.py:432: UserWarning: X has feature names, but GaussianNB was fitted without feature names\n",
            "  warnings.warn(\n",
            "/usr/local/lib/python3.9/dist-packages/sklearn/base.py:432: UserWarning: X has feature names, but GaussianNB was fitted without feature names\n",
            "  warnings.warn(\n",
            "/usr/local/lib/python3.9/dist-packages/sklearn/base.py:432: UserWarning: X has feature names, but GaussianNB was fitted without feature names\n",
            "  warnings.warn(\n"
          ]
        }
      ]
    },
    {
      "cell_type": "code",
      "source": [
        "Xtrain"
      ],
      "metadata": {
        "id": "HXHxfv-gPJMM",
        "colab": {
          "base_uri": "https://localhost:8080/",
          "height": 424
        },
        "outputId": "c8d40ce7-9b51-4f32-f5f1-855b58976fc9"
      },
      "execution_count": 46,
      "outputs": [
        {
          "output_type": "execute_result",
          "data": {
            "text/plain": [
              "     ingresos  hijos  trabajo  valor_a_financiar\n",
              "8        6251      0        3             240507\n",
              "81       4927      0        3             245460\n",
              "198      3961      3        8             258541\n",
              "80       3218      1        6             291817\n",
              "102      6332      0        3             609526\n",
              "..        ...    ...      ...                ...\n",
              "169      3641      3        7             245526\n",
              "194      2969      2        6             259542\n",
              "135      5514      0        0             330023\n",
              "17       6722      2        7             527691\n",
              "156      4714      0        1             320831\n",
              "\n",
              "[161 rows x 4 columns]"
            ],
            "text/html": [
              "\n",
              "  <div id=\"df-18e12e77-add4-4687-a9bd-e53ceda24a9c\">\n",
              "    <div class=\"colab-df-container\">\n",
              "      <div>\n",
              "<style scoped>\n",
              "    .dataframe tbody tr th:only-of-type {\n",
              "        vertical-align: middle;\n",
              "    }\n",
              "\n",
              "    .dataframe tbody tr th {\n",
              "        vertical-align: top;\n",
              "    }\n",
              "\n",
              "    .dataframe thead th {\n",
              "        text-align: right;\n",
              "    }\n",
              "</style>\n",
              "<table border=\"1\" class=\"dataframe\">\n",
              "  <thead>\n",
              "    <tr style=\"text-align: right;\">\n",
              "      <th></th>\n",
              "      <th>ingresos</th>\n",
              "      <th>hijos</th>\n",
              "      <th>trabajo</th>\n",
              "      <th>valor_a_financiar</th>\n",
              "    </tr>\n",
              "  </thead>\n",
              "  <tbody>\n",
              "    <tr>\n",
              "      <th>8</th>\n",
              "      <td>6251</td>\n",
              "      <td>0</td>\n",
              "      <td>3</td>\n",
              "      <td>240507</td>\n",
              "    </tr>\n",
              "    <tr>\n",
              "      <th>81</th>\n",
              "      <td>4927</td>\n",
              "      <td>0</td>\n",
              "      <td>3</td>\n",
              "      <td>245460</td>\n",
              "    </tr>\n",
              "    <tr>\n",
              "      <th>198</th>\n",
              "      <td>3961</td>\n",
              "      <td>3</td>\n",
              "      <td>8</td>\n",
              "      <td>258541</td>\n",
              "    </tr>\n",
              "    <tr>\n",
              "      <th>80</th>\n",
              "      <td>3218</td>\n",
              "      <td>1</td>\n",
              "      <td>6</td>\n",
              "      <td>291817</td>\n",
              "    </tr>\n",
              "    <tr>\n",
              "      <th>102</th>\n",
              "      <td>6332</td>\n",
              "      <td>0</td>\n",
              "      <td>3</td>\n",
              "      <td>609526</td>\n",
              "    </tr>\n",
              "    <tr>\n",
              "      <th>...</th>\n",
              "      <td>...</td>\n",
              "      <td>...</td>\n",
              "      <td>...</td>\n",
              "      <td>...</td>\n",
              "    </tr>\n",
              "    <tr>\n",
              "      <th>169</th>\n",
              "      <td>3641</td>\n",
              "      <td>3</td>\n",
              "      <td>7</td>\n",
              "      <td>245526</td>\n",
              "    </tr>\n",
              "    <tr>\n",
              "      <th>194</th>\n",
              "      <td>2969</td>\n",
              "      <td>2</td>\n",
              "      <td>6</td>\n",
              "      <td>259542</td>\n",
              "    </tr>\n",
              "    <tr>\n",
              "      <th>135</th>\n",
              "      <td>5514</td>\n",
              "      <td>0</td>\n",
              "      <td>0</td>\n",
              "      <td>330023</td>\n",
              "    </tr>\n",
              "    <tr>\n",
              "      <th>17</th>\n",
              "      <td>6722</td>\n",
              "      <td>2</td>\n",
              "      <td>7</td>\n",
              "      <td>527691</td>\n",
              "    </tr>\n",
              "    <tr>\n",
              "      <th>156</th>\n",
              "      <td>4714</td>\n",
              "      <td>0</td>\n",
              "      <td>1</td>\n",
              "      <td>320831</td>\n",
              "    </tr>\n",
              "  </tbody>\n",
              "</table>\n",
              "<p>161 rows × 4 columns</p>\n",
              "</div>\n",
              "      <button class=\"colab-df-convert\" onclick=\"convertToInteractive('df-18e12e77-add4-4687-a9bd-e53ceda24a9c')\"\n",
              "              title=\"Convert this dataframe to an interactive table.\"\n",
              "              style=\"display:none;\">\n",
              "        \n",
              "  <svg xmlns=\"http://www.w3.org/2000/svg\" height=\"24px\"viewBox=\"0 0 24 24\"\n",
              "       width=\"24px\">\n",
              "    <path d=\"M0 0h24v24H0V0z\" fill=\"none\"/>\n",
              "    <path d=\"M18.56 5.44l.94 2.06.94-2.06 2.06-.94-2.06-.94-.94-2.06-.94 2.06-2.06.94zm-11 1L8.5 8.5l.94-2.06 2.06-.94-2.06-.94L8.5 2.5l-.94 2.06-2.06.94zm10 10l.94 2.06.94-2.06 2.06-.94-2.06-.94-.94-2.06-.94 2.06-2.06.94z\"/><path d=\"M17.41 7.96l-1.37-1.37c-.4-.4-.92-.59-1.43-.59-.52 0-1.04.2-1.43.59L10.3 9.45l-7.72 7.72c-.78.78-.78 2.05 0 2.83L4 21.41c.39.39.9.59 1.41.59.51 0 1.02-.2 1.41-.59l7.78-7.78 2.81-2.81c.8-.78.8-2.07 0-2.86zM5.41 20L4 18.59l7.72-7.72 1.47 1.35L5.41 20z\"/>\n",
              "  </svg>\n",
              "      </button>\n",
              "      \n",
              "  <style>\n",
              "    .colab-df-container {\n",
              "      display:flex;\n",
              "      flex-wrap:wrap;\n",
              "      gap: 12px;\n",
              "    }\n",
              "\n",
              "    .colab-df-convert {\n",
              "      background-color: #E8F0FE;\n",
              "      border: none;\n",
              "      border-radius: 50%;\n",
              "      cursor: pointer;\n",
              "      display: none;\n",
              "      fill: #1967D2;\n",
              "      height: 32px;\n",
              "      padding: 0 0 0 0;\n",
              "      width: 32px;\n",
              "    }\n",
              "\n",
              "    .colab-df-convert:hover {\n",
              "      background-color: #E2EBFA;\n",
              "      box-shadow: 0px 1px 2px rgba(60, 64, 67, 0.3), 0px 1px 3px 1px rgba(60, 64, 67, 0.15);\n",
              "      fill: #174EA6;\n",
              "    }\n",
              "\n",
              "    [theme=dark] .colab-df-convert {\n",
              "      background-color: #3B4455;\n",
              "      fill: #D2E3FC;\n",
              "    }\n",
              "\n",
              "    [theme=dark] .colab-df-convert:hover {\n",
              "      background-color: #434B5C;\n",
              "      box-shadow: 0px 1px 3px 1px rgba(0, 0, 0, 0.15);\n",
              "      filter: drop-shadow(0px 1px 2px rgba(0, 0, 0, 0.3));\n",
              "      fill: #FFFFFF;\n",
              "    }\n",
              "  </style>\n",
              "\n",
              "      <script>\n",
              "        const buttonEl =\n",
              "          document.querySelector('#df-18e12e77-add4-4687-a9bd-e53ceda24a9c button.colab-df-convert');\n",
              "        buttonEl.style.display =\n",
              "          google.colab.kernel.accessAllowed ? 'block' : 'none';\n",
              "\n",
              "        async function convertToInteractive(key) {\n",
              "          const element = document.querySelector('#df-18e12e77-add4-4687-a9bd-e53ceda24a9c');\n",
              "          const dataTable =\n",
              "            await google.colab.kernel.invokeFunction('convertToInteractive',\n",
              "                                                     [key], {});\n",
              "          if (!dataTable) return;\n",
              "\n",
              "          const docLinkHtml = 'Like what you see? Visit the ' +\n",
              "            '<a target=\"_blank\" href=https://colab.research.google.com/notebooks/data_table.ipynb>data table notebook</a>'\n",
              "            + ' to learn more about interactive tables.';\n",
              "          element.innerHTML = '';\n",
              "          dataTable['output_type'] = 'display_data';\n",
              "          await google.colab.output.renderOutput(dataTable, element);\n",
              "          const docLink = document.createElement('div');\n",
              "          docLink.innerHTML = docLinkHtml;\n",
              "          element.appendChild(docLink);\n",
              "        }\n",
              "      </script>\n",
              "    </div>\n",
              "  </div>\n",
              "  "
            ]
          },
          "metadata": {},
          "execution_count": 46
        }
      ]
    },
    {
      "cell_type": "markdown",
      "source": [
        "#Curva roc"
      ],
      "metadata": {
        "id": "Nkg4-Qn1PYq1"
      }
    },
    {
      "cell_type": "code",
      "source": [
        "#Calcular varables de predicción solo clases postivias:\n",
        "\n",
        "prob_y_3 = gnb3.predict_proba(Xtrain)\n",
        "prob_y_3 = [p[1] for p in prob_y_3]\n",
        "prob_y_3"
      ],
      "metadata": {
        "id": "h3ucLRMvPlJP",
        "colab": {
          "base_uri": "https://localhost:8080/"
        },
        "outputId": "58c4c643-8267-46c5-bc75-5874d6bdeb8b"
      },
      "execution_count": 47,
      "outputs": [
        {
          "output_type": "stream",
          "name": "stderr",
          "text": [
            "/usr/local/lib/python3.9/dist-packages/sklearn/base.py:432: UserWarning: X has feature names, but GaussianNB was fitted without feature names\n",
            "  warnings.warn(\n"
          ]
        },
        {
          "output_type": "execute_result",
          "data": {
            "text/plain": [
              "[0.6612967787804093,\n",
              " 0.4402829232803739,\n",
              " 0.2880268922080644,\n",
              " 0.08593803336660662,\n",
              " 0.028776053969859727,\n",
              " 0.7729960731315862,\n",
              " 0.07492721178633126,\n",
              " 0.4123410672594006,\n",
              " 0.7589798588133972,\n",
              " 0.34137104114023464,\n",
              " 0.11532800879884557,\n",
              " 0.2323811874448267,\n",
              " 0.05834159941303842,\n",
              " 0.03420565419901873,\n",
              " 0.02450470683474164,\n",
              " 0.6433080526976894,\n",
              " 0.18439589575904605,\n",
              " 0.46627190682488817,\n",
              " 0.07092316784792199,\n",
              " 0.16085234295744139,\n",
              " 0.6119603038568503,\n",
              " 0.10734013881515726,\n",
              " 0.26615164717329515,\n",
              " 0.7607023432939176,\n",
              " 0.7586286693300109,\n",
              " 0.0099502911037981,\n",
              " 0.6045234472987167,\n",
              " 0.1132308250325891,\n",
              " 0.020972619523429912,\n",
              " 0.7343717327645688,\n",
              " 0.6589435934194141,\n",
              " 0.7429786852598057,\n",
              " 0.4813290752795667,\n",
              " 0.03653605820408873,\n",
              " 0.03515235954658461,\n",
              " 0.3615956499022882,\n",
              " 0.13027993100420454,\n",
              " 0.5069578479413144,\n",
              " 0.03455350944759809,\n",
              " 0.19023027193234263,\n",
              " 0.11242958753821428,\n",
              " 0.7661563895309258,\n",
              " 0.009499009661883941,\n",
              " 0.19450524672385783,\n",
              " 0.006529123540567975,\n",
              " 0.3912551394081601,\n",
              " 0.2602397301101503,\n",
              " 0.06434384764715716,\n",
              " 0.029841709523436188,\n",
              " 0.7114511508048416,\n",
              " 0.5548393606137735,\n",
              " 0.31566549955518525,\n",
              " 0.11554986301762321,\n",
              " 0.04773142379526289,\n",
              " 0.049785784057633904,\n",
              " 0.7981817743613444,\n",
              " 0.5436416025025717,\n",
              " 0.05117606557987926,\n",
              " 0.009745272009651368,\n",
              " 0.10174908020255623,\n",
              " 0.04082296389454292,\n",
              " 0.3076969539935282,\n",
              " 0.02839879376637542,\n",
              " 0.4674097321801846,\n",
              " 0.2204245531170273,\n",
              " 0.3407484830187389,\n",
              " 0.24779792804733608,\n",
              " 0.6873981165652568,\n",
              " 0.09998172463633266,\n",
              " 0.5860443679736119,\n",
              " 0.11556102294784724,\n",
              " 0.7654117669616938,\n",
              " 0.46438796666301335,\n",
              " 0.37629250962434024,\n",
              " 0.7542804669991903,\n",
              " 0.08563383515499647,\n",
              " 0.44262660142324295,\n",
              " 0.4219829049546885,\n",
              " 0.46698784886102046,\n",
              " 0.3032613320544155,\n",
              " 0.03192853855809714,\n",
              " 0.3939426805281211,\n",
              " 0.43308044727103606,\n",
              " 0.21736532538925865,\n",
              " 0.062353860331651,\n",
              " 0.578621191372032,\n",
              " 0.006378677148583719,\n",
              " 0.0866854101733369,\n",
              " 0.035786456989100934,\n",
              " 0.0769276278416402,\n",
              " 0.2051919891169666,\n",
              " 0.0055657379870679945,\n",
              " 0.2232799847692019,\n",
              " 0.15755233660722456,\n",
              " 0.21620307459811974,\n",
              " 0.18432475425130718,\n",
              " 0.6297790104085249,\n",
              " 0.29194315984601216,\n",
              " 0.6032405187928908,\n",
              " 0.15185892953693095,\n",
              " 0.6246835736235689,\n",
              " 0.1257409059131152,\n",
              " 0.06759444690247997,\n",
              " 0.35867127593711967,\n",
              " 0.08817450354361575,\n",
              " 0.2395099923849139,\n",
              " 0.6946112358193494,\n",
              " 0.4735412302586468,\n",
              " 0.04280328148426806,\n",
              " 0.01933968346467785,\n",
              " 0.5149938929542485,\n",
              " 0.07341079992355498,\n",
              " 0.7788368901395525,\n",
              " 0.48882675649575386,\n",
              " 0.09540881924763393,\n",
              " 0.4358280133858882,\n",
              " 0.028286722434042448,\n",
              " 0.00850476412173694,\n",
              " 0.25724126563945193,\n",
              " 0.3656429061883652,\n",
              " 0.34900384308044735,\n",
              " 0.00796868344323094,\n",
              " 0.1502679059388944,\n",
              " 0.7609876920252493,\n",
              " 0.02359604872498628,\n",
              " 0.30450073591713495,\n",
              " 0.08598829491482722,\n",
              " 0.6020302981908827,\n",
              " 0.24715259365560008,\n",
              " 0.04211227688380329,\n",
              " 0.15622803478860636,\n",
              " 0.1532843023466924,\n",
              " 0.07919103921404426,\n",
              " 0.01551705692807006,\n",
              " 0.4969345569945649,\n",
              " 0.2760470694611154,\n",
              " 0.012232300184175388,\n",
              " 0.3156410294284514,\n",
              " 0.12153604881715487,\n",
              " 0.051364134835385274,\n",
              " 0.00679380161522311,\n",
              " 0.04985667936155704,\n",
              " 0.11554381333198069,\n",
              " 0.008960615688846034,\n",
              " 0.5495083272256122,\n",
              " 0.7070810418117507,\n",
              " 0.50592517239453,\n",
              " 0.01460754166273823,\n",
              " 0.44157092057586456,\n",
              " 0.25319012049744155,\n",
              " 0.12748172059715757,\n",
              " 0.30018810042025407,\n",
              " 0.5291353051251175,\n",
              " 0.4309898100308326,\n",
              " 0.608746493388771,\n",
              " 0.0038241665180325634,\n",
              " 0.1902737932095197,\n",
              " 0.061550039377481346,\n",
              " 0.43734816848911756,\n",
              " 0.2119576230508823,\n",
              " 0.3053902529725266]"
            ]
          },
          "metadata": {},
          "execution_count": 47
        }
      ]
    },
    {
      "cell_type": "code",
      "source": [
        "#Calcular el area bajo la Curva roc\n",
        "roc_auc_score(ytrain, prob_y_3)"
      ],
      "metadata": {
        "colab": {
          "base_uri": "https://localhost:8080/"
        },
        "id": "JqJyB-tZQaxO",
        "outputId": "14ef5911-c068-427e-f438-0ce4108af216"
      },
      "execution_count": 48,
      "outputs": [
        {
          "output_type": "execute_result",
          "data": {
            "text/plain": [
              "0.9451367255105573"
            ]
          },
          "metadata": {},
          "execution_count": 48
        }
      ]
    },
    {
      "cell_type": "code",
      "source": [
        "#Nota: Guardar el modelo en un archivo, para entregarse a un programador para que haga una aplicación\n",
        "#Me gane mi primer millon!!!!"
      ],
      "metadata": {
        "id": "m5RZDnGgR8m-"
      },
      "execution_count": 54,
      "outputs": []
    },
    {
      "cell_type": "code",
      "source": [
        "!pip install joblib"
      ],
      "metadata": {
        "id": "gMJGT7d8S2m2",
        "colab": {
          "base_uri": "https://localhost:8080/"
        },
        "outputId": "ce35d277-3268-4890-8143-d06f349c127e"
      },
      "execution_count": 51,
      "outputs": [
        {
          "output_type": "stream",
          "name": "stdout",
          "text": [
            "Looking in indexes: https://pypi.org/simple, https://us-python.pkg.dev/colab-wheels/public/simple/\n",
            "Requirement already satisfied: joblib in /usr/local/lib/python3.9/dist-packages (1.2.0)\n"
          ]
        }
      ]
    },
    {
      "cell_type": "code",
      "source": [
        "joblib.dump(gnb3, 'modelo_GNB_Vivienda.pkl') # Guardo el modelo."
      ],
      "metadata": {
        "id": "VR8O3i_STITe",
        "colab": {
          "base_uri": "https://localhost:8080/"
        },
        "outputId": "967019c7-9575-44eb-ba32-dbe3a90ff530"
      },
      "execution_count": 53,
      "outputs": [
        {
          "output_type": "execute_result",
          "data": {
            "text/plain": [
              "['modelo_GNB_Vivienda.pkl']"
            ]
          },
          "metadata": {},
          "execution_count": 53
        }
      ]
    }
  ]
}