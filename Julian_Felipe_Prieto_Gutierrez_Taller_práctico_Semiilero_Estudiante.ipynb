{
  "nbformat": 4,
  "nbformat_minor": 0,
  "metadata": {
    "colab": {
      "provenance": [],
      "include_colab_link": true
    },
    "kernelspec": {
      "name": "python3",
      "display_name": "Python 3"
    },
    "language_info": {
      "name": "python"
    }
  },
  "cells": [
    {
      "cell_type": "markdown",
      "metadata": {
        "id": "view-in-github",
        "colab_type": "text"
      },
      "source": [
        "<a href=\"https://colab.research.google.com/github/PythonJulianPrieto/CienciaDeDatos/blob/main/Julian_Felipe_Prieto_Gutierrez_Taller_pr%C3%A1ctico_Semiilero_Estudiante.ipynb\" target=\"_parent\"><img src=\"https://colab.research.google.com/assets/colab-badge.svg\" alt=\"Open In Colab\"/></a>"
      ]
    },
    {
      "cell_type": "markdown",
      "source": [
        "#TALLER EVALUATIVO:\n",
        "\n",
        "###<font color=blue>**Churn: El costo por el abandono de clientes**</font>\n",
        "</p>\n",
        "\n",
        "![Churn](https://www.diplomadosonline.com/wp-content/uploads/2020/09/customer-churn-imagen.jpeg)\n",
        "\n",
        "\n",
        "El “Churn” es un concepto en el que se empezado a profundizar gracias al e-commerce. Como en cualquier negocio donde los costos de captación son elevados y el margen del producto o servicio pequeño, la única forma de obtener rentabilidad es en base al consumo recurrente de nuestro producto o servicio.\n",
        "\n",
        "Por tanto, conseguir evitar el ***“churn”***, o evitar el abandono de clientes se convierte no solo en una forma de mejorar la rentabilidad del negocio, sino simple y llanamente en cuestión de supervivencia.\n",
        "\n",
        "Pero, ¿cómo prevenir el churn? Evidentemente dando un servicio excepcional al mejor precio. Pero si aparecen nuevos competidores que ofrecen un producto o servicio similar al mejor precio, ¿puedo hacer algo para evitar que se marchen mis clientes? Siempre podemos hacer algo, lanzar una promoción de permanencia, ofrecer un servicio extra.\n",
        "\n",
        "La predicción de churn es uno de los usos de big data y de la inteligencia atifical que se ha vuelto ma popular en los negocios de las startups, ya que permite detectar a los usuarios con mayores probabilidades de dar de baja una suscripción o un servicio. \n",
        "\n",
        "Se nos entregan los datos que surgen de la recolección de bases de datos  de los sistemas de información de la empresa. Contiene 12 columnas que \"se cree\" que nos permitan dterminar si un afiliado se <font color=red>retira o termina la subscripción</font>\n",
        "\n",
        "Los datos son histórícos pero la empresa no nos permite conocer los nombres de las columnas desde el departamentos de seguridad de la información. por esta razón vamos a a analizarlos teniendo en cuenta su capacidad de explicar o predecir la deserción ochurn de una cliente.\n",
        "\n",
        "\n",
        "##<font color=green> Objetivo del proyecto: </font></p>\n",
        "\n",
        "Desarrollar un modelo de Churn de clientes usando técnicas de Machine Learning que permita, de manera proactiva, predecir el abandono de clientes.\n",
        "\n",
        "###<font color=green> Objetivos specificos </font></p>\n",
        "\n",
        "1. Preparar los datos recibidos antes de realizar el algortimo de predcción.\n",
        "2. Desarrollar 4 Algoritmos de predicción (Näive Bayes, Bosques Aleatorios, SVC y KNN.\n",
        "3. Con los resutados de la evluación de la predicciones de los datos de prueba (X_test) seleccionar el algoritmo que mejor \"***Exactitud o Accuracy***\"\n",
        "\n",
        "***Todo el taller es guiado y por lo tanto además de evaluar sirve de material de estudio ya que está organizado de la misma manera que se abordan los proyectos de ML.***"
      ],
      "metadata": {
        "id": "5EoPILxEDdc_"
      }
    },
    {
      "cell_type": "markdown",
      "source": [
        "<font color=blue>**Instrucciones**</font>\n",
        "\n",
        "\n",
        "Siga las siguientes instrucciones\n",
        "\n",
        "1. Abrir el taller en el siguiente enlace: [Taller Google Colab](https://colab.research.google.com/drive/1NE7qFSeHtTQAndELz5acuwjt01cO1bOt?usp=sharing).\n",
        "Solamente para los que no tienen acceso a **google colab** se les enviará el archivo ipnb para que lo carguen en el libro de **jupyter notebook**.\n",
        "\n",
        "2. Realice una copia del taller de google Colab y luego cambie el nombre de la siguiente manera:\n",
        "\n",
        " \n",
        "\n",
        "> <font color=green>***Copia Taller práctico Semiilero.ipynb*** </font> a  <font color=green>\n",
        ">***Nombre_Completo.ipynb***</font>\n",
        "\n",
        "3. Complete las operaciones planteadas usando python en  cada linéa de código o texto. Generalmente se sugieren los nombres de las variables para guiar el taller y para facilitar la revisión y calificación.\n",
        "Encontrara muchas sentencias ya completas y otras que solicitamos ejecutar para automatizar la calificación.\n",
        "\n",
        "En el código encontrará tambien algunas funciones que hemos prediseñada para calificar. **(def)**\n",
        "\n",
        "***NO MODIFIQUE LA ESTRUCTURA DEL TALLER NI AGREGUE LINEAS DE CODIGO O MODIFIQUE LOS NOMBRES DE LAS VARIABLES O DE LOS OBJETOS SI NO SE LE INDICA ALGO EN CONTRARIO.***\n",
        "\n",
        "\n",
        "4. Tienes 3 horas para responder el taller.\n",
        "\n",
        "5. Una vez termine comparte el archivo de Google Colab con los permisos para ver sus respuestas y envia el enlace a: alfredoa.diazc@gmail.com\n",
        "\n",
        "Las estapas de este proyecto son:\n",
        "\n",
        "PARTE 1.\n",
        "\n",
        "1. Instalar las bibliotecas que necesitará en este taller <font color=red> \"!pip install ***bibliotecas***\" </font>\n",
        "La mayoria de ellas ya están instaladas en Google Colab.\n",
        "\n",
        "2. Importar el conjunto de librerias necesarias \n",
        " del conjunto de datos en nuestro script de Python\n",
        "\n",
        "3. Realizar la importación de los datos a un DataFrame\n",
        "\n",
        "4. Realizar las operaciones de Prepocesamiento\n",
        "\n",
        "5. Estandarización del conjunto de datos\n",
        "\n",
        "6. Dividir el conjunto de datos en datos de entrenamiento y datos de prueba\n",
        "\n",
        "PARTE 2. \n",
        "\n",
        "1. Entrenamiento de un modelo Näive Bayes\n",
        "2. Hacer predicciones con el algortimo usando los datos de prueba (X_test)\n",
        "3. Medición de la precisión de nuestro modelo\n",
        "\n",
        "PARTE 3. \n",
        "\n",
        "1. Entrenamiento de un modelo Bosque Aleatorio \n",
        "2. Hacer predicciones con el algortimo usando los datos de prueba (X_test)\n",
        "3. Medición de la precisión de nuestro modelo\n",
        "\n",
        "PARTE 4. \n",
        "\n",
        "1. Entrenamiento de un modelo SVC  \n",
        "2. Hacer predicciones con el algortimo usando los datos de prueba (X_test)\n",
        "3. Medición de la precisión de nuestro modelo\n",
        "\n",
        "PARTE 5. \n",
        "1. Entrenamiento de un modelo KNN \n",
        "2. Hacer predicciones con el algortimo usando los datos de prueba (X_test)\n",
        "3. Medición de la precisión de nuestro modelo\n",
        "\n",
        "PARTE FINAL\n",
        "\n",
        "1. Comparar los modelos y determinar las razones para escoger el modelo seleccionado\n",
        "2. Salvar el modelo seleccionado\n"
      ],
      "metadata": {
        "id": "ixXUCm4Hj257"
      }
    },
    {
      "cell_type": "markdown",
      "source": [
        "  ## <font color=blue>**PARTE 1**</font>"
      ],
      "metadata": {
        "id": "gZuUfDtStmrx"
      }
    },
    {
      "cell_type": "markdown",
      "source": [
        "1. Instalar las bibliotecas que necesitará en este taller \"!pip install bibliotecas\" La mayoria de ellas ya están instaladas en Google Colab."
      ],
      "metadata": {
        "id": "q8Jm93OGujyw"
      }
    },
    {
      "cell_type": "code",
      "source": [
        "#Puede descomentar las librerías que no tenga instaladas\n",
        "#de lo contrario no debes hacer nada aqui\n",
        "#!pip install sklearn\n",
        "#!pip install seaborn\n",
        "#!pip install matpoltlib\n",
        "!pip install colorama\n",
        "!pip install joblib"
      ],
      "metadata": {
        "id": "5EDglTpBtloJ",
        "colab": {
          "base_uri": "https://localhost:8080/"
        },
        "outputId": "b8363b98-09b7-4831-a496-fbab5661e54d"
      },
      "execution_count": null,
      "outputs": [
        {
          "output_type": "stream",
          "name": "stdout",
          "text": [
            "Looking in indexes: https://pypi.org/simple, https://us-python.pkg.dev/colab-wheels/public/simple/\n",
            "Collecting colorama\n",
            "  Downloading colorama-0.4.6-py2.py3-none-any.whl (25 kB)\n",
            "Installing collected packages: colorama\n",
            "Successfully installed colorama-0.4.6\n",
            "Looking in indexes: https://pypi.org/simple, https://us-python.pkg.dev/colab-wheels/public/simple/\n",
            "Requirement already satisfied: joblib in /usr/local/lib/python3.9/dist-packages (1.2.0)\n"
          ]
        }
      ]
    },
    {
      "cell_type": "markdown",
      "source": [
        "2. Importar el conjunto de librerias necesarias del conjunto de datos en nuestro script de Python.\n",
        "***importe las librerias generales de pandas, numpy, matplotlib, seaborn***"
      ],
      "metadata": {
        "id": "fAKxCyUqvMqj"
      }
    },
    {
      "cell_type": "code",
      "source": [
        "## Respuesta\n",
        "\n",
        "# librerias genericas de pandas, numpy\n",
        "#______________________________\n",
        "#_______________________________\n",
        "import pandas as pd\n",
        "import numpy as np\n",
        "import joblib\n",
        "\n",
        "\n",
        "# librerías de gráficos\n",
        "import matplotlib.pyplot as plt\n",
        "from matplotlib import colors\n",
        "import seaborn as sb\n",
        "%matplotlib inline\n",
        "\n",
        "# No debes hacer nada aqui\n",
        "import matplotlib.pyplot as plt\n",
        "from matplotlib import colors\n",
        "import seaborn as sb\n",
        "%matplotlib inline\n",
        "plt.rcParams['figure.figsize'] = (16, 9)\n",
        "plt.style.use('ggplot')\n"
      ],
      "metadata": {
        "id": "Y4V034cXvVNL"
      },
      "execution_count": null,
      "outputs": []
    },
    {
      "cell_type": "markdown",
      "source": [
        "***importe las librerias a usar para cada modelo***\n",
        "Näive Bayes, Bosque Aleatorio, SVC y KNN"
      ],
      "metadata": {
        "id": "P4whxaoGwGK2"
      }
    },
    {
      "cell_type": "code",
      "source": [
        "#Responda solo los espacion vacios\n",
        "\n",
        "#Modelo de Naive Bayes\n",
        "#from __________ import ____________  \n",
        "from sklearn.naive_bayes import GaussianNB ##MODELO \n",
        "\n",
        "# Bosques aleatorios (Como no vimos este tema ya tiene la libreria aqui no midificar)\n",
        "from sklearn.ensemble import RandomForestClassifier \n",
        "\n",
        "# KNN\n",
        "#from ________________ import ________________\n",
        "from sklearn.neighbors import KNeighborsClassifier##MODELO \n",
        "\n",
        "# SVC  (No modificar)\n",
        "from sklearn.svm import SVC"
      ],
      "metadata": {
        "id": "0S4tCA3VwQ7P"
      },
      "execution_count": null,
      "outputs": []
    },
    {
      "cell_type": "markdown",
      "source": [
        "***importe las librerias de evaluación del modelo de clasificación***\n",
        "- Matriz de confusion \n",
        "- Resporte de Clasificación\n",
        "- metricas\n",
        "- Accuracy\n",
        "- Curva Roc"
      ],
      "metadata": {
        "id": "LsCuutvyybbL"
      }
    },
    {
      "cell_type": "code",
      "source": [
        "# No modificar, no debe hacer nada,solo ejecute la linea de código\n",
        "from sklearn.metrics import confusion_matrix\n",
        "from sklearn.metrics import classification_report\n",
        "from sklearn import metrics\n",
        "from sklearn.metrics import accuracy_score\n",
        "from sklearn.metrics import roc_auc_score"
      ],
      "metadata": {
        "id": "ewN0lKfjwP-U"
      },
      "execution_count": null,
      "outputs": []
    },
    {
      "cell_type": "markdown",
      "source": [
        "Importar la libería de scikitlearn para normalizar, dividir los datos de entrenamiento y prueba\n",
        "\n",
        "from sklearn.model_selection import train_test_split "
      ],
      "metadata": {
        "id": "ZkbP7yxNzQrL"
      }
    },
    {
      "cell_type": "code",
      "source": [
        "# Respuesta \n",
        "# importar train_test_split\n",
        "#______________________________________\n",
        "from sklearn.model_selection import train_test_split ##Separa la data de entrenamiento y datos de validacion\n",
        "\n",
        "#importar la herramienta de normalización MinMaxScaler\n",
        "#_____________________________________\n",
        "from sklearn.preprocessing import MinMaxScaler\n",
        "\n",
        "\n",
        "#Guardar el modelo (No modificar)\n",
        "import joblib"
      ],
      "metadata": {
        "id": "PyS6rK-AzokU"
      },
      "execution_count": null,
      "outputs": []
    },
    {
      "cell_type": "markdown",
      "source": [
        "3. Realizar la importación de los datos a un DataFrame de este enlace:\n",
        "https://raw.githubusercontent.com/adiacla/bigdata/master/DatosEmpresaChurn.csv\n"
      ],
      "metadata": {
        "id": "SdTf0WOb0XeA"
      }
    },
    {
      "cell_type": "code",
      "source": [
        "# Respuesta\n",
        "# ________________________________________________\n",
        "df = pd.read_csv('https://raw.githubusercontent.com/adiacla/bigdata/master/DatosEmpresaChurn.csv')\n",
        "df.head()\n",
        "\n",
        "#Nota: El 'TARGET CLASS' es la columna Etiquetada es decir la variable objetivo."
      ],
      "metadata": {
        "id": "EjJbj9Ig1E7I",
        "colab": {
          "base_uri": "https://localhost:8080/",
          "height": 206
        },
        "outputId": "b1333464-f8e7-43f0-cf2e-f9b41e7e883f"
      },
      "execution_count": null,
      "outputs": [
        {
          "output_type": "execute_result",
          "data": {
            "text/plain": [
              "   Unnamed: 0      ANTIG   COMP  PROM    CATEG  COMINT  COMPPRES      RATE  \\\n",
              "0           0   9.139173  11621  2.84  5810.36   26441     43381  0.881519   \n",
              "1           1   6.356319  10037  2.68  5018.61   28898     51339  1.621126   \n",
              "2           2   7.213598  12015  4.61      NaN   29946     84812  1.801952   \n",
              "3           3  12.342044  13867  3.27      NaN   28897     63472  2.187820   \n",
              "4           4  12.794908   9497  3.14      NaN   23414     68474  1.759319   \n",
              "\n",
              "   VISIT  DIASSINQ   TASARET      NUMQ      RETRE  TARGET CLASS  \n",
              "0    7.0       644  0.879422  6.157047  17.729996             1  \n",
              "1   54.0      1014  0.621552  7.463508  12.458385             0  \n",
              "2    NaN      1154  0.957877  6.427984  13.994380             0  \n",
              "3    NaN      1380  1.522692  5.765465  24.684088             1  \n",
              "4    NaN       647  1.463812  7.095833  24.310326             1  "
            ],
            "text/html": [
              "\n",
              "  <div id=\"df-0dc712f7-62ee-44cb-a463-4713000c2494\">\n",
              "    <div class=\"colab-df-container\">\n",
              "      <div>\n",
              "<style scoped>\n",
              "    .dataframe tbody tr th:only-of-type {\n",
              "        vertical-align: middle;\n",
              "    }\n",
              "\n",
              "    .dataframe tbody tr th {\n",
              "        vertical-align: top;\n",
              "    }\n",
              "\n",
              "    .dataframe thead th {\n",
              "        text-align: right;\n",
              "    }\n",
              "</style>\n",
              "<table border=\"1\" class=\"dataframe\">\n",
              "  <thead>\n",
              "    <tr style=\"text-align: right;\">\n",
              "      <th></th>\n",
              "      <th>Unnamed: 0</th>\n",
              "      <th>ANTIG</th>\n",
              "      <th>COMP</th>\n",
              "      <th>PROM</th>\n",
              "      <th>CATEG</th>\n",
              "      <th>COMINT</th>\n",
              "      <th>COMPPRES</th>\n",
              "      <th>RATE</th>\n",
              "      <th>VISIT</th>\n",
              "      <th>DIASSINQ</th>\n",
              "      <th>TASARET</th>\n",
              "      <th>NUMQ</th>\n",
              "      <th>RETRE</th>\n",
              "      <th>TARGET CLASS</th>\n",
              "    </tr>\n",
              "  </thead>\n",
              "  <tbody>\n",
              "    <tr>\n",
              "      <th>0</th>\n",
              "      <td>0</td>\n",
              "      <td>9.139173</td>\n",
              "      <td>11621</td>\n",
              "      <td>2.84</td>\n",
              "      <td>5810.36</td>\n",
              "      <td>26441</td>\n",
              "      <td>43381</td>\n",
              "      <td>0.881519</td>\n",
              "      <td>7.0</td>\n",
              "      <td>644</td>\n",
              "      <td>0.879422</td>\n",
              "      <td>6.157047</td>\n",
              "      <td>17.729996</td>\n",
              "      <td>1</td>\n",
              "    </tr>\n",
              "    <tr>\n",
              "      <th>1</th>\n",
              "      <td>1</td>\n",
              "      <td>6.356319</td>\n",
              "      <td>10037</td>\n",
              "      <td>2.68</td>\n",
              "      <td>5018.61</td>\n",
              "      <td>28898</td>\n",
              "      <td>51339</td>\n",
              "      <td>1.621126</td>\n",
              "      <td>54.0</td>\n",
              "      <td>1014</td>\n",
              "      <td>0.621552</td>\n",
              "      <td>7.463508</td>\n",
              "      <td>12.458385</td>\n",
              "      <td>0</td>\n",
              "    </tr>\n",
              "    <tr>\n",
              "      <th>2</th>\n",
              "      <td>2</td>\n",
              "      <td>7.213598</td>\n",
              "      <td>12015</td>\n",
              "      <td>4.61</td>\n",
              "      <td>NaN</td>\n",
              "      <td>29946</td>\n",
              "      <td>84812</td>\n",
              "      <td>1.801952</td>\n",
              "      <td>NaN</td>\n",
              "      <td>1154</td>\n",
              "      <td>0.957877</td>\n",
              "      <td>6.427984</td>\n",
              "      <td>13.994380</td>\n",
              "      <td>0</td>\n",
              "    </tr>\n",
              "    <tr>\n",
              "      <th>3</th>\n",
              "      <td>3</td>\n",
              "      <td>12.342044</td>\n",
              "      <td>13867</td>\n",
              "      <td>3.27</td>\n",
              "      <td>NaN</td>\n",
              "      <td>28897</td>\n",
              "      <td>63472</td>\n",
              "      <td>2.187820</td>\n",
              "      <td>NaN</td>\n",
              "      <td>1380</td>\n",
              "      <td>1.522692</td>\n",
              "      <td>5.765465</td>\n",
              "      <td>24.684088</td>\n",
              "      <td>1</td>\n",
              "    </tr>\n",
              "    <tr>\n",
              "      <th>4</th>\n",
              "      <td>4</td>\n",
              "      <td>12.794908</td>\n",
              "      <td>9497</td>\n",
              "      <td>3.14</td>\n",
              "      <td>NaN</td>\n",
              "      <td>23414</td>\n",
              "      <td>68474</td>\n",
              "      <td>1.759319</td>\n",
              "      <td>NaN</td>\n",
              "      <td>647</td>\n",
              "      <td>1.463812</td>\n",
              "      <td>7.095833</td>\n",
              "      <td>24.310326</td>\n",
              "      <td>1</td>\n",
              "    </tr>\n",
              "  </tbody>\n",
              "</table>\n",
              "</div>\n",
              "      <button class=\"colab-df-convert\" onclick=\"convertToInteractive('df-0dc712f7-62ee-44cb-a463-4713000c2494')\"\n",
              "              title=\"Convert this dataframe to an interactive table.\"\n",
              "              style=\"display:none;\">\n",
              "        \n",
              "  <svg xmlns=\"http://www.w3.org/2000/svg\" height=\"24px\"viewBox=\"0 0 24 24\"\n",
              "       width=\"24px\">\n",
              "    <path d=\"M0 0h24v24H0V0z\" fill=\"none\"/>\n",
              "    <path d=\"M18.56 5.44l.94 2.06.94-2.06 2.06-.94-2.06-.94-.94-2.06-.94 2.06-2.06.94zm-11 1L8.5 8.5l.94-2.06 2.06-.94-2.06-.94L8.5 2.5l-.94 2.06-2.06.94zm10 10l.94 2.06.94-2.06 2.06-.94-2.06-.94-.94-2.06-.94 2.06-2.06.94z\"/><path d=\"M17.41 7.96l-1.37-1.37c-.4-.4-.92-.59-1.43-.59-.52 0-1.04.2-1.43.59L10.3 9.45l-7.72 7.72c-.78.78-.78 2.05 0 2.83L4 21.41c.39.39.9.59 1.41.59.51 0 1.02-.2 1.41-.59l7.78-7.78 2.81-2.81c.8-.78.8-2.07 0-2.86zM5.41 20L4 18.59l7.72-7.72 1.47 1.35L5.41 20z\"/>\n",
              "  </svg>\n",
              "      </button>\n",
              "      \n",
              "  <style>\n",
              "    .colab-df-container {\n",
              "      display:flex;\n",
              "      flex-wrap:wrap;\n",
              "      gap: 12px;\n",
              "    }\n",
              "\n",
              "    .colab-df-convert {\n",
              "      background-color: #E8F0FE;\n",
              "      border: none;\n",
              "      border-radius: 50%;\n",
              "      cursor: pointer;\n",
              "      display: none;\n",
              "      fill: #1967D2;\n",
              "      height: 32px;\n",
              "      padding: 0 0 0 0;\n",
              "      width: 32px;\n",
              "    }\n",
              "\n",
              "    .colab-df-convert:hover {\n",
              "      background-color: #E2EBFA;\n",
              "      box-shadow: 0px 1px 2px rgba(60, 64, 67, 0.3), 0px 1px 3px 1px rgba(60, 64, 67, 0.15);\n",
              "      fill: #174EA6;\n",
              "    }\n",
              "\n",
              "    [theme=dark] .colab-df-convert {\n",
              "      background-color: #3B4455;\n",
              "      fill: #D2E3FC;\n",
              "    }\n",
              "\n",
              "    [theme=dark] .colab-df-convert:hover {\n",
              "      background-color: #434B5C;\n",
              "      box-shadow: 0px 1px 3px 1px rgba(0, 0, 0, 0.15);\n",
              "      filter: drop-shadow(0px 1px 2px rgba(0, 0, 0, 0.3));\n",
              "      fill: #FFFFFF;\n",
              "    }\n",
              "  </style>\n",
              "\n",
              "      <script>\n",
              "        const buttonEl =\n",
              "          document.querySelector('#df-0dc712f7-62ee-44cb-a463-4713000c2494 button.colab-df-convert');\n",
              "        buttonEl.style.display =\n",
              "          google.colab.kernel.accessAllowed ? 'block' : 'none';\n",
              "\n",
              "        async function convertToInteractive(key) {\n",
              "          const element = document.querySelector('#df-0dc712f7-62ee-44cb-a463-4713000c2494');\n",
              "          const dataTable =\n",
              "            await google.colab.kernel.invokeFunction('convertToInteractive',\n",
              "                                                     [key], {});\n",
              "          if (!dataTable) return;\n",
              "\n",
              "          const docLinkHtml = 'Like what you see? Visit the ' +\n",
              "            '<a target=\"_blank\" href=https://colab.research.google.com/notebooks/data_table.ipynb>data table notebook</a>'\n",
              "            + ' to learn more about interactive tables.';\n",
              "          element.innerHTML = '';\n",
              "          dataTable['output_type'] = 'display_data';\n",
              "          await google.colab.output.renderOutput(dataTable, element);\n",
              "          const docLink = document.createElement('div');\n",
              "          docLink.innerHTML = docLinkHtml;\n",
              "          element.appendChild(docLink);\n",
              "        }\n",
              "      </script>\n",
              "    </div>\n",
              "  </div>\n",
              "  "
            ]
          },
          "metadata": {},
          "execution_count": 6
        }
      ]
    },
    {
      "cell_type": "code",
      "source": [
        "#Observe que la primera columna No tiene nombre porque es un índice que fué cargado y es igual al indice del DataFrame nuevo.\n",
        "#así que tiene que quitar esa Columna o Caracteristica.\n",
        "# la columna se llama 'Unnamed: 0'\n",
        "df=df.drop('Unnamed: 0',axis=1)\n",
        "\n",
        "\n",
        "#Ahora revise las columnas que quedaron\n",
        "df.columns"
      ],
      "metadata": {
        "id": "E6LDU3DSX8yJ",
        "colab": {
          "base_uri": "https://localhost:8080/"
        },
        "outputId": "621536df-9d82-4b92-be04-7ac397ef3a5c"
      },
      "execution_count": null,
      "outputs": [
        {
          "output_type": "execute_result",
          "data": {
            "text/plain": [
              "Index(['ANTIG', 'COMP', 'PROM', 'CATEG', 'COMINT', 'COMPPRES', 'RATE', 'VISIT',\n",
              "       'DIASSINQ', 'TASARET', 'NUMQ', 'RETRE', 'TARGET CLASS'],\n",
              "      dtype='object')"
            ]
          },
          "metadata": {},
          "execution_count": 7
        }
      ]
    },
    {
      "cell_type": "markdown",
      "source": [
        "4. Realizar las operaciones de Prepocesamiento"
      ],
      "metadata": {
        "id": "0tUxdOmO1g_a"
      }
    },
    {
      "cell_type": "code",
      "source": [
        "# Revise el tipo de datos de cada uno de los features (caractertísticas). A todos los modelos para hacerlos comparables, \n",
        "#vamos requerir que todos sean  numéricos\n",
        "# Respuesta\n",
        "df.info()\n"
      ],
      "metadata": {
        "id": "1leSA_gDSe3F",
        "colab": {
          "base_uri": "https://localhost:8080/"
        },
        "outputId": "6012ed6f-a33f-4662-cc31-433b783cb1a1"
      },
      "execution_count": null,
      "outputs": [
        {
          "output_type": "stream",
          "name": "stdout",
          "text": [
            "<class 'pandas.core.frame.DataFrame'>\n",
            "RangeIndex: 991 entries, 0 to 990\n",
            "Data columns (total 13 columns):\n",
            " #   Column        Non-Null Count  Dtype  \n",
            "---  ------        --------------  -----  \n",
            " 0   ANTIG         991 non-null    float64\n",
            " 1   COMP          991 non-null    int64  \n",
            " 2   PROM          991 non-null    float64\n",
            " 3   CATEG         664 non-null    float64\n",
            " 4   COMINT        991 non-null    int64  \n",
            " 5   COMPPRES      991 non-null    int64  \n",
            " 6   RATE          991 non-null    float64\n",
            " 7   VISIT         576 non-null    float64\n",
            " 8   DIASSINQ      991 non-null    int64  \n",
            " 9   TASARET       991 non-null    float64\n",
            " 10  NUMQ          991 non-null    float64\n",
            " 11  RETRE         991 non-null    float64\n",
            " 12  TARGET CLASS  991 non-null    int64  \n",
            "dtypes: float64(8), int64(5)\n",
            "memory usage: 100.8 KB\n"
          ]
        }
      ]
    },
    {
      "cell_type": "markdown",
      "source": [
        "Escriba aqui si la data cumple con la condición de que sean numéricos </p>\n",
        "***Respuesta***:\n"
      ],
      "metadata": {
        "id": "TH9fG-j5TmV-"
      }
    },
    {
      "cell_type": "code",
      "source": [
        "# Analizar si la etiqueta está balanceada o no, de la siguiente manera {'0: Afiliado', '1:Se retiró'}, \n",
        "#es decir si tiene la etiqueta CERO es porque se mantiene como afiliado y UNO si se retiró.\n",
        "\n",
        "df.groupby('TARGET CLASS').size()\n"
      ],
      "metadata": {
        "id": "rslE0nVs1ozn",
        "colab": {
          "base_uri": "https://localhost:8080/"
        },
        "outputId": "3fa66a90-b26e-4d13-ce5c-a97fec6b4ae7"
      },
      "execution_count": null,
      "outputs": [
        {
          "output_type": "execute_result",
          "data": {
            "text/plain": [
              "TARGET CLASS\n",
              "0    498\n",
              "1    493\n",
              "dtype: int64"
            ]
          },
          "metadata": {},
          "execution_count": 9
        }
      ]
    },
    {
      "cell_type": "markdown",
      "source": [
        "Escriba aqui la conclusion de la columna etiquetada en cuenta al balanceo:\n",
        "\n",
        "***Respuesta***: </p>\n",
        "Balanceado ya que la diferencia de datos no es muy grande </p>"
      ],
      "metadata": {
        "id": "bz7ChWAU19ga"
      }
    },
    {
      "cell_type": "code",
      "source": [
        "#Analicemos cuántos samples o rows tiene el dataset\n",
        "#Escriba lo que falta para determinar cuántes filas tiene df\n",
        "totalreg= len(df.index)\n",
        "print(f\"El DataFrame tiene inicialmente {totalreg} registros\")"
      ],
      "metadata": {
        "id": "YPAnB8GAT3hs",
        "colab": {
          "base_uri": "https://localhost:8080/"
        },
        "outputId": "80b3efe8-41bb-4700-9ab4-6a907924f3b3"
      },
      "execution_count": null,
      "outputs": [
        {
          "output_type": "stream",
          "name": "stdout",
          "text": [
            "El DataFrame tiene inicialmente 991 registros\n"
          ]
        }
      ]
    },
    {
      "cell_type": "markdown",
      "source": [
        "Analicemos si el dataset tiene nulos y tomemos decisiones sobre el mismo."
      ],
      "metadata": {
        "id": "81chxNrCRlDf"
      }
    },
    {
      "cell_type": "code",
      "source": [
        "#Respuesta\n",
        "\n",
        "Cantidadnulos=df.isnull().sum()\n",
        "print(\"Nulos que tiene el dataframe\", Cantidadnulos)\n"
      ],
      "metadata": {
        "id": "bg1V1l2QSGw6",
        "colab": {
          "base_uri": "https://localhost:8080/"
        },
        "outputId": "a1056fd8-7f3f-4579-fec2-51572c115285"
      },
      "execution_count": null,
      "outputs": [
        {
          "output_type": "stream",
          "name": "stdout",
          "text": [
            "Nulos que tiene el dataframe ANTIG             0\n",
            "COMP              0\n",
            "PROM              0\n",
            "CATEG           327\n",
            "COMINT            0\n",
            "COMPPRES          0\n",
            "RATE              0\n",
            "VISIT           415\n",
            "DIASSINQ          0\n",
            "TASARET           0\n",
            "NUMQ              0\n",
            "RETRE             0\n",
            "TARGET CLASS      0\n",
            "dtype: int64\n"
          ]
        }
      ]
    },
    {
      "cell_type": "markdown",
      "source": [
        "Tratamiento de los nulos\n",
        "\n",
        "La empresa que nos contrato no da el siguiente lineamiento:\n",
        "1. El feature CATEG, no se pueden recuperar y por lo tanto se recomineda borrar la columna.\n",
        "2. El feacture VISIT nos informan que podemos imputarle la media. "
      ],
      "metadata": {
        "id": "BwrqNnMsWA3W"
      }
    },
    {
      "cell_type": "code",
      "source": [
        "# Borrar la columna que mas datos pérdidos tiene\n",
        "df=df.drop('CATEG',axis=1)"
      ],
      "metadata": {
        "id": "C0cNRxYJdrw-"
      },
      "execution_count": null,
      "outputs": []
    },
    {
      "cell_type": "code",
      "source": [
        "#Respuesta\n",
        "#Imputemos la media a VISIT\n",
        "#Calculemos la media, digite lo que falta para determinar la media\n",
        "media=df.VISIT.mean()\n",
        "\n",
        "# Imprimimos la media\n",
        "print(f\"Media de VISIT: {media}\")\n",
        "\n",
        "#imputemos la media a los nulos de VISIT. digite lo que falta.\n",
        "df.VISIT = df.VISIT.fillna(57.91319444444444)\n",
        "\n",
        "#Veamos si aún tenemos nulos\n",
        "print(\"Nulos del DATAFRAME\", df.isnull().sum())"
      ],
      "metadata": {
        "id": "Jpt3PTV6bi6i",
        "colab": {
          "base_uri": "https://localhost:8080/"
        },
        "outputId": "5bd63de7-0177-4124-8499-1c2f3191f81f"
      },
      "execution_count": null,
      "outputs": [
        {
          "output_type": "stream",
          "name": "stdout",
          "text": [
            "Media de VISIT: 57.91319444444444\n",
            "Nulos del DATAFRAME ANTIG           0\n",
            "COMP            0\n",
            "PROM            0\n",
            "COMINT          0\n",
            "COMPPRES        0\n",
            "RATE            0\n",
            "VISIT           0\n",
            "DIASSINQ        0\n",
            "TASARET         0\n",
            "NUMQ            0\n",
            "RETRE           0\n",
            "TARGET CLASS    0\n",
            "dtype: int64\n"
          ]
        }
      ]
    },
    {
      "cell_type": "code",
      "source": [
        "#ejecute el siguiente comando, es para control de la calificacion final, no cambie nada. Solo ejeucte.\n",
        "nulos=df.isnull().sum()\n",
        "print(\"Nulos que quedaron en el dataframe\", nulos)\n",
        "nulosfinales=nulos[0:12].sum()"
      ],
      "metadata": {
        "id": "xmNdwnscdBOE",
        "colab": {
          "base_uri": "https://localhost:8080/"
        },
        "outputId": "3c681379-250e-4d13-e39f-4576660872a1"
      },
      "execution_count": null,
      "outputs": [
        {
          "output_type": "stream",
          "name": "stdout",
          "text": [
            "Nulos que quedaron en el dataframe ANTIG           0\n",
            "COMP            0\n",
            "PROM            0\n",
            "COMINT          0\n",
            "COMPPRES        0\n",
            "RATE            0\n",
            "VISIT           0\n",
            "DIASSINQ        0\n",
            "TASARET         0\n",
            "NUMQ            0\n",
            "RETRE           0\n",
            "TARGET CLASS    0\n",
            "dtype: int64\n"
          ]
        }
      ]
    },
    {
      "cell_type": "markdown",
      "source": [
        "Vamos a revisar los mínimos, máximo y cuartiles de las variables.\n"
      ],
      "metadata": {
        "id": "x8mQTZZhkdV7"
      }
    },
    {
      "cell_type": "code",
      "source": [
        "#Veamos la estadistica de los features.\n",
        "#Ejecute el siguiente comando\n",
        "df.describe()"
      ],
      "metadata": {
        "id": "M0tlzuL0mGuP",
        "colab": {
          "base_uri": "https://localhost:8080/",
          "height": 300
        },
        "outputId": "2f01b72c-cce6-4b71-e3c2-53290e456f70"
      },
      "execution_count": null,
      "outputs": [
        {
          "output_type": "execute_result",
          "data": {
            "text/plain": [
              "             ANTIG          COMP        PROM        COMINT      COMPPRES  \\\n",
              "count   991.000000    991.000000  991.000000    991.000000    991.000000   \n",
              "mean     15.774759  11150.442987    4.177608  23853.453078  57289.598385   \n",
              "std     113.963187   2573.369787    1.458875   8064.382220  13483.420321   \n",
              "min       1.744117   4414.000000    0.850000   1576.000000  17517.000000   \n",
              "25%       7.425535   9420.000000    3.080000  18006.000000  48325.500000   \n",
              "50%       9.433145  11202.000000    4.080000  23687.000000  57316.000000   \n",
              "75%      11.684588  13079.500000    5.150000  29217.500000  66559.000000   \n",
              "max    2121.896171  18338.000000    8.610000  57221.000000  91669.000000   \n",
              "\n",
              "             RATE       VISIT     DIASSINQ     TASARET        NUMQ  \\\n",
              "count  991.000000  991.000000   991.000000  991.000000  991.000000   \n",
              "mean     2.361029   57.913194  1073.362260    1.158006    6.812902   \n",
              "std      0.640561   19.488242   287.579264    0.294427    1.021981   \n",
              "min      0.655972    2.000000   299.000000    0.365157    3.198464   \n",
              "25%      1.902048   57.913194   867.500000    0.934168    6.111838   \n",
              "50%      2.355008   57.913194  1068.000000    1.165427    6.877483   \n",
              "75%      2.808603   64.000000  1284.000000    1.383318    7.524972   \n",
              "max      4.167256  130.000000  1785.000000    1.885690    9.469748   \n",
              "\n",
              "            RETRE  TARGET CLASS  \n",
              "count  991.000000    991.000000  \n",
              "mean    18.506699      0.497477  \n",
              "std      5.654107      0.500246  \n",
              "min      3.348704      0.000000  \n",
              "25%     14.375395      0.000000  \n",
              "50%     18.273995      0.000000  \n",
              "75%     22.615217      1.000000  \n",
              "max     34.435583      1.000000  "
            ],
            "text/html": [
              "\n",
              "  <div id=\"df-52b9b7e8-0343-4167-bd91-4ecbd1795a6c\">\n",
              "    <div class=\"colab-df-container\">\n",
              "      <div>\n",
              "<style scoped>\n",
              "    .dataframe tbody tr th:only-of-type {\n",
              "        vertical-align: middle;\n",
              "    }\n",
              "\n",
              "    .dataframe tbody tr th {\n",
              "        vertical-align: top;\n",
              "    }\n",
              "\n",
              "    .dataframe thead th {\n",
              "        text-align: right;\n",
              "    }\n",
              "</style>\n",
              "<table border=\"1\" class=\"dataframe\">\n",
              "  <thead>\n",
              "    <tr style=\"text-align: right;\">\n",
              "      <th></th>\n",
              "      <th>ANTIG</th>\n",
              "      <th>COMP</th>\n",
              "      <th>PROM</th>\n",
              "      <th>COMINT</th>\n",
              "      <th>COMPPRES</th>\n",
              "      <th>RATE</th>\n",
              "      <th>VISIT</th>\n",
              "      <th>DIASSINQ</th>\n",
              "      <th>TASARET</th>\n",
              "      <th>NUMQ</th>\n",
              "      <th>RETRE</th>\n",
              "      <th>TARGET CLASS</th>\n",
              "    </tr>\n",
              "  </thead>\n",
              "  <tbody>\n",
              "    <tr>\n",
              "      <th>count</th>\n",
              "      <td>991.000000</td>\n",
              "      <td>991.000000</td>\n",
              "      <td>991.000000</td>\n",
              "      <td>991.000000</td>\n",
              "      <td>991.000000</td>\n",
              "      <td>991.000000</td>\n",
              "      <td>991.000000</td>\n",
              "      <td>991.000000</td>\n",
              "      <td>991.000000</td>\n",
              "      <td>991.000000</td>\n",
              "      <td>991.000000</td>\n",
              "      <td>991.000000</td>\n",
              "    </tr>\n",
              "    <tr>\n",
              "      <th>mean</th>\n",
              "      <td>15.774759</td>\n",
              "      <td>11150.442987</td>\n",
              "      <td>4.177608</td>\n",
              "      <td>23853.453078</td>\n",
              "      <td>57289.598385</td>\n",
              "      <td>2.361029</td>\n",
              "      <td>57.913194</td>\n",
              "      <td>1073.362260</td>\n",
              "      <td>1.158006</td>\n",
              "      <td>6.812902</td>\n",
              "      <td>18.506699</td>\n",
              "      <td>0.497477</td>\n",
              "    </tr>\n",
              "    <tr>\n",
              "      <th>std</th>\n",
              "      <td>113.963187</td>\n",
              "      <td>2573.369787</td>\n",
              "      <td>1.458875</td>\n",
              "      <td>8064.382220</td>\n",
              "      <td>13483.420321</td>\n",
              "      <td>0.640561</td>\n",
              "      <td>19.488242</td>\n",
              "      <td>287.579264</td>\n",
              "      <td>0.294427</td>\n",
              "      <td>1.021981</td>\n",
              "      <td>5.654107</td>\n",
              "      <td>0.500246</td>\n",
              "    </tr>\n",
              "    <tr>\n",
              "      <th>min</th>\n",
              "      <td>1.744117</td>\n",
              "      <td>4414.000000</td>\n",
              "      <td>0.850000</td>\n",
              "      <td>1576.000000</td>\n",
              "      <td>17517.000000</td>\n",
              "      <td>0.655972</td>\n",
              "      <td>2.000000</td>\n",
              "      <td>299.000000</td>\n",
              "      <td>0.365157</td>\n",
              "      <td>3.198464</td>\n",
              "      <td>3.348704</td>\n",
              "      <td>0.000000</td>\n",
              "    </tr>\n",
              "    <tr>\n",
              "      <th>25%</th>\n",
              "      <td>7.425535</td>\n",
              "      <td>9420.000000</td>\n",
              "      <td>3.080000</td>\n",
              "      <td>18006.000000</td>\n",
              "      <td>48325.500000</td>\n",
              "      <td>1.902048</td>\n",
              "      <td>57.913194</td>\n",
              "      <td>867.500000</td>\n",
              "      <td>0.934168</td>\n",
              "      <td>6.111838</td>\n",
              "      <td>14.375395</td>\n",
              "      <td>0.000000</td>\n",
              "    </tr>\n",
              "    <tr>\n",
              "      <th>50%</th>\n",
              "      <td>9.433145</td>\n",
              "      <td>11202.000000</td>\n",
              "      <td>4.080000</td>\n",
              "      <td>23687.000000</td>\n",
              "      <td>57316.000000</td>\n",
              "      <td>2.355008</td>\n",
              "      <td>57.913194</td>\n",
              "      <td>1068.000000</td>\n",
              "      <td>1.165427</td>\n",
              "      <td>6.877483</td>\n",
              "      <td>18.273995</td>\n",
              "      <td>0.000000</td>\n",
              "    </tr>\n",
              "    <tr>\n",
              "      <th>75%</th>\n",
              "      <td>11.684588</td>\n",
              "      <td>13079.500000</td>\n",
              "      <td>5.150000</td>\n",
              "      <td>29217.500000</td>\n",
              "      <td>66559.000000</td>\n",
              "      <td>2.808603</td>\n",
              "      <td>64.000000</td>\n",
              "      <td>1284.000000</td>\n",
              "      <td>1.383318</td>\n",
              "      <td>7.524972</td>\n",
              "      <td>22.615217</td>\n",
              "      <td>1.000000</td>\n",
              "    </tr>\n",
              "    <tr>\n",
              "      <th>max</th>\n",
              "      <td>2121.896171</td>\n",
              "      <td>18338.000000</td>\n",
              "      <td>8.610000</td>\n",
              "      <td>57221.000000</td>\n",
              "      <td>91669.000000</td>\n",
              "      <td>4.167256</td>\n",
              "      <td>130.000000</td>\n",
              "      <td>1785.000000</td>\n",
              "      <td>1.885690</td>\n",
              "      <td>9.469748</td>\n",
              "      <td>34.435583</td>\n",
              "      <td>1.000000</td>\n",
              "    </tr>\n",
              "  </tbody>\n",
              "</table>\n",
              "</div>\n",
              "      <button class=\"colab-df-convert\" onclick=\"convertToInteractive('df-52b9b7e8-0343-4167-bd91-4ecbd1795a6c')\"\n",
              "              title=\"Convert this dataframe to an interactive table.\"\n",
              "              style=\"display:none;\">\n",
              "        \n",
              "  <svg xmlns=\"http://www.w3.org/2000/svg\" height=\"24px\"viewBox=\"0 0 24 24\"\n",
              "       width=\"24px\">\n",
              "    <path d=\"M0 0h24v24H0V0z\" fill=\"none\"/>\n",
              "    <path d=\"M18.56 5.44l.94 2.06.94-2.06 2.06-.94-2.06-.94-.94-2.06-.94 2.06-2.06.94zm-11 1L8.5 8.5l.94-2.06 2.06-.94-2.06-.94L8.5 2.5l-.94 2.06-2.06.94zm10 10l.94 2.06.94-2.06 2.06-.94-2.06-.94-.94-2.06-.94 2.06-2.06.94z\"/><path d=\"M17.41 7.96l-1.37-1.37c-.4-.4-.92-.59-1.43-.59-.52 0-1.04.2-1.43.59L10.3 9.45l-7.72 7.72c-.78.78-.78 2.05 0 2.83L4 21.41c.39.39.9.59 1.41.59.51 0 1.02-.2 1.41-.59l7.78-7.78 2.81-2.81c.8-.78.8-2.07 0-2.86zM5.41 20L4 18.59l7.72-7.72 1.47 1.35L5.41 20z\"/>\n",
              "  </svg>\n",
              "      </button>\n",
              "      \n",
              "  <style>\n",
              "    .colab-df-container {\n",
              "      display:flex;\n",
              "      flex-wrap:wrap;\n",
              "      gap: 12px;\n",
              "    }\n",
              "\n",
              "    .colab-df-convert {\n",
              "      background-color: #E8F0FE;\n",
              "      border: none;\n",
              "      border-radius: 50%;\n",
              "      cursor: pointer;\n",
              "      display: none;\n",
              "      fill: #1967D2;\n",
              "      height: 32px;\n",
              "      padding: 0 0 0 0;\n",
              "      width: 32px;\n",
              "    }\n",
              "\n",
              "    .colab-df-convert:hover {\n",
              "      background-color: #E2EBFA;\n",
              "      box-shadow: 0px 1px 2px rgba(60, 64, 67, 0.3), 0px 1px 3px 1px rgba(60, 64, 67, 0.15);\n",
              "      fill: #174EA6;\n",
              "    }\n",
              "\n",
              "    [theme=dark] .colab-df-convert {\n",
              "      background-color: #3B4455;\n",
              "      fill: #D2E3FC;\n",
              "    }\n",
              "\n",
              "    [theme=dark] .colab-df-convert:hover {\n",
              "      background-color: #434B5C;\n",
              "      box-shadow: 0px 1px 3px 1px rgba(0, 0, 0, 0.15);\n",
              "      filter: drop-shadow(0px 1px 2px rgba(0, 0, 0, 0.3));\n",
              "      fill: #FFFFFF;\n",
              "    }\n",
              "  </style>\n",
              "\n",
              "      <script>\n",
              "        const buttonEl =\n",
              "          document.querySelector('#df-52b9b7e8-0343-4167-bd91-4ecbd1795a6c button.colab-df-convert');\n",
              "        buttonEl.style.display =\n",
              "          google.colab.kernel.accessAllowed ? 'block' : 'none';\n",
              "\n",
              "        async function convertToInteractive(key) {\n",
              "          const element = document.querySelector('#df-52b9b7e8-0343-4167-bd91-4ecbd1795a6c');\n",
              "          const dataTable =\n",
              "            await google.colab.kernel.invokeFunction('convertToInteractive',\n",
              "                                                     [key], {});\n",
              "          if (!dataTable) return;\n",
              "\n",
              "          const docLinkHtml = 'Like what you see? Visit the ' +\n",
              "            '<a target=\"_blank\" href=https://colab.research.google.com/notebooks/data_table.ipynb>data table notebook</a>'\n",
              "            + ' to learn more about interactive tables.';\n",
              "          element.innerHTML = '';\n",
              "          dataTable['output_type'] = 'display_data';\n",
              "          await google.colab.output.renderOutput(dataTable, element);\n",
              "          const docLink = document.createElement('div');\n",
              "          docLink.innerHTML = docLinkHtml;\n",
              "          element.appendChild(docLink);\n",
              "        }\n",
              "      </script>\n",
              "    </div>\n",
              "  </div>\n",
              "  "
            ]
          },
          "metadata": {},
          "execution_count": 15
        }
      ]
    },
    {
      "cell_type": "markdown",
      "source": [
        "Aqui nos damos cuenta a primera vista que ANTIG tiene una media de 15.77, una min de 1.7 pero es extraño que tenga un max de 2121 es decir un inidicio de Outlayer.\n",
        "\n",
        "Valmos a revisarlo con algún graficador y validamos si alguna otra feature tambien tiene outlayer y borramos todos los outlayer"
      ],
      "metadata": {
        "id": "zso63x5VoR_Q"
      }
    },
    {
      "cell_type": "code",
      "source": [
        "#Complemente el siguiente comando\n",
        "X = df\n",
        "ax = sb.boxplot(x=df['ANTIG'])\n",
        "plt.show()"
      ],
      "metadata": {
        "id": "v4tFkxgScRmW",
        "colab": {
          "base_uri": "https://localhost:8080/",
          "height": 777
        },
        "outputId": "ef4de579-7c39-49d4-ef78-4b00e5509c20"
      },
      "execution_count": null,
      "outputs": [
        {
          "output_type": "display_data",
          "data": {
            "text/plain": [
              "<Figure size 1600x900 with 1 Axes>"
            ],
            "image/png": "[encoded data removed]"
          },
          "metadata": {}
        }
      ]
    },
    {
      "cell_type": "markdown",
      "source": [
        "Como se observa en la grafica hay 3 features que tienen outlayer.\n",
        "![outlayera](https://raw.githubusercontent.com/adiacla/bigdata/master/ouylayer.png)\n",
        "\n",
        "\n",
        "1.   Elemento de lista\n",
        "2.   Elemento de lista\n",
        "\n"
      ],
      "metadata": {
        "id": "66DBblh8rHw5"
      }
    },
    {
      "cell_type": "code",
      "source": [
        "#Grafiquemos la caja de bigotes de ANTIG\n",
        "#Complemente el siguiente comando\n",
        "\n",
        "X = df.ANTIG\n",
        "ax = sb.boxplot(x=df['ANTIG'])\n",
        "plt.show()"
      ],
      "metadata": {
        "id": "x1lnTF0qrvr2",
        "colab": {
          "base_uri": "https://localhost:8080/",
          "height": 777
        },
        "outputId": "b7134234-7fb8-41ba-ab82-92b2bda367ea"
      },
      "execution_count": null,
      "outputs": [
        {
          "output_type": "display_data",
          "data": {
            "text/plain": [
              "<Figure size 1600x900 with 1 Axes>"
            ],
            "image/png": "[encoded data removed]"
          },
          "metadata": {}
        }
      ]
    },
    {
      "cell_type": "code",
      "source": [
        "#Borre las filas o rows donde están los outlayer de ANTIG\n",
        "#Podemos poner menores que 100 (cien) porque observando los datos son mas pequeños pero excluimos los que estan\n",
        "#mayores de 2000\n",
        "filtro = df.ANTIG<=100\n",
        "df = df[filtro]"
      ],
      "metadata": {
        "id": "mRrLj7ghsUqL"
      },
      "execution_count": null,
      "outputs": []
    },
    {
      "cell_type": "code",
      "source": [
        "#Grafiquemos la caja de bigotes de COMINT\n",
        "#Complemente el siguiente comando\n",
        "\n",
        "X = df.COMINT\n",
        "ax = sb.boxplot(x=df['COMINT'])\n",
        "plt.show()"
      ],
      "metadata": {
        "id": "C53xoI7dtIqg",
        "colab": {
          "base_uri": "https://localhost:8080/",
          "height": 777
        },
        "outputId": "0dbaa737-8364-422d-a00c-fd0bcc0fd2f0"
      },
      "execution_count": null,
      "outputs": [
        {
          "output_type": "display_data",
          "data": {
            "text/plain": [
              "<Figure size 1600x900 with 1 Axes>"
            ],
            "image/png": "[encoded data removed]"
          },
          "metadata": {}
        }
      ]
    },
    {
      "cell_type": "code",
      "source": [
        "#Borre las filas o rows donde están los outlayer de COMINT\n",
        "#Podemos poner menores que 49000 (cuarenta y nueve mil) porque observando los datos son mas pequeños pero excluimos los que estan\n",
        "#mayores de 49000\n",
        "filtro = df.COMINT<=49000\n",
        "df = df[filtro]"
      ],
      "metadata": {
        "id": "zdacD4dRtsAE"
      },
      "execution_count": null,
      "outputs": []
    },
    {
      "cell_type": "code",
      "source": [
        "#Grafiquemos la caja de bigotes de COMPPRES\n",
        "#Complemente el siguiente comando\n",
        "\n",
        "X = df.COMPPRES\n",
        "X = df.COMPPRES\n",
        "ax = sb.boxplot(X)\n",
        "plt.show()"
      ],
      "metadata": {
        "id": "TsAo1xcguPYE",
        "colab": {
          "base_uri": "https://localhost:8080/",
          "height": 753
        },
        "outputId": "d35d44c4-d491-411f-a242-31e7f9edf9ee"
      },
      "execution_count": null,
      "outputs": [
        {
          "output_type": "display_data",
          "data": {
            "text/plain": [
              "<Figure size 1600x900 with 1 Axes>"
            ],
            "image/png": "[encoded data removed]"
          },
          "metadata": {}
        }
      ]
    },
    {
      "cell_type": "code",
      "source": [
        "#Borre las filas o rows donde están los outlayer de COMINT\n",
        "#Podemos poner mayores de 20000 (veinte mil) porque observando los datos son mas grandes por eso\n",
        "#ahora excluimos los que estan menores de 20000, es decir filtramos los mayores.\n",
        "\n",
        "filtro = df.COMPPRES>=20000\n",
        "df = df[filtro]\n"
      ],
      "metadata": {
        "id": "qa-6JmEtuTH0"
      },
      "execution_count": null,
      "outputs": []
    },
    {
      "cell_type": "code",
      "source": [
        "#ejecute el siguiente comando, es para control de la calificacion. No modifiue nada\n",
        "totaldefilascontrol=len(df)\n",
        "totaldefilascontrol"
      ],
      "metadata": {
        "id": "LOZ-bdaIwbgF",
        "colab": {
          "base_uri": "https://localhost:8080/"
        },
        "outputId": "e0f9065a-422b-4389-f0b0-3f805de458a1"
      },
      "execution_count": null,
      "outputs": [
        {
          "output_type": "execute_result",
          "data": {
            "text/plain": [
              "980"
            ]
          },
          "metadata": {},
          "execution_count": 23
        }
      ]
    },
    {
      "cell_type": "markdown",
      "source": [
        "Ahora vamos a normalizar los datos porque observamos que están en una escala diferente. Usted se preguntará por que no hicimos el analisis de correlacion antes.\n",
        "Filtro de alta correlación\n",
        "\n",
        "Es probable que las columnas de datos con tendencias muy similares también contengan información muy similar, y solo una de ellas bastará para la clasificación. Aquí calculamos el coeficiente de correlación de Pearson entre columnas numéricas y el valor de chi-cuadrado de Pearson entre columnas nominales. Para la clasificación final, solo retenemos una columna de cada par de columnas cuya correlación por pares excede un umbral dado. Nótese que la correlación depende del rango de columnas y, por lo tanto, es mejor normalizarla antes de aplicar esta técnica."
      ],
      "metadata": {
        "id": "i2eFTFgNyPxF"
      }
    },
    {
      "cell_type": "code",
      "source": [
        "#Normalicemos o escalemos usando MinMaxScale\n",
        "escalador = MinMaxScaler()\n",
        "df.iloc[:,1:9] = escalador.fit_transform(df.iloc[:,1:9])\n",
        "df"
      ],
      "metadata": {
        "id": "UI7OhJqLy1QC",
        "colab": {
          "base_uri": "https://localhost:8080/",
          "height": 528
        },
        "outputId": "b4efbd11-36cd-4a64-e141-496c7706abe7"
      },
      "execution_count": null,
      "outputs": [
        {
          "output_type": "stream",
          "name": "stderr",
          "text": [
            "<ipython-input-24-5bd6748428b0>:3: SettingWithCopyWarning: \n",
            "A value is trying to be set on a copy of a slice from a DataFrame.\n",
            "Try using .loc[row_indexer,col_indexer] = value instead\n",
            "\n",
            "See the caveats in the documentation: https://pandas.pydata.org/pandas-docs/stable/user_guide/indexing.html#returning-a-view-versus-a-copy\n",
            "  df.iloc[:,1:9] = escalador.fit_transform(df.iloc[:,1:9])\n"
          ]
        },
        {
          "output_type": "execute_result",
          "data": {
            "text/plain": [
              "         ANTIG      COMP      PROM    COMINT  COMPPRES      RATE     VISIT  \\\n",
              "0     9.139173  0.517596  0.256443  0.566349  0.299697  0.064235  0.039062   \n",
              "1     6.356319  0.403835  0.235825  0.622312  0.415109  0.274872  0.406250   \n",
              "2     7.213598  0.545892  0.484536  0.646183  0.900555  0.326371  0.436822   \n",
              "3    12.342044  0.678900  0.311856  0.622290  0.591069  0.436264  0.436822   \n",
              "4    12.794908  0.365053  0.295103  0.497403  0.663611  0.314229  0.436822   \n",
              "..         ...       ...       ...       ...       ...       ...       ...   \n",
              "983  12.605583  0.121086  0.262887  0.382289  0.573768  0.338228  0.734375   \n",
              "984   9.615991  0.489299  0.039948  0.655043  0.786710  0.443698  0.421875   \n",
              "985  11.502045  0.204683  0.443299  0.562682  0.186054  0.165675  0.492188   \n",
              "986   3.356411  0.457412  0.510309  0.459320  0.713254  0.730138  0.515625   \n",
              "988   6.121557  0.656061  0.630155  0.549563  0.724653  0.559849  0.554688   \n",
              "\n",
              "     DIASSINQ   TASARET      NUMQ      RETRE  TARGET CLASS  \n",
              "0    0.232167  0.338214  6.157047  17.729996             1  \n",
              "1    0.481157  0.168622  7.463508  12.458385             0  \n",
              "2    0.575370  0.389811  6.427984  13.994380             0  \n",
              "3    0.727456  0.761269  5.765465  24.684088             1  \n",
              "4    0.234186  0.722546  7.095833  24.310326             1  \n",
              "..        ...       ...       ...        ...           ...  \n",
              "983  0.256393  0.449634  6.921177  24.706943             1  \n",
              "984  0.703230  0.399216  4.583442  18.655023             1  \n",
              "985  0.116420  0.590775  6.163529  22.544009             1  \n",
              "986  0.559219  0.373435  7.200278   6.444309             0  \n",
              "988  0.791386  0.451051  7.722217  11.875821             0  \n",
              "\n",
              "[980 rows x 12 columns]"
            ],
            "text/html": [
              "\n",
              "  <div id=\"df-01f35d99-4500-4df1-a7a4-9938445affd7\">\n",
              "    <div class=\"colab-df-container\">\n",
              "      <div>\n",
              "<style scoped>\n",
              "    .dataframe tbody tr th:only-of-type {\n",
              "        vertical-align: middle;\n",
              "    }\n",
              "\n",
              "    .dataframe tbody tr th {\n",
              "        vertical-align: top;\n",
              "    }\n",
              "\n",
              "    .dataframe thead th {\n",
              "        text-align: right;\n",
              "    }\n",
              "</style>\n",
              "<table border=\"1\" class=\"dataframe\">\n",
              "  <thead>\n",
              "    <tr style=\"text-align: right;\">\n",
              "      <th></th>\n",
              "      <th>ANTIG</th>\n",
              "      <th>COMP</th>\n",
              "      <th>PROM</th>\n",
              "      <th>COMINT</th>\n",
              "      <th>COMPPRES</th>\n",
              "      <th>RATE</th>\n",
              "      <th>VISIT</th>\n",
              "      <th>DIASSINQ</th>\n",
              "      <th>TASARET</th>\n",
              "      <th>NUMQ</th>\n",
              "      <th>RETRE</th>\n",
              "      <th>TARGET CLASS</th>\n",
              "    </tr>\n",
              "  </thead>\n",
              "  <tbody>\n",
              "    <tr>\n",
              "      <th>0</th>\n",
              "      <td>9.139173</td>\n",
              "      <td>0.517596</td>\n",
              "      <td>0.256443</td>\n",
              "      <td>0.566349</td>\n",
              "      <td>0.299697</td>\n",
              "      <td>0.064235</td>\n",
              "      <td>0.039062</td>\n",
              "      <td>0.232167</td>\n",
              "      <td>0.338214</td>\n",
              "      <td>6.157047</td>\n",
              "      <td>17.729996</td>\n",
              "      <td>1</td>\n",
              "    </tr>\n",
              "    <tr>\n",
              "      <th>1</th>\n",
              "      <td>6.356319</td>\n",
              "      <td>0.403835</td>\n",
              "      <td>0.235825</td>\n",
              "      <td>0.622312</td>\n",
              "      <td>0.415109</td>\n",
              "      <td>0.274872</td>\n",
              "      <td>0.406250</td>\n",
              "      <td>0.481157</td>\n",
              "      <td>0.168622</td>\n",
              "      <td>7.463508</td>\n",
              "      <td>12.458385</td>\n",
              "      <td>0</td>\n",
              "    </tr>\n",
              "    <tr>\n",
              "      <th>2</th>\n",
              "      <td>7.213598</td>\n",
              "      <td>0.545892</td>\n",
              "      <td>0.484536</td>\n",
              "      <td>0.646183</td>\n",
              "      <td>0.900555</td>\n",
              "      <td>0.326371</td>\n",
              "      <td>0.436822</td>\n",
              "      <td>0.575370</td>\n",
              "      <td>0.389811</td>\n",
              "      <td>6.427984</td>\n",
              "      <td>13.994380</td>\n",
              "      <td>0</td>\n",
              "    </tr>\n",
              "    <tr>\n",
              "      <th>3</th>\n",
              "      <td>12.342044</td>\n",
              "      <td>0.678900</td>\n",
              "      <td>0.311856</td>\n",
              "      <td>0.622290</td>\n",
              "      <td>0.591069</td>\n",
              "      <td>0.436264</td>\n",
              "      <td>0.436822</td>\n",
              "      <td>0.727456</td>\n",
              "      <td>0.761269</td>\n",
              "      <td>5.765465</td>\n",
              "      <td>24.684088</td>\n",
              "      <td>1</td>\n",
              "    </tr>\n",
              "    <tr>\n",
              "      <th>4</th>\n",
              "      <td>12.794908</td>\n",
              "      <td>0.365053</td>\n",
              "      <td>0.295103</td>\n",
              "      <td>0.497403</td>\n",
              "      <td>0.663611</td>\n",
              "      <td>0.314229</td>\n",
              "      <td>0.436822</td>\n",
              "      <td>0.234186</td>\n",
              "      <td>0.722546</td>\n",
              "      <td>7.095833</td>\n",
              "      <td>24.310326</td>\n",
              "      <td>1</td>\n",
              "    </tr>\n",
              "    <tr>\n",
              "      <th>...</th>\n",
              "      <td>...</td>\n",
              "      <td>...</td>\n",
              "      <td>...</td>\n",
              "      <td>...</td>\n",
              "      <td>...</td>\n",
              "      <td>...</td>\n",
              "      <td>...</td>\n",
              "      <td>...</td>\n",
              "      <td>...</td>\n",
              "      <td>...</td>\n",
              "      <td>...</td>\n",
              "      <td>...</td>\n",
              "    </tr>\n",
              "    <tr>\n",
              "      <th>983</th>\n",
              "      <td>12.605583</td>\n",
              "      <td>0.121086</td>\n",
              "      <td>0.262887</td>\n",
              "      <td>0.382289</td>\n",
              "      <td>0.573768</td>\n",
              "      <td>0.338228</td>\n",
              "      <td>0.734375</td>\n",
              "      <td>0.256393</td>\n",
              "      <td>0.449634</td>\n",
              "      <td>6.921177</td>\n",
              "      <td>24.706943</td>\n",
              "      <td>1</td>\n",
              "    </tr>\n",
              "    <tr>\n",
              "      <th>984</th>\n",
              "      <td>9.615991</td>\n",
              "      <td>0.489299</td>\n",
              "      <td>0.039948</td>\n",
              "      <td>0.655043</td>\n",
              "      <td>0.786710</td>\n",
              "      <td>0.443698</td>\n",
              "      <td>0.421875</td>\n",
              "      <td>0.703230</td>\n",
              "      <td>0.399216</td>\n",
              "      <td>4.583442</td>\n",
              "      <td>18.655023</td>\n",
              "      <td>1</td>\n",
              "    </tr>\n",
              "    <tr>\n",
              "      <th>985</th>\n",
              "      <td>11.502045</td>\n",
              "      <td>0.204683</td>\n",
              "      <td>0.443299</td>\n",
              "      <td>0.562682</td>\n",
              "      <td>0.186054</td>\n",
              "      <td>0.165675</td>\n",
              "      <td>0.492188</td>\n",
              "      <td>0.116420</td>\n",
              "      <td>0.590775</td>\n",
              "      <td>6.163529</td>\n",
              "      <td>22.544009</td>\n",
              "      <td>1</td>\n",
              "    </tr>\n",
              "    <tr>\n",
              "      <th>986</th>\n",
              "      <td>3.356411</td>\n",
              "      <td>0.457412</td>\n",
              "      <td>0.510309</td>\n",
              "      <td>0.459320</td>\n",
              "      <td>0.713254</td>\n",
              "      <td>0.730138</td>\n",
              "      <td>0.515625</td>\n",
              "      <td>0.559219</td>\n",
              "      <td>0.373435</td>\n",
              "      <td>7.200278</td>\n",
              "      <td>6.444309</td>\n",
              "      <td>0</td>\n",
              "    </tr>\n",
              "    <tr>\n",
              "      <th>988</th>\n",
              "      <td>6.121557</td>\n",
              "      <td>0.656061</td>\n",
              "      <td>0.630155</td>\n",
              "      <td>0.549563</td>\n",
              "      <td>0.724653</td>\n",
              "      <td>0.559849</td>\n",
              "      <td>0.554688</td>\n",
              "      <td>0.791386</td>\n",
              "      <td>0.451051</td>\n",
              "      <td>7.722217</td>\n",
              "      <td>11.875821</td>\n",
              "      <td>0</td>\n",
              "    </tr>\n",
              "  </tbody>\n",
              "</table>\n",
              "<p>980 rows × 12 columns</p>\n",
              "</div>\n",
              "      <button class=\"colab-df-convert\" onclick=\"convertToInteractive('df-01f35d99-4500-4df1-a7a4-9938445affd7')\"\n",
              "              title=\"Convert this dataframe to an interactive table.\"\n",
              "              style=\"display:none;\">\n",
              "        \n",
              "  <svg xmlns=\"http://www.w3.org/2000/svg\" height=\"24px\"viewBox=\"0 0 24 24\"\n",
              "       width=\"24px\">\n",
              "    <path d=\"M0 0h24v24H0V0z\" fill=\"none\"/>\n",
              "    <path d=\"M18.56 5.44l.94 2.06.94-2.06 2.06-.94-2.06-.94-.94-2.06-.94 2.06-2.06.94zm-11 1L8.5 8.5l.94-2.06 2.06-.94-2.06-.94L8.5 2.5l-.94 2.06-2.06.94zm10 10l.94 2.06.94-2.06 2.06-.94-2.06-.94-.94-2.06-.94 2.06-2.06.94z\"/><path d=\"M17.41 7.96l-1.37-1.37c-.4-.4-.92-.59-1.43-.59-.52 0-1.04.2-1.43.59L10.3 9.45l-7.72 7.72c-.78.78-.78 2.05 0 2.83L4 21.41c.39.39.9.59 1.41.59.51 0 1.02-.2 1.41-.59l7.78-7.78 2.81-2.81c.8-.78.8-2.07 0-2.86zM5.41 20L4 18.59l7.72-7.72 1.47 1.35L5.41 20z\"/>\n",
              "  </svg>\n",
              "      </button>\n",
              "      \n",
              "  <style>\n",
              "    .colab-df-container {\n",
              "      display:flex;\n",
              "      flex-wrap:wrap;\n",
              "      gap: 12px;\n",
              "    }\n",
              "\n",
              "    .colab-df-convert {\n",
              "      background-color: #E8F0FE;\n",
              "      border: none;\n",
              "      border-radius: 50%;\n",
              "      cursor: pointer;\n",
              "      display: none;\n",
              "      fill: #1967D2;\n",
              "      height: 32px;\n",
              "      padding: 0 0 0 0;\n",
              "      width: 32px;\n",
              "    }\n",
              "\n",
              "    .colab-df-convert:hover {\n",
              "      background-color: #E2EBFA;\n",
              "      box-shadow: 0px 1px 2px rgba(60, 64, 67, 0.3), 0px 1px 3px 1px rgba(60, 64, 67, 0.15);\n",
              "      fill: #174EA6;\n",
              "    }\n",
              "\n",
              "    [theme=dark] .colab-df-convert {\n",
              "      background-color: #3B4455;\n",
              "      fill: #D2E3FC;\n",
              "    }\n",
              "\n",
              "    [theme=dark] .colab-df-convert:hover {\n",
              "      background-color: #434B5C;\n",
              "      box-shadow: 0px 1px 3px 1px rgba(0, 0, 0, 0.15);\n",
              "      filter: drop-shadow(0px 1px 2px rgba(0, 0, 0, 0.3));\n",
              "      fill: #FFFFFF;\n",
              "    }\n",
              "  </style>\n",
              "\n",
              "      <script>\n",
              "        const buttonEl =\n",
              "          document.querySelector('#df-01f35d99-4500-4df1-a7a4-9938445affd7 button.colab-df-convert');\n",
              "        buttonEl.style.display =\n",
              "          google.colab.kernel.accessAllowed ? 'block' : 'none';\n",
              "\n",
              "        async function convertToInteractive(key) {\n",
              "          const element = document.querySelector('#df-01f35d99-4500-4df1-a7a4-9938445affd7');\n",
              "          const dataTable =\n",
              "            await google.colab.kernel.invokeFunction('convertToInteractive',\n",
              "                                                     [key], {});\n",
              "          if (!dataTable) return;\n",
              "\n",
              "          const docLinkHtml = 'Like what you see? Visit the ' +\n",
              "            '<a target=\"_blank\" href=https://colab.research.google.com/notebooks/data_table.ipynb>data table notebook</a>'\n",
              "            + ' to learn more about interactive tables.';\n",
              "          element.innerHTML = '';\n",
              "          dataTable['output_type'] = 'display_data';\n",
              "          await google.colab.output.renderOutput(dataTable, element);\n",
              "          const docLink = document.createElement('div');\n",
              "          docLink.innerHTML = docLinkHtml;\n",
              "          element.appendChild(docLink);\n",
              "        }\n",
              "      </script>\n",
              "    </div>\n",
              "  </div>\n",
              "  "
            ]
          },
          "metadata": {},
          "execution_count": 24
        }
      ]
    },
    {
      "cell_type": "markdown",
      "source": [
        "Vamos a analizar si hay Multicolinealidad entre los feactures usando la técnica de correlacion ahora en datos normalizados para comparar la misma escala."
      ],
      "metadata": {
        "id": "isnMHwrDzfFu"
      }
    },
    {
      "cell_type": "code",
      "source": [
        "#Ejecute el siguiente comando\n",
        "# Grafica de correlacion de Pearson usando seaborn. No modifuqe nada\n",
        "\n",
        "colormap = plt.cm.viridis # Cambio de colores\n",
        "plt.figure(figsize=(12,12)) # tamaño figura\n",
        "plt.title('Pearson Correlation of Features', y=1.05, size=15) # Poner titulo, tamaño recuadros en titulo\n",
        "# Graficar\n",
        "sb.heatmap(df.astype(float).corr(),linewidths=0.1,vmax=1.0, square=True, cmap=colormap, linecolor='white', annot=True)"
      ],
      "metadata": {
        "id": "dC5DPdrgzYBZ",
        "colab": {
          "base_uri": "https://localhost:8080/",
          "height": 1000
        },
        "outputId": "dab57c2f-41e8-4331-d49a-322da3dc6024"
      },
      "execution_count": null,
      "outputs": [
        {
          "output_type": "execute_result",
          "data": {
            "text/plain": [
              "<Axes: title={'center': 'Pearson Correlation of Features'}>"
            ]
          },
          "metadata": {},
          "execution_count": 25
        },
        {
          "output_type": "display_data",
          "data": {
            "text/plain": [
              "<Figure size 1200x1200 with 2 Axes>"
            ],
            "image/png": "[encoded data removed]"
          },
          "metadata": {}
        }
      ]
    },
    {
      "cell_type": "markdown",
      "source": [
        "Observamos las siguientes columnas altamente correlacionadas\n",
        "![correlacion](https://raw.githubusercontent.com/adiacla/bigdata/master/correlacion.png)"
      ],
      "metadata": {
        "id": "djPOaI7Nz-qq"
      }
    },
    {
      "cell_type": "code",
      "source": [
        "#Revisemos las varianzas\n",
        "\n",
        "print(\"La varianza de RETRE es: \", df.ANTIG.var())\n",
        "\n",
        "print(\"La varianza de ANTIG es: \", df.RETRE.var())"
      ],
      "metadata": {
        "id": "ZS3aTxV61BQV",
        "colab": {
          "base_uri": "https://localhost:8080/"
        },
        "outputId": "a48beb8d-fc47-4512-bfdd-8a32b65d16fc"
      },
      "execution_count": null,
      "outputs": [
        {
          "output_type": "stream",
          "name": "stdout",
          "text": [
            "La varianza de RETRE es:  8.431515285452518\n",
            "La varianza de ANTIG es:  31.99900488574684\n"
          ]
        }
      ]
    },
    {
      "cell_type": "code",
      "source": [
        "#Borre la columna que tenga la menor varianza\n",
        "df = df.drop('ANTIG', axis=1)"
      ],
      "metadata": {
        "id": "JU0YllQU2JgV"
      },
      "execution_count": null,
      "outputs": []
    },
    {
      "cell_type": "markdown",
      "source": [],
      "metadata": {
        "id": "JepJPQCHP0qk"
      }
    },
    {
      "cell_type": "code",
      "source": [
        "#ejecute el siguiente comando, es para control de la calificacion. no modifique nada\n",
        "columnasfinales=df.columns\n",
        "columnacontrol=len(columnasfinales)"
      ],
      "metadata": {
        "id": "hWh1E1SE2qzM"
      },
      "execution_count": null,
      "outputs": []
    },
    {
      "cell_type": "code",
      "source": [
        "# Separar los Features/Caracteristicas de campo etiqueta \"TARGET CLASS\"\n",
        "# Normalmente los cientiicos de Datos asignan 'X' mayuscula a los features y 'y' minuscula a la etiqueta\n",
        "X = df.drop(['TARGET CLASS'], axis=1)\n",
        "y = df['TARGET CLASS']\n"
      ],
      "metadata": {
        "id": "rkLCB3kbA-DT"
      },
      "execution_count": null,
      "outputs": []
    },
    {
      "cell_type": "code",
      "source": [
        "#Dividir el conjunto de datos en datos de entrenamiento y datos de prueba(tamaño de entrenamiento 80%)\n",
        "X_train, X_test, y_train, y_test = train_test_split(X, y, train_size=0.8, random_state=124)\n"
      ],
      "metadata": {
        "id": "gaPP2GQMBVKn"
      },
      "execution_count": null,
      "outputs": []
    },
    {
      "cell_type": "code",
      "source": [
        "#Esta función fue creada para envitar estar escribiendo cada ver el código para impirir los indicadores\n",
        "#de evaluación de la calidad de modelo\n",
        "#Solo ejecute esta funcion NO CAMBIE NADA\n",
        "\n",
        "def evaluacion (modelo,Xtrain,ytrain,Xtest,ytest,ypredict):\n",
        "  # Matriz confusion\n",
        "  matriz = confusion_matrix(ytest,ypredict)\n",
        "  matrizdf = pd.DataFrame(matriz)\n",
        "  # Nombrar columnas y filas\n",
        "  matrizdf.columns = ['0_Continua Afiliado REAL', '1_Se retira REAL' ]\n",
        "  matrizdf.rename(index = {0:'0_Continua Afiliado_PRED',1:'1_Se retira_PRED'})\n",
        "  print('_____________________________________________________') \n",
        "  print(matrizdf,'\\n')\n",
        "  print('_____________________________________________________')\n",
        "  # Calcular Accuracy tanto en el set de entrenamiento como el de prueba\n",
        "  print('Exactitud en el set de Entrenamiento: {:.2f}'.format(modelo.score(Xtrain, ytrain)),'\\n')\n",
        "  print('_____________________________________________________')\n",
        "  print(chr(27)+\"[1;33m\"+'La exactitud del modelo con los datos de prueba es (ACCURACY)')\n",
        "  print(accuracy_score(ytest,ypredict))\n",
        "  print('_____________________________________________________')\n",
        "  print(classification_report(ytest,ypredict, labels=[0, 1]))\n",
        "  print('_____________________________________________________')\n"
      ],
      "metadata": {
        "id": "cZnIiG4SElDL"
      },
      "execution_count": null,
      "outputs": []
    },
    {
      "cell_type": "markdown",
      "source": [
        "  ## <font color=blue>**PARTE 2  BAIVE BAYES**</font>"
      ],
      "metadata": {
        "id": "V7qi_1Sf9lyg"
      }
    },
    {
      "cell_type": "markdown",
      "source": [
        "### <font color=red> **1. Entrenamiento de un modelo Näive Bayes** </font>\n"
      ],
      "metadata": {
        "id": "9vef0Ip_9tzX"
      }
    },
    {
      "cell_type": "code",
      "source": [
        "#A continuación, vamos a crear una instancia de la clase y asignarla a una variable denominada modeloNB\n",
        "modeloNB = GaussianNB()\n",
        "\n",
        "#Ahora podemos entrenar nuestro modelo utilizando el método y nuestras y variables\n",
        "modeloNB.fit(X_train,y_train)"
      ],
      "metadata": {
        "id": "wkVeGkt5Cd1b",
        "colab": {
          "base_uri": "https://localhost:8080/",
          "height": 75
        },
        "outputId": "cbaf951d-8842-4724-bd0b-e68939b72cc6"
      },
      "execution_count": null,
      "outputs": [
        {
          "output_type": "execute_result",
          "data": {
            "text/plain": [
              "GaussianNB()"
            ],
            "text/html": [
              "<style>#sk-container-id-1 {color: black;background-color: white;}#sk-container-id-1 pre{padding: 0;}#sk-container-id-1 div.sk-toggleable {background-color: white;}#sk-container-id-1 label.sk-toggleable__label {cursor: pointer;display: block;width: 100%;margin-bottom: 0;padding: 0.3em;box-sizing: border-box;text-align: center;}#sk-container-id-1 label.sk-toggleable__label-arrow:before {content: \"▸\";float: left;margin-right: 0.25em;color: #696969;}#sk-container-id-1 label.sk-toggleable__label-arrow:hover:before {color: black;}#sk-container-id-1 div.sk-estimator:hover label.sk-toggleable__label-arrow:before {color: black;}#sk-container-id-1 div.sk-toggleable__content {max-height: 0;max-width: 0;overflow: hidden;text-align: left;background-color: #f0f8ff;}#sk-container-id-1 div.sk-toggleable__content pre {margin: 0.2em;color: black;border-radius: 0.25em;background-color: #f0f8ff;}#sk-container-id-1 input.sk-toggleable__control:checked~div.sk-toggleable__content {max-height: 200px;max-width: 100%;overflow: auto;}#sk-container-id-1 input.sk-toggleable__control:checked~label.sk-toggleable__label-arrow:before {content: \"▾\";}#sk-container-id-1 div.sk-estimator input.sk-toggleable__control:checked~label.sk-toggleable__label {background-color: #d4ebff;}#sk-container-id-1 div.sk-label input.sk-toggleable__control:checked~label.sk-toggleable__label {background-color: #d4ebff;}#sk-container-id-1 input.sk-hidden--visually {border: 0;clip: rect(1px 1px 1px 1px);clip: rect(1px, 1px, 1px, 1px);height: 1px;margin: -1px;overflow: hidden;padding: 0;position: absolute;width: 1px;}#sk-container-id-1 div.sk-estimator {font-family: monospace;background-color: #f0f8ff;border: 1px dotted black;border-radius: 0.25em;box-sizing: border-box;margin-bottom: 0.5em;}#sk-container-id-1 div.sk-estimator:hover {background-color: #d4ebff;}#sk-container-id-1 div.sk-parallel-item::after {content: \"\";width: 100%;border-bottom: 1px solid gray;flex-grow: 1;}#sk-container-id-1 div.sk-label:hover label.sk-toggleable__label {background-color: #d4ebff;}#sk-container-id-1 div.sk-serial::before {content: \"\";position: absolute;border-left: 1px solid gray;box-sizing: border-box;top: 0;bottom: 0;left: 50%;z-index: 0;}#sk-container-id-1 div.sk-serial {display: flex;flex-direction: column;align-items: center;background-color: white;padding-right: 0.2em;padding-left: 0.2em;position: relative;}#sk-container-id-1 div.sk-item {position: relative;z-index: 1;}#sk-container-id-1 div.sk-parallel {display: flex;align-items: stretch;justify-content: center;background-color: white;position: relative;}#sk-container-id-1 div.sk-item::before, #sk-container-id-1 div.sk-parallel-item::before {content: \"\";position: absolute;border-left: 1px solid gray;box-sizing: border-box;top: 0;bottom: 0;left: 50%;z-index: -1;}#sk-container-id-1 div.sk-parallel-item {display: flex;flex-direction: column;z-index: 1;position: relative;background-color: white;}#sk-container-id-1 div.sk-parallel-item:first-child::after {align-self: flex-end;width: 50%;}#sk-container-id-1 div.sk-parallel-item:last-child::after {align-self: flex-start;width: 50%;}#sk-container-id-1 div.sk-parallel-item:only-child::after {width: 0;}#sk-container-id-1 div.sk-dashed-wrapped {border: 1px dashed gray;margin: 0 0.4em 0.5em 0.4em;box-sizing: border-box;padding-bottom: 0.4em;background-color: white;}#sk-container-id-1 div.sk-label label {font-family: monospace;font-weight: bold;display: inline-block;line-height: 1.2em;}#sk-container-id-1 div.sk-label-container {text-align: center;}#sk-container-id-1 div.sk-container {/* jupyter's `normalize.less` sets `[hidden] { display: none; }` but bootstrap.min.css set `[hidden] { display: none !important; }` so we also need the `!important` here to be able to override the default hidden behavior on the sphinx rendered scikit-learn.org. See: https://github.com/scikit-learn/scikit-learn/issues/21755 */display: inline-block !important;position: relative;}#sk-container-id-1 div.sk-text-repr-fallback {display: none;}</style><div id=\"sk-container-id-1\" class=\"sk-top-container\"><div class=\"sk-text-repr-fallback\"><pre>GaussianNB()</pre><b>In a Jupyter environment, please rerun this cell to show the HTML representation or trust the notebook. <br />On GitHub, the HTML representation is unable to render, please try loading this page with nbviewer.org.</b></div><div class=\"sk-container\" hidden><div class=\"sk-item\"><div class=\"sk-estimator sk-toggleable\"><input class=\"sk-toggleable__control sk-hidden--visually\" id=\"sk-estimator-id-1\" type=\"checkbox\" checked><label for=\"sk-estimator-id-1\" class=\"sk-toggleable__label sk-toggleable__label-arrow\">GaussianNB</label><div class=\"sk-toggleable__content\"><pre>GaussianNB()</pre></div></div></div></div></div>"
            ]
          },
          "metadata": {},
          "execution_count": 32
        }
      ]
    },
    {
      "cell_type": "markdown",
      "source": [
        "### <font color=red> **2. Hacer predicciones con el algortimo usando los datos de prueba (X_test)** </font>"
      ],
      "metadata": {
        "id": "cRiIZHbt-UN0"
      }
    },
    {
      "cell_type": "code",
      "source": [
        "#¡Ahora hagamos algunas predicciones con nuestro algoritmo  recién entrenado!\n",
        "y_predictNB = modeloNB.predict(X_test)\n"
      ],
      "metadata": {
        "id": "a0KA6m4ZWl30"
      },
      "execution_count": null,
      "outputs": []
    },
    {
      "cell_type": "markdown",
      "source": [
        "### <font color=red> **3. Validar el modelo usando la matriz de confusion y la exactitus de nuestro modelo** </font>"
      ],
      "metadata": {
        "id": "9eQTGqUA-i7P"
      }
    },
    {
      "cell_type": "code",
      "source": [
        "#Ejecute la siguiente sentencia no modifique nada con ella vamos a imprimir los indicadores más importantes\n",
        "evaluacion (modeloNB,X_train,y_train,X_test,y_test,y_predictNB)"
      ],
      "metadata": {
        "id": "VqACOTAhWmzX",
        "colab": {
          "base_uri": "https://localhost:8080/"
        },
        "outputId": "b09354e8-4d77-4134-f163-026e46954993"
      },
      "execution_count": null,
      "outputs": [
        {
          "output_type": "stream",
          "name": "stdout",
          "text": [
            "_____________________________________________________\n",
            "   0_Continua Afiliado REAL  1_Se retira REAL\n",
            "0                        75                12\n",
            "1                         5               104 \n",
            "\n",
            "_____________________________________________________\n",
            "Exactitud en el set de Entrenamiento: 0.94 \n",
            "\n",
            "_____________________________________________________\n",
            "\u001b[1;33mLa exactitud del modelo con los datos de prueba es (ACCURACY)\n",
            "0.9132653061224489\n",
            "_____________________________________________________\n",
            "              precision    recall  f1-score   support\n",
            "\n",
            "           0       0.94      0.86      0.90        87\n",
            "           1       0.90      0.95      0.92       109\n",
            "\n",
            "    accuracy                           0.91       196\n",
            "   macro avg       0.92      0.91      0.91       196\n",
            "weighted avg       0.91      0.91      0.91       196\n",
            "\n",
            "_____________________________________________________\n"
          ]
        }
      ]
    },
    {
      "cell_type": "markdown",
      "source": [
        "  ## <font color=blue>**PARTE 3 BOSQUE ALEATORIO** *texto en cursiva*</font>\n"
      ],
      "metadata": {
        "id": "BsI4JdBG-_WL"
      }
    },
    {
      "cell_type": "markdown",
      "source": [
        "### <font color=red> **1. Entrenamiento de un modelo Bosques Aleatorios** </font>"
      ],
      "metadata": {
        "id": "Lo-gxsmt_E9y"
      }
    },
    {
      "cell_type": "code",
      "source": [
        "#A continuación, vamos a crear una instancia de la clase y asignarla a una variable denominada Bosque Aletorios\n",
        "#en vez de crear un solo arbol vamos a crear 100 arboles de una vez para mejorar la exactitud.\n",
        "#por eso el parámetro a usar es n_estimators = 10 y el criterio de selección los mejores features usaremos GINI\n",
        "modeloBA = RandomForestClassifier(n_estimators = 10, criterion = 'gini')\n",
        "#Ahora podemos entrenar nuestro modelo utilizando el método y nuestras y variables\n",
        "modeloBA.fit(X_train,y_train)"
      ],
      "metadata": {
        "id": "kyDpwGGXWwj6",
        "colab": {
          "base_uri": "https://localhost:8080/",
          "height": 75
        },
        "outputId": "3ccec93a-0101-4c6a-c5dd-3f3bf0720e77"
      },
      "execution_count": null,
      "outputs": [
        {
          "output_type": "execute_result",
          "data": {
            "text/plain": [
              "RandomForestClassifier(n_estimators=10)"
            ],
            "text/html": [
              "<style>#sk-container-id-2 {color: black;background-color: white;}#sk-container-id-2 pre{padding: 0;}#sk-container-id-2 div.sk-toggleable {background-color: white;}#sk-container-id-2 label.sk-toggleable__label {cursor: pointer;display: block;width: 100%;margin-bottom: 0;padding: 0.3em;box-sizing: border-box;text-align: center;}#sk-container-id-2 label.sk-toggleable__label-arrow:before {content: \"▸\";float: left;margin-right: 0.25em;color: #696969;}#sk-container-id-2 label.sk-toggleable__label-arrow:hover:before {color: black;}#sk-container-id-2 div.sk-estimator:hover label.sk-toggleable__label-arrow:before {color: black;}#sk-container-id-2 div.sk-toggleable__content {max-height: 0;max-width: 0;overflow: hidden;text-align: left;background-color: #f0f8ff;}#sk-container-id-2 div.sk-toggleable__content pre {margin: 0.2em;color: black;border-radius: 0.25em;background-color: #f0f8ff;}#sk-container-id-2 input.sk-toggleable__control:checked~div.sk-toggleable__content {max-height: 200px;max-width: 100%;overflow: auto;}#sk-container-id-2 input.sk-toggleable__control:checked~label.sk-toggleable__label-arrow:before {content: \"▾\";}#sk-container-id-2 div.sk-estimator input.sk-toggleable__control:checked~label.sk-toggleable__label {background-color: #d4ebff;}#sk-container-id-2 div.sk-label input.sk-toggleable__control:checked~label.sk-toggleable__label {background-color: #d4ebff;}#sk-container-id-2 input.sk-hidden--visually {border: 0;clip: rect(1px 1px 1px 1px);clip: rect(1px, 1px, 1px, 1px);height: 1px;margin: -1px;overflow: hidden;padding: 0;position: absolute;width: 1px;}#sk-container-id-2 div.sk-estimator {font-family: monospace;background-color: #f0f8ff;border: 1px dotted black;border-radius: 0.25em;box-sizing: border-box;margin-bottom: 0.5em;}#sk-container-id-2 div.sk-estimator:hover {background-color: #d4ebff;}#sk-container-id-2 div.sk-parallel-item::after {content: \"\";width: 100%;border-bottom: 1px solid gray;flex-grow: 1;}#sk-container-id-2 div.sk-label:hover label.sk-toggleable__label {background-color: #d4ebff;}#sk-container-id-2 div.sk-serial::before {content: \"\";position: absolute;border-left: 1px solid gray;box-sizing: border-box;top: 0;bottom: 0;left: 50%;z-index: 0;}#sk-container-id-2 div.sk-serial {display: flex;flex-direction: column;align-items: center;background-color: white;padding-right: 0.2em;padding-left: 0.2em;position: relative;}#sk-container-id-2 div.sk-item {position: relative;z-index: 1;}#sk-container-id-2 div.sk-parallel {display: flex;align-items: stretch;justify-content: center;background-color: white;position: relative;}#sk-container-id-2 div.sk-item::before, #sk-container-id-2 div.sk-parallel-item::before {content: \"\";position: absolute;border-left: 1px solid gray;box-sizing: border-box;top: 0;bottom: 0;left: 50%;z-index: -1;}#sk-container-id-2 div.sk-parallel-item {display: flex;flex-direction: column;z-index: 1;position: relative;background-color: white;}#sk-container-id-2 div.sk-parallel-item:first-child::after {align-self: flex-end;width: 50%;}#sk-container-id-2 div.sk-parallel-item:last-child::after {align-self: flex-start;width: 50%;}#sk-container-id-2 div.sk-parallel-item:only-child::after {width: 0;}#sk-container-id-2 div.sk-dashed-wrapped {border: 1px dashed gray;margin: 0 0.4em 0.5em 0.4em;box-sizing: border-box;padding-bottom: 0.4em;background-color: white;}#sk-container-id-2 div.sk-label label {font-family: monospace;font-weight: bold;display: inline-block;line-height: 1.2em;}#sk-container-id-2 div.sk-label-container {text-align: center;}#sk-container-id-2 div.sk-container {/* jupyter's `normalize.less` sets `[hidden] { display: none; }` but bootstrap.min.css set `[hidden] { display: none !important; }` so we also need the `!important` here to be able to override the default hidden behavior on the sphinx rendered scikit-learn.org. See: https://github.com/scikit-learn/scikit-learn/issues/21755 */display: inline-block !important;position: relative;}#sk-container-id-2 div.sk-text-repr-fallback {display: none;}</style><div id=\"sk-container-id-2\" class=\"sk-top-container\"><div class=\"sk-text-repr-fallback\"><pre>RandomForestClassifier(n_estimators=10)</pre><b>In a Jupyter environment, please rerun this cell to show the HTML representation or trust the notebook. <br />On GitHub, the HTML representation is unable to render, please try loading this page with nbviewer.org.</b></div><div class=\"sk-container\" hidden><div class=\"sk-item\"><div class=\"sk-estimator sk-toggleable\"><input class=\"sk-toggleable__control sk-hidden--visually\" id=\"sk-estimator-id-2\" type=\"checkbox\" checked><label for=\"sk-estimator-id-2\" class=\"sk-toggleable__label sk-toggleable__label-arrow\">RandomForestClassifier</label><div class=\"sk-toggleable__content\"><pre>RandomForestClassifier(n_estimators=10)</pre></div></div></div></div></div>"
            ]
          },
          "metadata": {},
          "execution_count": 35
        }
      ]
    },
    {
      "cell_type": "markdown",
      "source": [
        "### <font color=red> **2. Hacer predicciones con el algortimo usando los datos de prueba (X_test)** </font>"
      ],
      "metadata": {
        "id": "DpiwzN-w_ZxW"
      }
    },
    {
      "cell_type": "code",
      "source": [
        "#¡Ahora hagamos algunas predicciones con nuestro algoritmo  recién entrenado!\n",
        "y_predictBA = modeloBA.predict(X_test)\n"
      ],
      "metadata": {
        "id": "w9JodbDsXqT1"
      },
      "execution_count": null,
      "outputs": []
    },
    {
      "cell_type": "markdown",
      "source": [
        "### <font color=red> **3. Validar el modelo usando la matriz de confusion y la exactitus de nuestro modelo** </font>"
      ],
      "metadata": {
        "id": "qhZTOk9K_bul"
      }
    },
    {
      "cell_type": "code",
      "source": [
        "#Ejecute la siguiente sentencia no modifique nada con ella vamos a imprimir los indicadores más importantes\n",
        "evaluacion (modeloBA,X_train,y_train,X_test,y_test,y_predictBA)"
      ],
      "metadata": {
        "id": "FmUBivXhXvja",
        "colab": {
          "base_uri": "https://localhost:8080/"
        },
        "outputId": "5f6d0b05-2d6a-4088-fd92-570cc836bf60"
      },
      "execution_count": null,
      "outputs": [
        {
          "output_type": "stream",
          "name": "stdout",
          "text": [
            "_____________________________________________________\n",
            "   0_Continua Afiliado REAL  1_Se retira REAL\n",
            "0                        77                10\n",
            "1                         7               102 \n",
            "\n",
            "_____________________________________________________\n",
            "Exactitud en el set de Entrenamiento: 1.00 \n",
            "\n",
            "_____________________________________________________\n",
            "\u001b[1;33mLa exactitud del modelo con los datos de prueba es (ACCURACY)\n",
            "0.9132653061224489\n",
            "_____________________________________________________\n",
            "              precision    recall  f1-score   support\n",
            "\n",
            "           0       0.92      0.89      0.90        87\n",
            "           1       0.91      0.94      0.92       109\n",
            "\n",
            "    accuracy                           0.91       196\n",
            "   macro avg       0.91      0.91      0.91       196\n",
            "weighted avg       0.91      0.91      0.91       196\n",
            "\n",
            "_____________________________________________________\n"
          ]
        }
      ]
    },
    {
      "cell_type": "markdown",
      "source": [
        "## <font color=blue>**PARTE 4 SVM Clasificación**</font>\n"
      ],
      "metadata": {
        "id": "lURorVwa_jIF"
      }
    },
    {
      "cell_type": "markdown",
      "source": [
        "## <font color=red> **1. Entrenamiento de un SVC** </font>"
      ],
      "metadata": {
        "id": "k3icDBNF_y9h"
      }
    },
    {
      "cell_type": "code",
      "source": [
        "#A continuación, vamos a crear una instancia de la clase y asignarla a una variable denominada SVC\n",
        "#modeloSVC = SVR(kernel='rbf')\n",
        "modeloSVC = SVC(C = 100, kernel = 'linear', random_state=123)\n",
        "#Ahora podemos entrenar nuestro modelo utilizando el método y nuestras y variables\n",
        "modeloSVC.fit(X_train,y_train)"
      ],
      "metadata": {
        "id": "kz9XabI8X9zd",
        "colab": {
          "base_uri": "https://localhost:8080/",
          "height": 75
        },
        "outputId": "5c5ddddd-ff87-40ad-da5c-b981b92ef225"
      },
      "execution_count": null,
      "outputs": [
        {
          "output_type": "execute_result",
          "data": {
            "text/plain": [
              "SVC(C=100, kernel='linear', random_state=123)"
            ],
            "text/html": [
              "<style>#sk-container-id-3 {color: black;background-color: white;}#sk-container-id-3 pre{padding: 0;}#sk-container-id-3 div.sk-toggleable {background-color: white;}#sk-container-id-3 label.sk-toggleable__label {cursor: pointer;display: block;width: 100%;margin-bottom: 0;padding: 0.3em;box-sizing: border-box;text-align: center;}#sk-container-id-3 label.sk-toggleable__label-arrow:before {content: \"▸\";float: left;margin-right: 0.25em;color: #696969;}#sk-container-id-3 label.sk-toggleable__label-arrow:hover:before {color: black;}#sk-container-id-3 div.sk-estimator:hover label.sk-toggleable__label-arrow:before {color: black;}#sk-container-id-3 div.sk-toggleable__content {max-height: 0;max-width: 0;overflow: hidden;text-align: left;background-color: #f0f8ff;}#sk-container-id-3 div.sk-toggleable__content pre {margin: 0.2em;color: black;border-radius: 0.25em;background-color: #f0f8ff;}#sk-container-id-3 input.sk-toggleable__control:checked~div.sk-toggleable__content {max-height: 200px;max-width: 100%;overflow: auto;}#sk-container-id-3 input.sk-toggleable__control:checked~label.sk-toggleable__label-arrow:before {content: \"▾\";}#sk-container-id-3 div.sk-estimator input.sk-toggleable__control:checked~label.sk-toggleable__label {background-color: #d4ebff;}#sk-container-id-3 div.sk-label input.sk-toggleable__control:checked~label.sk-toggleable__label {background-color: #d4ebff;}#sk-container-id-3 input.sk-hidden--visually {border: 0;clip: rect(1px 1px 1px 1px);clip: rect(1px, 1px, 1px, 1px);height: 1px;margin: -1px;overflow: hidden;padding: 0;position: absolute;width: 1px;}#sk-container-id-3 div.sk-estimator {font-family: monospace;background-color: #f0f8ff;border: 1px dotted black;border-radius: 0.25em;box-sizing: border-box;margin-bottom: 0.5em;}#sk-container-id-3 div.sk-estimator:hover {background-color: #d4ebff;}#sk-container-id-3 div.sk-parallel-item::after {content: \"\";width: 100%;border-bottom: 1px solid gray;flex-grow: 1;}#sk-container-id-3 div.sk-label:hover label.sk-toggleable__label {background-color: #d4ebff;}#sk-container-id-3 div.sk-serial::before {content: \"\";position: absolute;border-left: 1px solid gray;box-sizing: border-box;top: 0;bottom: 0;left: 50%;z-index: 0;}#sk-container-id-3 div.sk-serial {display: flex;flex-direction: column;align-items: center;background-color: white;padding-right: 0.2em;padding-left: 0.2em;position: relative;}#sk-container-id-3 div.sk-item {position: relative;z-index: 1;}#sk-container-id-3 div.sk-parallel {display: flex;align-items: stretch;justify-content: center;background-color: white;position: relative;}#sk-container-id-3 div.sk-item::before, #sk-container-id-3 div.sk-parallel-item::before {content: \"\";position: absolute;border-left: 1px solid gray;box-sizing: border-box;top: 0;bottom: 0;left: 50%;z-index: -1;}#sk-container-id-3 div.sk-parallel-item {display: flex;flex-direction: column;z-index: 1;position: relative;background-color: white;}#sk-container-id-3 div.sk-parallel-item:first-child::after {align-self: flex-end;width: 50%;}#sk-container-id-3 div.sk-parallel-item:last-child::after {align-self: flex-start;width: 50%;}#sk-container-id-3 div.sk-parallel-item:only-child::after {width: 0;}#sk-container-id-3 div.sk-dashed-wrapped {border: 1px dashed gray;margin: 0 0.4em 0.5em 0.4em;box-sizing: border-box;padding-bottom: 0.4em;background-color: white;}#sk-container-id-3 div.sk-label label {font-family: monospace;font-weight: bold;display: inline-block;line-height: 1.2em;}#sk-container-id-3 div.sk-label-container {text-align: center;}#sk-container-id-3 div.sk-container {/* jupyter's `normalize.less` sets `[hidden] { display: none; }` but bootstrap.min.css set `[hidden] { display: none !important; }` so we also need the `!important` here to be able to override the default hidden behavior on the sphinx rendered scikit-learn.org. See: https://github.com/scikit-learn/scikit-learn/issues/21755 */display: inline-block !important;position: relative;}#sk-container-id-3 div.sk-text-repr-fallback {display: none;}</style><div id=\"sk-container-id-3\" class=\"sk-top-container\"><div class=\"sk-text-repr-fallback\"><pre>SVC(C=100, kernel=&#x27;linear&#x27;, random_state=123)</pre><b>In a Jupyter environment, please rerun this cell to show the HTML representation or trust the notebook. <br />On GitHub, the HTML representation is unable to render, please try loading this page with nbviewer.org.</b></div><div class=\"sk-container\" hidden><div class=\"sk-item\"><div class=\"sk-estimator sk-toggleable\"><input class=\"sk-toggleable__control sk-hidden--visually\" id=\"sk-estimator-id-3\" type=\"checkbox\" checked><label for=\"sk-estimator-id-3\" class=\"sk-toggleable__label sk-toggleable__label-arrow\">SVC</label><div class=\"sk-toggleable__content\"><pre>SVC(C=100, kernel=&#x27;linear&#x27;, random_state=123)</pre></div></div></div></div></div>"
            ]
          },
          "metadata": {},
          "execution_count": 38
        }
      ]
    },
    {
      "cell_type": "markdown",
      "source": [
        "# <font color=red> **2. Hacer predicciones con el algortimo usando los datos de prueba (X_test)** </font>"
      ],
      "metadata": {
        "id": "uhpgjCyN_5r5"
      }
    },
    {
      "cell_type": "code",
      "source": [
        "#¡Ahora hagamos algunas predicciones con nuestro algoritmo  recién entrenado!\n",
        "y_predictSVC = modeloSVC.predict(X_test)"
      ],
      "metadata": {
        "id": "XvaFifQbZLAV"
      },
      "execution_count": null,
      "outputs": []
    },
    {
      "cell_type": "markdown",
      "source": [
        "# <font color=red> **3. Validar el modelo usando la matriz de confusion y la exactitus de nuestro modelo** </font>"
      ],
      "metadata": {
        "id": "UYfPF7U2_3AU"
      }
    },
    {
      "cell_type": "code",
      "source": [
        "#Ejecute la siguiente sentencia no modifique nada con ella vamos a imprimir los indicadores más importantes\n",
        "evaluacion (modeloSVC,X_train,y_train,X_test,y_test,y_predictSVC)"
      ],
      "metadata": {
        "id": "i3cJQDhrZSg0",
        "colab": {
          "base_uri": "https://localhost:8080/"
        },
        "outputId": "dc85c3be-84b0-4b07-df17-b9261342723c"
      },
      "execution_count": null,
      "outputs": [
        {
          "output_type": "stream",
          "name": "stdout",
          "text": [
            "_____________________________________________________\n",
            "   0_Continua Afiliado REAL  1_Se retira REAL\n",
            "0                        74                13\n",
            "1                         3               106 \n",
            "\n",
            "_____________________________________________________\n",
            "Exactitud en el set de Entrenamiento: 0.95 \n",
            "\n",
            "_____________________________________________________\n",
            "\u001b[1;33mLa exactitud del modelo con los datos de prueba es (ACCURACY)\n",
            "0.9183673469387755\n",
            "_____________________________________________________\n",
            "              precision    recall  f1-score   support\n",
            "\n",
            "           0       0.96      0.85      0.90        87\n",
            "           1       0.89      0.97      0.93       109\n",
            "\n",
            "    accuracy                           0.92       196\n",
            "   macro avg       0.93      0.91      0.92       196\n",
            "weighted avg       0.92      0.92      0.92       196\n",
            "\n",
            "_____________________________________________________\n"
          ]
        }
      ]
    },
    {
      "cell_type": "markdown",
      "source": [
        "## <font color=blue>**PARTE 4 KNN**</font>"
      ],
      "metadata": {
        "id": "3jHEyUWgAA11"
      }
    },
    {
      "cell_type": "markdown",
      "source": [
        "### <font color=red> **1. Entrenamiento de un KNN** </font>"
      ],
      "metadata": {
        "id": "8jd9tgp3AHXC"
      }
    },
    {
      "cell_type": "code",
      "source": [
        "#A continuación, vamos a crear una instancia de la clase y asignarla a una variable denominada KNN\n",
        "#Esta clase requiere un parámetro denominado , que es igual al valor del algoritmo de vecinos K más cercano que está construyendo. Para empezar, especifiquemos\n",
        "modeloKNN = KNeighborsClassifier(n_neighbors = 1)\n",
        "#Ahora podemos entrenar nuestro modelo utilizando el método y nuestras y variables\n",
        "modeloKNN.fit(X_train,y_train)"
      ],
      "metadata": {
        "id": "2J102uY_cDI3",
        "colab": {
          "base_uri": "https://localhost:8080/",
          "height": 75
        },
        "outputId": "3c06e08d-6037-4c41-8e2c-2add3079236a"
      },
      "execution_count": null,
      "outputs": [
        {
          "output_type": "execute_result",
          "data": {
            "text/plain": [
              "KNeighborsClassifier(n_neighbors=1)"
            ],
            "text/html": [
              "<style>#sk-container-id-4 {color: black;background-color: white;}#sk-container-id-4 pre{padding: 0;}#sk-container-id-4 div.sk-toggleable {background-color: white;}#sk-container-id-4 label.sk-toggleable__label {cursor: pointer;display: block;width: 100%;margin-bottom: 0;padding: 0.3em;box-sizing: border-box;text-align: center;}#sk-container-id-4 label.sk-toggleable__label-arrow:before {content: \"▸\";float: left;margin-right: 0.25em;color: #696969;}#sk-container-id-4 label.sk-toggleable__label-arrow:hover:before {color: black;}#sk-container-id-4 div.sk-estimator:hover label.sk-toggleable__label-arrow:before {color: black;}#sk-container-id-4 div.sk-toggleable__content {max-height: 0;max-width: 0;overflow: hidden;text-align: left;background-color: #f0f8ff;}#sk-container-id-4 div.sk-toggleable__content pre {margin: 0.2em;color: black;border-radius: 0.25em;background-color: #f0f8ff;}#sk-container-id-4 input.sk-toggleable__control:checked~div.sk-toggleable__content {max-height: 200px;max-width: 100%;overflow: auto;}#sk-container-id-4 input.sk-toggleable__control:checked~label.sk-toggleable__label-arrow:before {content: \"▾\";}#sk-container-id-4 div.sk-estimator input.sk-toggleable__control:checked~label.sk-toggleable__label {background-color: #d4ebff;}#sk-container-id-4 div.sk-label input.sk-toggleable__control:checked~label.sk-toggleable__label {background-color: #d4ebff;}#sk-container-id-4 input.sk-hidden--visually {border: 0;clip: rect(1px 1px 1px 1px);clip: rect(1px, 1px, 1px, 1px);height: 1px;margin: -1px;overflow: hidden;padding: 0;position: absolute;width: 1px;}#sk-container-id-4 div.sk-estimator {font-family: monospace;background-color: #f0f8ff;border: 1px dotted black;border-radius: 0.25em;box-sizing: border-box;margin-bottom: 0.5em;}#sk-container-id-4 div.sk-estimator:hover {background-color: #d4ebff;}#sk-container-id-4 div.sk-parallel-item::after {content: \"\";width: 100%;border-bottom: 1px solid gray;flex-grow: 1;}#sk-container-id-4 div.sk-label:hover label.sk-toggleable__label {background-color: #d4ebff;}#sk-container-id-4 div.sk-serial::before {content: \"\";position: absolute;border-left: 1px solid gray;box-sizing: border-box;top: 0;bottom: 0;left: 50%;z-index: 0;}#sk-container-id-4 div.sk-serial {display: flex;flex-direction: column;align-items: center;background-color: white;padding-right: 0.2em;padding-left: 0.2em;position: relative;}#sk-container-id-4 div.sk-item {position: relative;z-index: 1;}#sk-container-id-4 div.sk-parallel {display: flex;align-items: stretch;justify-content: center;background-color: white;position: relative;}#sk-container-id-4 div.sk-item::before, #sk-container-id-4 div.sk-parallel-item::before {content: \"\";position: absolute;border-left: 1px solid gray;box-sizing: border-box;top: 0;bottom: 0;left: 50%;z-index: -1;}#sk-container-id-4 div.sk-parallel-item {display: flex;flex-direction: column;z-index: 1;position: relative;background-color: white;}#sk-container-id-4 div.sk-parallel-item:first-child::after {align-self: flex-end;width: 50%;}#sk-container-id-4 div.sk-parallel-item:last-child::after {align-self: flex-start;width: 50%;}#sk-container-id-4 div.sk-parallel-item:only-child::after {width: 0;}#sk-container-id-4 div.sk-dashed-wrapped {border: 1px dashed gray;margin: 0 0.4em 0.5em 0.4em;box-sizing: border-box;padding-bottom: 0.4em;background-color: white;}#sk-container-id-4 div.sk-label label {font-family: monospace;font-weight: bold;display: inline-block;line-height: 1.2em;}#sk-container-id-4 div.sk-label-container {text-align: center;}#sk-container-id-4 div.sk-container {/* jupyter's `normalize.less` sets `[hidden] { display: none; }` but bootstrap.min.css set `[hidden] { display: none !important; }` so we also need the `!important` here to be able to override the default hidden behavior on the sphinx rendered scikit-learn.org. See: https://github.com/scikit-learn/scikit-learn/issues/21755 */display: inline-block !important;position: relative;}#sk-container-id-4 div.sk-text-repr-fallback {display: none;}</style><div id=\"sk-container-id-4\" class=\"sk-top-container\"><div class=\"sk-text-repr-fallback\"><pre>KNeighborsClassifier(n_neighbors=1)</pre><b>In a Jupyter environment, please rerun this cell to show the HTML representation or trust the notebook. <br />On GitHub, the HTML representation is unable to render, please try loading this page with nbviewer.org.</b></div><div class=\"sk-container\" hidden><div class=\"sk-item\"><div class=\"sk-estimator sk-toggleable\"><input class=\"sk-toggleable__control sk-hidden--visually\" id=\"sk-estimator-id-4\" type=\"checkbox\" checked><label for=\"sk-estimator-id-4\" class=\"sk-toggleable__label sk-toggleable__label-arrow\">KNeighborsClassifier</label><div class=\"sk-toggleable__content\"><pre>KNeighborsClassifier(n_neighbors=1)</pre></div></div></div></div></div>"
            ]
          },
          "metadata": {},
          "execution_count": 41
        }
      ]
    },
    {
      "cell_type": "markdown",
      "source": [
        "### <font color=red> **2. Hacer predicciones con el algortimo usando los datos de prueba (X_test)** </font>"
      ],
      "metadata": {
        "id": "3AbhPAK5APer"
      }
    },
    {
      "cell_type": "code",
      "source": [
        "#¡Ahora hagamos algunas predicciones con nuestro algoritmo  recién entrenado!\n",
        "y_predictKNN = modeloKNN.predict(X_test)"
      ],
      "metadata": {
        "id": "vDLqNUcNcpnU"
      },
      "execution_count": null,
      "outputs": []
    },
    {
      "cell_type": "markdown",
      "source": [
        "### <font color=red> **3. Validar el modelo usando la matriz de confusion y la exactitus de nuestro modelo** </font>"
      ],
      "metadata": {
        "id": "IDnkFfWyANJq"
      }
    },
    {
      "cell_type": "code",
      "source": [
        "#Ejecute la siguiente sentencia no modifique nada con ella vamos a imprimir los indicadores más importantes\n",
        "evaluacion (modeloKNN,X_train,y_train,X_test,y_test,y_predictSVC)"
      ],
      "metadata": {
        "id": "hTEgr4K-2hkJ",
        "colab": {
          "base_uri": "https://localhost:8080/"
        },
        "outputId": "5b501629-2c48-4149-dde3-76aa8306ff98"
      },
      "execution_count": null,
      "outputs": [
        {
          "output_type": "stream",
          "name": "stdout",
          "text": [
            "_____________________________________________________\n",
            "   0_Continua Afiliado REAL  1_Se retira REAL\n",
            "0                        74                13\n",
            "1                         3               106 \n",
            "\n",
            "_____________________________________________________\n",
            "Exactitud en el set de Entrenamiento: 1.00 \n",
            "\n",
            "_____________________________________________________\n",
            "\u001b[1;33mLa exactitud del modelo con los datos de prueba es (ACCURACY)\n",
            "0.9183673469387755\n",
            "_____________________________________________________\n",
            "              precision    recall  f1-score   support\n",
            "\n",
            "           0       0.96      0.85      0.90        87\n",
            "           1       0.89      0.97      0.93       109\n",
            "\n",
            "    accuracy                           0.92       196\n",
            "   macro avg       0.93      0.91      0.92       196\n",
            "weighted avg       0.92      0.92      0.92       196\n",
            "\n",
            "_____________________________________________________\n"
          ]
        }
      ]
    },
    {
      "cell_type": "markdown",
      "source": [
        "## <font color=blue>**PARTE 5 ANALISIS FINAL**</font>\n",
        "\n",
        "\n",
        "\n"
      ],
      "metadata": {
        "id": "4jC0epy1d15Q"
      }
    },
    {
      "cell_type": "markdown",
      "source": [
        "1. Comparar los modelos y determinar las razones para escoger el modelo seleccionado"
      ],
      "metadata": {
        "id": "n-GJeeLQdqyY"
      }
    },
    {
      "cell_type": "code",
      "source": [
        "Modelo = ['Näive Bayes', 'Bosques Aleatorios', 'Suppor Vector Machine', \"K Vecinos\"]\n",
        "Accuracy = [accuracy_score(y_test,y_predictNB), accuracy_score(y_test,y_predictBA),accuracy_score(y_test,y_predictSVC),accuracy_score(y_test,y_predictKNN)]\n",
        "Comparacion= pd.DataFrame()\n",
        "Comparacion['Modelo'] = Modelo\n",
        "Comparacion['Accuracy'] = Accuracy\n",
        "Comparacion"
      ],
      "metadata": {
        "id": "sgz5y5pEdpWW",
        "colab": {
          "base_uri": "https://localhost:8080/",
          "height": 175
        },
        "outputId": "fb731e7c-b09d-4e91-903a-fa99cb7241b6"
      },
      "execution_count": null,
      "outputs": [
        {
          "output_type": "execute_result",
          "data": {
            "text/plain": [
              "                  Modelo  Accuracy\n",
              "0            Näive Bayes  0.913265\n",
              "1     Bosques Aleatorios  0.913265\n",
              "2  Suppor Vector Machine  0.918367\n",
              "3              K Vecinos  0.872449"
            ],
            "text/html": [
              "\n",
              "  <div id=\"df-de2eddb0-2fb1-4fd0-89d5-6994a8132327\">\n",
              "    <div class=\"colab-df-container\">\n",
              "      <div>\n",
              "<style scoped>\n",
              "    .dataframe tbody tr th:only-of-type {\n",
              "        vertical-align: middle;\n",
              "    }\n",
              "\n",
              "    .dataframe tbody tr th {\n",
              "        vertical-align: top;\n",
              "    }\n",
              "\n",
              "    .dataframe thead th {\n",
              "        text-align: right;\n",
              "    }\n",
              "</style>\n",
              "<table border=\"1\" class=\"dataframe\">\n",
              "  <thead>\n",
              "    <tr style=\"text-align: right;\">\n",
              "      <th></th>\n",
              "      <th>Modelo</th>\n",
              "      <th>Accuracy</th>\n",
              "    </tr>\n",
              "  </thead>\n",
              "  <tbody>\n",
              "    <tr>\n",
              "      <th>0</th>\n",
              "      <td>Näive Bayes</td>\n",
              "      <td>0.913265</td>\n",
              "    </tr>\n",
              "    <tr>\n",
              "      <th>1</th>\n",
              "      <td>Bosques Aleatorios</td>\n",
              "      <td>0.913265</td>\n",
              "    </tr>\n",
              "    <tr>\n",
              "      <th>2</th>\n",
              "      <td>Suppor Vector Machine</td>\n",
              "      <td>0.918367</td>\n",
              "    </tr>\n",
              "    <tr>\n",
              "      <th>3</th>\n",
              "      <td>K Vecinos</td>\n",
              "      <td>0.872449</td>\n",
              "    </tr>\n",
              "  </tbody>\n",
              "</table>\n",
              "</div>\n",
              "      <button class=\"colab-df-convert\" onclick=\"convertToInteractive('df-de2eddb0-2fb1-4fd0-89d5-6994a8132327')\"\n",
              "              title=\"Convert this dataframe to an interactive table.\"\n",
              "              style=\"display:none;\">\n",
              "        \n",
              "  <svg xmlns=\"http://www.w3.org/2000/svg\" height=\"24px\"viewBox=\"0 0 24 24\"\n",
              "       width=\"24px\">\n",
              "    <path d=\"M0 0h24v24H0V0z\" fill=\"none\"/>\n",
              "    <path d=\"M18.56 5.44l.94 2.06.94-2.06 2.06-.94-2.06-.94-.94-2.06-.94 2.06-2.06.94zm-11 1L8.5 8.5l.94-2.06 2.06-.94-2.06-.94L8.5 2.5l-.94 2.06-2.06.94zm10 10l.94 2.06.94-2.06 2.06-.94-2.06-.94-.94-2.06-.94 2.06-2.06.94z\"/><path d=\"M17.41 7.96l-1.37-1.37c-.4-.4-.92-.59-1.43-.59-.52 0-1.04.2-1.43.59L10.3 9.45l-7.72 7.72c-.78.78-.78 2.05 0 2.83L4 21.41c.39.39.9.59 1.41.59.51 0 1.02-.2 1.41-.59l7.78-7.78 2.81-2.81c.8-.78.8-2.07 0-2.86zM5.41 20L4 18.59l7.72-7.72 1.47 1.35L5.41 20z\"/>\n",
              "  </svg>\n",
              "      </button>\n",
              "      \n",
              "  <style>\n",
              "    .colab-df-container {\n",
              "      display:flex;\n",
              "      flex-wrap:wrap;\n",
              "      gap: 12px;\n",
              "    }\n",
              "\n",
              "    .colab-df-convert {\n",
              "      background-color: #E8F0FE;\n",
              "      border: none;\n",
              "      border-radius: 50%;\n",
              "      cursor: pointer;\n",
              "      display: none;\n",
              "      fill: #1967D2;\n",
              "      height: 32px;\n",
              "      padding: 0 0 0 0;\n",
              "      width: 32px;\n",
              "    }\n",
              "\n",
              "    .colab-df-convert:hover {\n",
              "      background-color: #E2EBFA;\n",
              "      box-shadow: 0px 1px 2px rgba(60, 64, 67, 0.3), 0px 1px 3px 1px rgba(60, 64, 67, 0.15);\n",
              "      fill: #174EA6;\n",
              "    }\n",
              "\n",
              "    [theme=dark] .colab-df-convert {\n",
              "      background-color: #3B4455;\n",
              "      fill: #D2E3FC;\n",
              "    }\n",
              "\n",
              "    [theme=dark] .colab-df-convert:hover {\n",
              "      background-color: #434B5C;\n",
              "      box-shadow: 0px 1px 3px 1px rgba(0, 0, 0, 0.15);\n",
              "      filter: drop-shadow(0px 1px 2px rgba(0, 0, 0, 0.3));\n",
              "      fill: #FFFFFF;\n",
              "    }\n",
              "  </style>\n",
              "\n",
              "      <script>\n",
              "        const buttonEl =\n",
              "          document.querySelector('#df-de2eddb0-2fb1-4fd0-89d5-6994a8132327 button.colab-df-convert');\n",
              "        buttonEl.style.display =\n",
              "          google.colab.kernel.accessAllowed ? 'block' : 'none';\n",
              "\n",
              "        async function convertToInteractive(key) {\n",
              "          const element = document.querySelector('#df-de2eddb0-2fb1-4fd0-89d5-6994a8132327');\n",
              "          const dataTable =\n",
              "            await google.colab.kernel.invokeFunction('convertToInteractive',\n",
              "                                                     [key], {});\n",
              "          if (!dataTable) return;\n",
              "\n",
              "          const docLinkHtml = 'Like what you see? Visit the ' +\n",
              "            '<a target=\"_blank\" href=https://colab.research.google.com/notebooks/data_table.ipynb>data table notebook</a>'\n",
              "            + ' to learn more about interactive tables.';\n",
              "          element.innerHTML = '';\n",
              "          dataTable['output_type'] = 'display_data';\n",
              "          await google.colab.output.renderOutput(dataTable, element);\n",
              "          const docLink = document.createElement('div');\n",
              "          docLink.innerHTML = docLinkHtml;\n",
              "          element.appendChild(docLink);\n",
              "        }\n",
              "      </script>\n",
              "    </div>\n",
              "  </div>\n",
              "  "
            ]
          },
          "metadata": {},
          "execution_count": 44
        }
      ]
    },
    {
      "cell_type": "markdown",
      "source": [
        "### Cuál modelo usted escogería para realizar un modelo y porqué?\n",
        "\n",
        "Respuesta:\n",
        "Al validar los 4 modelos observamos que Näive Bayes y Suppor Vector Machine son los que mas tienen Accuracy, yo usaria  `Suppor Vector Machine` ya que tiene un 91% de Accuracy"
      ],
      "metadata": {
        "id": "Vlgwg0Z5fSMX"
      }
    },
    {
      "cell_type": "markdown",
      "source": [
        "2. Salvar el modelo seleccionado"
      ],
      "metadata": {
        "id": "O5nVkL56fp24"
      }
    },
    {
      "cell_type": "code",
      "source": [
        "# Guardar el modelo en un archivo para entregarselo a un programador y que haga un APP Útil\n",
        "#En la linea coloque el nombre del modelo seleccionado y guárdelo como 'Modelo_Churn.pkl': \n",
        "joblib.dump(modeloSVC, 'Modelo_Churn.pkl') "
      ],
      "metadata": {
        "id": "5vTfnfQMf59u",
        "colab": {
          "base_uri": "https://localhost:8080/"
        },
        "outputId": "92ba3174-41a4-45b0-ffc1-0bdcb79563e6"
      },
      "execution_count": null,
      "outputs": [
        {
          "output_type": "execute_result",
          "data": {
            "text/plain": [
              "['Modelo_Churn.pkl']"
            ]
          },
          "metadata": {},
          "execution_count": 45
        }
      ]
    },
    {
      "cell_type": "markdown",
      "source": [],
      "metadata": {
        "id": "u2IuGl35LphF"
      }
    },
    {
      "cell_type": "markdown",
      "source": [
        "## <font color=blue>**CALIFICACION GENERAL**</font>"
      ],
      "metadata": {
        "id": "SqzKH7sUhLtG"
      }
    },
    {
      "cell_type": "markdown",
      "source": [
        "Si desea saber cuál es su calificación, ejecute las siguientes línea y tendrá la calificación del taller.\n",
        "\n",
        "Si desea hacer ajustes y volver a calificar deberá ir a ***Entorno de ejecución*** y ***seleccionar Reiniciar y ejecutar todo***\n"
      ],
      "metadata": {
        "id": "3-fU1nwOhPwy"
      }
    },
    {
      "cell_type": "code",
      "source": [
        "!pip install wget\n",
        "import wget"
      ],
      "metadata": {
        "id": "V6L5UaXahI3M",
        "colab": {
          "base_uri": "https://localhost:8080/"
        },
        "outputId": "1ddd2773-6c4e-49c1-fc67-7ce99f397c1c"
      },
      "execution_count": null,
      "outputs": [
        {
          "output_type": "stream",
          "name": "stdout",
          "text": [
            "Looking in indexes: https://pypi.org/simple, https://us-python.pkg.dev/colab-wheels/public/simple/\n",
            "Collecting wget\n",
            "  Downloading wget-3.2.zip (10 kB)\n",
            "  Preparing metadata (setup.py) ... \u001b[?25l\u001b[?25hdone\n",
            "Building wheels for collected packages: wget\n",
            "  Building wheel for wget (setup.py) ... \u001b[?25l\u001b[?25hdone\n",
            "  Created wheel for wget: filename=wget-3.2-py3-none-any.whl size=9676 sha256=2be27ba2296e472aed3e7642305e87648850f8aee11ad9c28b09820904c65f5c\n",
            "  Stored in directory: /root/.cache/pip/wheels/04/5f/3e/46cc37c5d698415694d83f607f833f83f0149e49b3af9d0f38\n",
            "Successfully built wget\n",
            "Installing collected packages: wget\n",
            "Successfully installed wget-3.2\n"
          ]
        }
      ]
    },
    {
      "cell_type": "code",
      "source": [
        "site_url = 'https://raw.githubusercontent.com/adiacla/bigdata/master/utilidad.py'\n",
        "file_name = wget.download(site_url)"
      ],
      "metadata": {
        "id": "JSsnLTCyLEXV"
      },
      "execution_count": null,
      "outputs": []
    },
    {
      "cell_type": "code",
      "source": [
        "import utilidad\n",
        "nota=utilidad.calificacion(df,nulosfinales,y_predictNB,y_predictBA,y_predictSVC,y_predictKNN)\n",
        "print(\"La Nota final es\", \"{:.2f}\".format(nota))"
      ],
      "metadata": {
        "id": "B5nvua4_mZ7W",
        "colab": {
          "base_uri": "https://localhost:8080/"
        },
        "outputId": "617f02fa-40a2-4faa-9834-b7174041a3d5"
      },
      "execution_count": null,
      "outputs": [
        {
          "output_type": "stream",
          "name": "stdout",
          "text": [
            "________________________________________________________\n",
            "\n",
            "\n",
            "1. El dataframe quedó bien cargado, tiene 1 punto \n",
            "\n",
            "________________________________________________________\n",
            "\n",
            "\n",
            "2. Si borró la primera columna Unnamed: 0, tiene 1 punto \n",
            "\n",
            "________________________________________________________\n",
            "\n",
            "\n",
            "3. Si borró la  columna CATEG, tiene 1 punto \n",
            "\n",
            "________________________________________________________\n",
            "\n",
            "\n",
            "4. Si proceso todos los nulos, tiene 1 punto \n",
            "\n",
            "________________________________________________________\n",
            "\n",
            "\n",
            "5. Quito los oytlayer de COMPPRES , tiene 1 punto \n",
            "\n",
            "________________________________________________________\n",
            "\n",
            "\n",
            "6. El dataframe quedó con 980 rows , tiene 1 punto \n",
            "\n",
            "________________________________________________________\n",
            "\n",
            "\n",
            "7. Si borró la  columna ANTIG, que tenía colinealidad, tiene 1 punto \n",
            "\n",
            "________________________________________________________\n",
            "\n",
            "\n",
            "8. Si realizó la predicion en NB , tiene 1 punto \n",
            "\n",
            "________________________________________________________\n",
            "\n",
            "\n",
            "9. Si realizó la predicion en Bosques Aleatorios , tiene 1 punto \n",
            "\n",
            "________________________________________________________\n",
            "\n",
            "\n",
            "10. Si realizó la predicion en SVC , tiene 1 punto \n",
            "\n",
            "________________________________________________________\n",
            "\n",
            "\n",
            "11. Si realizó la predicion en KNN , tiene 1 punto \n",
            "\n",
            "________________________________________________________\n",
            "\n",
            "\n",
            "12. Si seleccionó el mejor modelo , tiene 1 punto \n",
            "\n",
            "________________________________________________________\n",
            "\n",
            "\n",
            "FELICITACIONES HA APROBADO EL EXAMEN\n"
          ]
        },
        {
          "output_type": "display_data",
          "data": {
            "text/plain": [
              "<PIL.JpegImagePlugin.JpegImageFile image mode=RGB size=225x225 at 0x7FB64E7CE820>"
            ],
            "image/png": "[encoded data removed]"
          },
          "metadata": {}
        },
        {
          "output_type": "stream",
          "name": "stdout",
          "text": [
            "La Nota final es 10.00\n"
          ]
        }
      ]
    }
  ]
}